{
 "cells": [
  {
   "cell_type": "markdown",
   "metadata": {},
   "source": [
    "# Starbucks Capstone Challenge\n"
   ]
  },
  {
   "cell_type": "markdown",
   "metadata": {},
   "source": [
    "# Data Sets\n",
    "\n",
    "The data is contained in three files:\n",
    "\n",
    "* portfolio.json - containing offer ids and meta data about each offer (duration, type, etc.)\n",
    "* profile.json - demographic data for each customer\n",
    "* transcript.json - records for transactions, offers received, offers viewed, and offers completed\n",
    "\n",
    "Here is the schema and explanation of each variable in the files:\n",
    "\n",
    "**portfolio.json**\n",
    "* id (string) - offer id\n",
    "* offer_type (string) - type of offer ie BOGO, discount, informational\n",
    "* difficulty (int) - minimum required spend to complete an offer\n",
    "* reward (int) - reward given for completing an offer\n",
    "* duration (int) - time for offer to be open, in days\n",
    "* channels (list of strings)\n",
    "\n",
    "**profile.json**\n",
    "* age (int) - age of the customer \n",
    "* became_member_on (int) - date when customer created an app account\n",
    "* gender (str) - gender of the customer (note some entries contain 'O' for other rather than M or F)\n",
    "* id (str) - customer id\n",
    "* income (float) - customer's income\n",
    "\n",
    "**transcript.json**\n",
    "* event (str) - record description (ie transaction, offer received, offer viewed, etc.)\n",
    "* person (str) - customer id\n",
    "* time (int) - time in hours since start of test. The data begins at time t=0\n",
    "* value - (dict of strings) - either an offer id or transaction amount depending on the record\n",
    "\n",
    "**Note:** If you are using the workspace, you will need to go to the terminal and run the command `conda update pandas` before reading in the files. This is because the version of pandas in the workspace cannot read in the transcript.json file correctly, but the newest version of pandas can. You can access the termnal from the orange icon in the top left of this notebook.  \n",
    "\n",
    "You can see how to access the terminal and how the install works using the two images below.  First you need to access the terminal:\n",
    "\n",
    "<img src=\"pic1.png\"/>\n",
    "\n",
    "Then you will want to run the above command:\n",
    "\n",
    "<img src=\"pic2.png\"/>\n",
    "\n",
    "Finally, when you enter back into the notebook (use the jupyter icon again), you should be able to run the below cell without any errors."
   ]
  },
  {
   "cell_type": "markdown",
   "metadata": {},
   "source": [
    "## Data Overview"
   ]
  },
  {
   "cell_type": "code",
   "execution_count": 1,
   "metadata": {},
   "outputs": [],
   "source": [
    "import os\n",
    "import re\n",
    "import pandas as pd\n",
    "import numpy as np\n",
    "import datetime\n",
    "from joblib import dump, load\n",
    "from sklearn.model_selection import RandomizedSearchCV\n",
    "from sklearn.metrics import fbeta_score, make_scorer\n",
    "from sklearn.linear_model import LogisticRegression\n",
    "from sklearn.ensemble import GradientBoostingClassifier, RandomForestClassifier\n",
    "from sklearn.metrics import accuracy_score, f1_score, classification_report\n",
    "from sklearn.ensemble import RandomForestClassifier\n",
    "from sklearn.model_selection import train_test_split\n",
    "import matplotlib.pyplot as plt\n",
    "import warnings\n",
    "warnings.filterwarnings(\"ignore\")\n",
    "\n"
   ]
  },
  {
   "cell_type": "markdown",
   "metadata": {},
   "source": [
    "## Exploratory Data Analysis"
   ]
  },
  {
   "cell_type": "markdown",
   "metadata": {},
   "source": [
    "#### 1 - Portfolio dataset"
   ]
  },
  {
   "cell_type": "code",
   "execution_count": 4,
   "metadata": {},
   "outputs": [],
   "source": [
    "# read in the json files\n",
    "portfolio = pd.read_json('data/portfolio.json', orient='records', lines=True)\n",
    "profile = pd.read_json('data/profile.json', orient='records', lines=True)\n",
    "transcript = pd.read_json('data/transcript.json', orient='records', lines=True)"
   ]
  },
  {
   "cell_type": "code",
   "execution_count": 5,
   "metadata": {},
   "outputs": [
    {
     "name": "stdout",
     "output_type": "stream",
     "text": [
      "portfolio size  : (10, 6)\n"
     ]
    },
    {
     "data": {
      "text/html": [
       "<div>\n",
       "<style scoped>\n",
       "    .dataframe tbody tr th:only-of-type {\n",
       "        vertical-align: middle;\n",
       "    }\n",
       "\n",
       "    .dataframe tbody tr th {\n",
       "        vertical-align: top;\n",
       "    }\n",
       "\n",
       "    .dataframe thead th {\n",
       "        text-align: right;\n",
       "    }\n",
       "</style>\n",
       "<table border=\"1\" class=\"dataframe\">\n",
       "  <thead>\n",
       "    <tr style=\"text-align: right;\">\n",
       "      <th></th>\n",
       "      <th>reward</th>\n",
       "      <th>channels</th>\n",
       "      <th>difficulty</th>\n",
       "      <th>duration</th>\n",
       "      <th>offer_type</th>\n",
       "      <th>id</th>\n",
       "    </tr>\n",
       "  </thead>\n",
       "  <tbody>\n",
       "    <tr>\n",
       "      <th>0</th>\n",
       "      <td>10</td>\n",
       "      <td>[email, mobile, social]</td>\n",
       "      <td>10</td>\n",
       "      <td>7</td>\n",
       "      <td>bogo</td>\n",
       "      <td>ae264e3637204a6fb9bb56bc8210ddfd</td>\n",
       "    </tr>\n",
       "    <tr>\n",
       "      <th>1</th>\n",
       "      <td>10</td>\n",
       "      <td>[web, email, mobile, social]</td>\n",
       "      <td>10</td>\n",
       "      <td>5</td>\n",
       "      <td>bogo</td>\n",
       "      <td>4d5c57ea9a6940dd891ad53e9dbe8da0</td>\n",
       "    </tr>\n",
       "    <tr>\n",
       "      <th>2</th>\n",
       "      <td>0</td>\n",
       "      <td>[web, email, mobile]</td>\n",
       "      <td>0</td>\n",
       "      <td>4</td>\n",
       "      <td>informational</td>\n",
       "      <td>3f207df678b143eea3cee63160fa8bed</td>\n",
       "    </tr>\n",
       "    <tr>\n",
       "      <th>3</th>\n",
       "      <td>5</td>\n",
       "      <td>[web, email, mobile]</td>\n",
       "      <td>5</td>\n",
       "      <td>7</td>\n",
       "      <td>bogo</td>\n",
       "      <td>9b98b8c7a33c4b65b9aebfe6a799e6d9</td>\n",
       "    </tr>\n",
       "    <tr>\n",
       "      <th>4</th>\n",
       "      <td>5</td>\n",
       "      <td>[web, email]</td>\n",
       "      <td>20</td>\n",
       "      <td>10</td>\n",
       "      <td>discount</td>\n",
       "      <td>0b1e1539f2cc45b7b9fa7c272da2e1d7</td>\n",
       "    </tr>\n",
       "  </tbody>\n",
       "</table>\n",
       "</div>"
      ],
      "text/plain": [
       "   reward                      channels  difficulty  duration     offer_type  \\\n",
       "0      10       [email, mobile, social]          10         7           bogo   \n",
       "1      10  [web, email, mobile, social]          10         5           bogo   \n",
       "2       0          [web, email, mobile]           0         4  informational   \n",
       "3       5          [web, email, mobile]           5         7           bogo   \n",
       "4       5                  [web, email]          20        10       discount   \n",
       "\n",
       "                                 id  \n",
       "0  ae264e3637204a6fb9bb56bc8210ddfd  \n",
       "1  4d5c57ea9a6940dd891ad53e9dbe8da0  \n",
       "2  3f207df678b143eea3cee63160fa8bed  \n",
       "3  9b98b8c7a33c4b65b9aebfe6a799e6d9  \n",
       "4  0b1e1539f2cc45b7b9fa7c272da2e1d7  "
      ]
     },
     "execution_count": 5,
     "metadata": {},
     "output_type": "execute_result"
    }
   ],
   "source": [
    "print('portfolio size  : {}'.format(portfolio.shape))\n",
    "portfolio.head()"
   ]
  },
  {
   "cell_type": "code",
   "execution_count": 6,
   "metadata": {},
   "outputs": [],
   "source": [
    "def rename_column_name(dataframe, old_column_name, new_column_name):\n",
    "    column_names = dataframe.columns.values\n",
    "    select_data = np.array([elem == old_column_name for elem in column_names])\n",
    "    column_names[select_data] = new_column_name\n",
    "    return column_names"
   ]
  },
  {
   "cell_type": "code",
   "execution_count": 7,
   "metadata": {},
   "outputs": [],
   "source": [
    "# Data Cleaning\n",
    "def clean_portfolio(portfolio):\n",
    "    \"\"\"Clean the portfolio dataset.\"\"\"\n",
    "    cleaned_portfolio = portfolio.copy()\n",
    "    # Change the name of the 'id' column to 'offerid'\n",
    "    cleaned_portfolio.columns = rename_column_name(portfolio, 'id', 'offerid')\n",
    "    cleaned_portfolio.columns = rename_column_name(portfolio, 'duration', 'durationdays')\n",
    "    # Hot encoding channels to multiple columns\n",
    "    cleaned_portfolio['web'] = cleaned_portfolio['channels'].apply(lambda x: 1 if 'web' in x else 0)\n",
    "    cleaned_portfolio['email'] = cleaned_portfolio['channels'].apply(lambda x: 1 if 'email' in x else 0)\n",
    "    cleaned_portfolio['mobile'] = cleaned_portfolio['channels'].apply(lambda x: 1 if 'mobile' in x else 0)\n",
    "    cleaned_portfolio['social'] = cleaned_portfolio['channels'].apply(lambda x: 1 if 'social' in x else 0)\n",
    "    # Hot encoding offer_type to multiple columns\n",
    "    offer_type = pd.get_dummies(cleaned_portfolio['offer_type'])\n",
    "    # drop the channels and offer_type column\n",
    "    cleaned_portfolio.drop(['channels', 'offer_type'], axis=1, inplace=True)\n",
    "    # Combine the portfolio and offer_type dataframe to form a cleaned dataframe\n",
    "    cleaned_portfolio = pd.concat([cleaned_portfolio, offer_type], axis=1, sort=False)\n",
    "    return cleaned_portfolio"
   ]
  },
  {
   "cell_type": "code",
   "execution_count": 8,
   "metadata": {},
   "outputs": [
    {
     "data": {
      "text/html": [
       "<div>\n",
       "<style scoped>\n",
       "    .dataframe tbody tr th:only-of-type {\n",
       "        vertical-align: middle;\n",
       "    }\n",
       "\n",
       "    .dataframe tbody tr th {\n",
       "        vertical-align: top;\n",
       "    }\n",
       "\n",
       "    .dataframe thead th {\n",
       "        text-align: right;\n",
       "    }\n",
       "</style>\n",
       "<table border=\"1\" class=\"dataframe\">\n",
       "  <thead>\n",
       "    <tr style=\"text-align: right;\">\n",
       "      <th></th>\n",
       "      <th>reward</th>\n",
       "      <th>difficulty</th>\n",
       "      <th>durationdays</th>\n",
       "      <th>offerid</th>\n",
       "      <th>web</th>\n",
       "      <th>email</th>\n",
       "      <th>mobile</th>\n",
       "      <th>social</th>\n",
       "      <th>bogo</th>\n",
       "      <th>discount</th>\n",
       "      <th>informational</th>\n",
       "    </tr>\n",
       "  </thead>\n",
       "  <tbody>\n",
       "    <tr>\n",
       "      <th>0</th>\n",
       "      <td>10</td>\n",
       "      <td>10</td>\n",
       "      <td>7</td>\n",
       "      <td>ae264e3637204a6fb9bb56bc8210ddfd</td>\n",
       "      <td>0</td>\n",
       "      <td>1</td>\n",
       "      <td>1</td>\n",
       "      <td>1</td>\n",
       "      <td>1</td>\n",
       "      <td>0</td>\n",
       "      <td>0</td>\n",
       "    </tr>\n",
       "    <tr>\n",
       "      <th>1</th>\n",
       "      <td>10</td>\n",
       "      <td>10</td>\n",
       "      <td>5</td>\n",
       "      <td>4d5c57ea9a6940dd891ad53e9dbe8da0</td>\n",
       "      <td>1</td>\n",
       "      <td>1</td>\n",
       "      <td>1</td>\n",
       "      <td>1</td>\n",
       "      <td>1</td>\n",
       "      <td>0</td>\n",
       "      <td>0</td>\n",
       "    </tr>\n",
       "    <tr>\n",
       "      <th>2</th>\n",
       "      <td>0</td>\n",
       "      <td>0</td>\n",
       "      <td>4</td>\n",
       "      <td>3f207df678b143eea3cee63160fa8bed</td>\n",
       "      <td>1</td>\n",
       "      <td>1</td>\n",
       "      <td>1</td>\n",
       "      <td>0</td>\n",
       "      <td>0</td>\n",
       "      <td>0</td>\n",
       "      <td>1</td>\n",
       "    </tr>\n",
       "    <tr>\n",
       "      <th>3</th>\n",
       "      <td>5</td>\n",
       "      <td>5</td>\n",
       "      <td>7</td>\n",
       "      <td>9b98b8c7a33c4b65b9aebfe6a799e6d9</td>\n",
       "      <td>1</td>\n",
       "      <td>1</td>\n",
       "      <td>1</td>\n",
       "      <td>0</td>\n",
       "      <td>1</td>\n",
       "      <td>0</td>\n",
       "      <td>0</td>\n",
       "    </tr>\n",
       "    <tr>\n",
       "      <th>4</th>\n",
       "      <td>5</td>\n",
       "      <td>20</td>\n",
       "      <td>10</td>\n",
       "      <td>0b1e1539f2cc45b7b9fa7c272da2e1d7</td>\n",
       "      <td>1</td>\n",
       "      <td>1</td>\n",
       "      <td>0</td>\n",
       "      <td>0</td>\n",
       "      <td>0</td>\n",
       "      <td>1</td>\n",
       "      <td>0</td>\n",
       "    </tr>\n",
       "  </tbody>\n",
       "</table>\n",
       "</div>"
      ],
      "text/plain": [
       "   reward  difficulty  durationdays                           offerid  web  \\\n",
       "0      10          10             7  ae264e3637204a6fb9bb56bc8210ddfd    0   \n",
       "1      10          10             5  4d5c57ea9a6940dd891ad53e9dbe8da0    1   \n",
       "2       0           0             4  3f207df678b143eea3cee63160fa8bed    1   \n",
       "3       5           5             7  9b98b8c7a33c4b65b9aebfe6a799e6d9    1   \n",
       "4       5          20            10  0b1e1539f2cc45b7b9fa7c272da2e1d7    1   \n",
       "\n",
       "   email  mobile  social  bogo  discount  informational  \n",
       "0      1       1       1     1         0              0  \n",
       "1      1       1       1     1         0              0  \n",
       "2      1       1       0     0         0              1  \n",
       "3      1       1       0     1         0              0  \n",
       "4      1       0       0     0         1              0  "
      ]
     },
     "execution_count": 8,
     "metadata": {},
     "output_type": "execute_result"
    }
   ],
   "source": [
    "# Portfolio dataset after Data Cleaning\n",
    "cleaned_portfolio = clean_portfolio(portfolio)\n",
    "cleaned_portfolio.head()"
   ]
  },
  {
   "cell_type": "code",
   "execution_count": 9,
   "metadata": {},
   "outputs": [
    {
     "data": {
      "image/png": "[encoded data removed]",
      "text/plain": [
       "<Figure size 720x720 with 12 Axes>"
      ]
     },
     "metadata": {
      "needs_background": "light"
     },
     "output_type": "display_data"
    }
   ],
   "source": [
    "# Create a histogram of all features to show the distribution of each one relative to the data. \n",
    "cleaned_portfolio.hist(figsize=(10,10),xrot=0);"
   ]
  },
  {
   "cell_type": "markdown",
   "metadata": {},
   "source": [
    "#### 2 - Profile dataset\n",
    "Dataset containing demographic data for our users."
   ]
  },
  {
   "cell_type": "code",
   "execution_count": 10,
   "metadata": {},
   "outputs": [
    {
     "name": "stdout",
     "output_type": "stream",
     "text": [
      "profile size  : (17000, 5)\n"
     ]
    },
    {
     "data": {
      "text/html": [
       "<div>\n",
       "<style scoped>\n",
       "    .dataframe tbody tr th:only-of-type {\n",
       "        vertical-align: middle;\n",
       "    }\n",
       "\n",
       "    .dataframe tbody tr th {\n",
       "        vertical-align: top;\n",
       "    }\n",
       "\n",
       "    .dataframe thead th {\n",
       "        text-align: right;\n",
       "    }\n",
       "</style>\n",
       "<table border=\"1\" class=\"dataframe\">\n",
       "  <thead>\n",
       "    <tr style=\"text-align: right;\">\n",
       "      <th></th>\n",
       "      <th>gender</th>\n",
       "      <th>age</th>\n",
       "      <th>id</th>\n",
       "      <th>became_member_on</th>\n",
       "      <th>income</th>\n",
       "    </tr>\n",
       "  </thead>\n",
       "  <tbody>\n",
       "    <tr>\n",
       "      <th>0</th>\n",
       "      <td>None</td>\n",
       "      <td>118</td>\n",
       "      <td>68be06ca386d4c31939f3a4f0e3dd783</td>\n",
       "      <td>20170212</td>\n",
       "      <td>NaN</td>\n",
       "    </tr>\n",
       "    <tr>\n",
       "      <th>1</th>\n",
       "      <td>F</td>\n",
       "      <td>55</td>\n",
       "      <td>0610b486422d4921ae7d2bf64640c50b</td>\n",
       "      <td>20170715</td>\n",
       "      <td>112000.0</td>\n",
       "    </tr>\n",
       "    <tr>\n",
       "      <th>2</th>\n",
       "      <td>None</td>\n",
       "      <td>118</td>\n",
       "      <td>38fe809add3b4fcf9315a9694bb96ff5</td>\n",
       "      <td>20180712</td>\n",
       "      <td>NaN</td>\n",
       "    </tr>\n",
       "    <tr>\n",
       "      <th>3</th>\n",
       "      <td>F</td>\n",
       "      <td>75</td>\n",
       "      <td>78afa995795e4d85b5d9ceeca43f5fef</td>\n",
       "      <td>20170509</td>\n",
       "      <td>100000.0</td>\n",
       "    </tr>\n",
       "    <tr>\n",
       "      <th>4</th>\n",
       "      <td>None</td>\n",
       "      <td>118</td>\n",
       "      <td>a03223e636434f42ac4c3df47e8bac43</td>\n",
       "      <td>20170804</td>\n",
       "      <td>NaN</td>\n",
       "    </tr>\n",
       "  </tbody>\n",
       "</table>\n",
       "</div>"
      ],
      "text/plain": [
       "  gender  age                                id  became_member_on    income\n",
       "0   None  118  68be06ca386d4c31939f3a4f0e3dd783          20170212       NaN\n",
       "1      F   55  0610b486422d4921ae7d2bf64640c50b          20170715  112000.0\n",
       "2   None  118  38fe809add3b4fcf9315a9694bb96ff5          20180712       NaN\n",
       "3      F   75  78afa995795e4d85b5d9ceeca43f5fef          20170509  100000.0\n",
       "4   None  118  a03223e636434f42ac4c3df47e8bac43          20170804       NaN"
      ]
     },
     "execution_count": 10,
     "metadata": {},
     "output_type": "execute_result"
    }
   ],
   "source": [
    "# # Profile dataset before cleaning\n",
    "print('profile size  : {}'.format(profile.shape))\n",
    "profile.head()"
   ]
  },
  {
   "cell_type": "markdown",
   "metadata": {},
   "source": [
    "* Data Exploration"
   ]
  },
  {
   "cell_type": "code",
   "execution_count": 11,
   "metadata": {},
   "outputs": [
    {
     "name": "stdout",
     "output_type": "stream",
     "text": [
      "Number of Rows 17000\n",
      "Number of missing income 2175\n",
      "Number of missing gender 2175\n",
      "Number of missing age 2175\n"
     ]
    },
    {
     "data": {
      "text/html": [
       "<style type=\"text/css\">\n",
       "</style>\n",
       "<table id=\"T_55d6e_\">\n",
       "  <caption>Gender by user</caption>\n",
       "  <thead>\n",
       "    <tr>\n",
       "      <th class=\"blank level0\" >&nbsp;</th>\n",
       "      <th class=\"col_heading level0 col0\" >M</th>\n",
       "      <th class=\"col_heading level0 col1\" >F</th>\n",
       "      <th class=\"col_heading level0 col2\" >O</th>\n",
       "    </tr>\n",
       "  </thead>\n",
       "  <tbody>\n",
       "    <tr>\n",
       "      <th id=\"T_55d6e_level0_row0\" class=\"row_heading level0 row0\" >gender</th>\n",
       "      <td id=\"T_55d6e_row0_col0\" class=\"data row0 col0\" >8484</td>\n",
       "      <td id=\"T_55d6e_row0_col1\" class=\"data row0 col1\" >6129</td>\n",
       "      <td id=\"T_55d6e_row0_col2\" class=\"data row0 col2\" >212</td>\n",
       "    </tr>\n",
       "  </tbody>\n",
       "</table>\n"
      ],
      "text/plain": [
       "<pandas.io.formats.style.Styler at 0x142eaed8bc8>"
      ]
     },
     "metadata": {},
     "output_type": "display_data"
    }
   ],
   "source": [
    "print(\"Number of Rows\", profile.shape[0])\n",
    "print(\"Number of missing income\",profile['income'].isna().sum() )\n",
    "print(\"Number of missing gender\",profile['gender'].isna().sum() )\n",
    "print(\"Number of missing age\", (profile['age'] == 118).sum() )\n",
    "\n",
    "display(pd.DataFrame(profile.gender.value_counts()).T.style.set_caption('Gender by user'))\n"
   ]
  },
  {
   "cell_type": "code",
   "execution_count": 12,
   "metadata": {},
   "outputs": [
    {
     "name": "stdout",
     "output_type": "stream",
     "text": [
      "Percentage of missing data: 12.79 %\n"
     ]
    },
    {
     "data": {
      "text/plain": [
       "gender              12.794118\n",
       "age                  0.000000\n",
       "id                   0.000000\n",
       "became_member_on     0.000000\n",
       "income              12.794118\n",
       "dtype: float64"
      ]
     },
     "execution_count": 12,
     "metadata": {},
     "output_type": "execute_result"
    }
   ],
   "source": [
    "print(\"Percentage of missing data: %.2f %%\" % ((profile['age'] == 118).sum() / profile.shape[0] * 100))\n",
    "profile.isnull().sum(axis=0) * 100 / profile.shape[0]"
   ]
  },
  {
   "cell_type": "code",
   "execution_count": 13,
   "metadata": {},
   "outputs": [
    {
     "name": "stdout",
     "output_type": "stream",
     "text": [
      "Count Groupby Gender \n",
      "          age    id  became_member_on  income\n",
      "gender                                      \n",
      "F       6129  6129              6129    6129\n",
      "M       8484  8484              8484    8484\n",
      "O        212   212               212     212\n",
      "Percentage of Gender (%) \n",
      " M    57.227656\n",
      "F    41.342327\n",
      "O     1.430017\n",
      "Name: gender, dtype: float64\n"
     ]
    }
   ],
   "source": [
    "gender_groups = profile.groupby(['gender']).count()\n",
    "gender_counts = profile['gender'].value_counts()\n",
    "gender_counts *= 100 / gender_counts.sum()\n",
    "print('Count Groupby Gender \\n', gender_groups)\n",
    "print('Percentage of Gender (%) \\n', gender_counts)"
   ]
  },
  {
   "cell_type": "markdown",
   "metadata": {},
   "source": [
    "Since all the missing values are from the same rows. This could be due to the data quality issues from the web application where the income, gender and age are missing at the same time. \n",
    "\n",
    "We have decided to remove the following incomplete data as it is only about 13% of our cohort. This ensure the overall quality of our data rather than interpolating the data from the mean value.\n",
    "* 12.79% Data with Missing `Gender`, `Income` and `Age` (coded as 118 treated as NaN)\n",
    "* 1.43 % of Gender is coded as `O` which are undetermined\n",
    "\n"
   ]
  },
  {
   "cell_type": "code",
   "execution_count": 14,
   "metadata": {},
   "outputs": [
    {
     "data": {
      "text/html": [
       "<div>\n",
       "<style scoped>\n",
       "    .dataframe tbody tr th:only-of-type {\n",
       "        vertical-align: middle;\n",
       "    }\n",
       "\n",
       "    .dataframe tbody tr th {\n",
       "        vertical-align: top;\n",
       "    }\n",
       "\n",
       "    .dataframe thead th {\n",
       "        text-align: right;\n",
       "    }\n",
       "</style>\n",
       "<table border=\"1\" class=\"dataframe\">\n",
       "  <thead>\n",
       "    <tr style=\"text-align: right;\">\n",
       "      <th></th>\n",
       "      <th>age</th>\n",
       "      <th>became_member_on</th>\n",
       "      <th>income</th>\n",
       "    </tr>\n",
       "  </thead>\n",
       "  <tbody>\n",
       "    <tr>\n",
       "      <th>count</th>\n",
       "      <td>14825.000000</td>\n",
       "      <td>1.482500e+04</td>\n",
       "      <td>14825.000000</td>\n",
       "    </tr>\n",
       "    <tr>\n",
       "      <th>mean</th>\n",
       "      <td>54.393524</td>\n",
       "      <td>2.016689e+07</td>\n",
       "      <td>65404.991568</td>\n",
       "    </tr>\n",
       "    <tr>\n",
       "      <th>std</th>\n",
       "      <td>17.383705</td>\n",
       "      <td>1.188565e+04</td>\n",
       "      <td>21598.299410</td>\n",
       "    </tr>\n",
       "    <tr>\n",
       "      <th>min</th>\n",
       "      <td>18.000000</td>\n",
       "      <td>2.013073e+07</td>\n",
       "      <td>30000.000000</td>\n",
       "    </tr>\n",
       "    <tr>\n",
       "      <th>25%</th>\n",
       "      <td>42.000000</td>\n",
       "      <td>2.016052e+07</td>\n",
       "      <td>49000.000000</td>\n",
       "    </tr>\n",
       "    <tr>\n",
       "      <th>50%</th>\n",
       "      <td>55.000000</td>\n",
       "      <td>2.017080e+07</td>\n",
       "      <td>64000.000000</td>\n",
       "    </tr>\n",
       "    <tr>\n",
       "      <th>75%</th>\n",
       "      <td>66.000000</td>\n",
       "      <td>2.017123e+07</td>\n",
       "      <td>80000.000000</td>\n",
       "    </tr>\n",
       "    <tr>\n",
       "      <th>max</th>\n",
       "      <td>101.000000</td>\n",
       "      <td>2.018073e+07</td>\n",
       "      <td>120000.000000</td>\n",
       "    </tr>\n",
       "  </tbody>\n",
       "</table>\n",
       "</div>"
      ],
      "text/plain": [
       "                age  became_member_on         income\n",
       "count  14825.000000      1.482500e+04   14825.000000\n",
       "mean      54.393524      2.016689e+07   65404.991568\n",
       "std       17.383705      1.188565e+04   21598.299410\n",
       "min       18.000000      2.013073e+07   30000.000000\n",
       "25%       42.000000      2.016052e+07   49000.000000\n",
       "50%       55.000000      2.017080e+07   64000.000000\n",
       "75%       66.000000      2.017123e+07   80000.000000\n",
       "max      101.000000      2.018073e+07  120000.000000"
      ]
     },
     "execution_count": 14,
     "metadata": {},
     "output_type": "execute_result"
    }
   ],
   "source": [
    "profile[profile['income'].notnull()].describe()"
   ]
  },
  {
   "cell_type": "code",
   "execution_count": 15,
   "metadata": {},
   "outputs": [],
   "source": [
    "# Profile cleaning function \n",
    "def clean_profile(profile):\n",
    "    \"\"\"Clean the profile dataset.\"\"\"\n",
    "    cleaned_profile = profile.copy()\n",
    "    # Convert to datetime\n",
    "    cleaned_profile.became_member_on = pd.to_datetime(cleaned_profile.became_member_on, format = '%Y%m%d')\n",
    "    # age: (numeric) Convert value encoded as 118 to null\n",
    "    cleaned_profile['age'] = profile['age'].apply(lambda x: np.nan if x == 118 else x)\n",
    "    # drop all missing values\n",
    "    cleaned_profile.dropna(inplace=True)\n",
    "    # drop Undetermined gender = O\n",
    "    cleaned_profile = cleaned_profile[profile['gender'] != 'O']\n",
    "    cleaned_profile = cleaned_profile.reset_index(drop=True)\n",
    "    # hot encoding gender to multiple columns\n",
    "    cleaned_profile['gendernew'] = cleaned_profile['gender'].apply(lambda x: 0 if 'M' in x else (1 if 'F' in x else x) )\n",
    "    # the number of days since the user is a members of starbucks\n",
    "    cleaned_profile['member_days'] = datetime.datetime.today().date() - pd.to_datetime(cleaned_profile['became_member_on'], format='%Y%m%d').dt.date\n",
    "    cleaned_profile['member_days'] = cleaned_profile['member_days'].dt.days\n",
    "    # drop the gender and offer_type column\n",
    "    cleaned_profile.drop(['gender'], axis=1, inplace=True)\n",
    "    cleaned_profile.drop(['became_member_on'], axis=1, inplace=True)\n",
    "    # rename gendernew to gender\n",
    "    cleaned_profile.columns = rename_column_name(cleaned_profile, 'gendernew', 'gender')\n",
    "    # rename id to customerid\n",
    "    cleaned_profile.columns = rename_column_name(cleaned_profile, 'id', 'customerid')\n",
    "    return cleaned_profile"
   ]
  },
  {
   "cell_type": "code",
   "execution_count": 16,
   "metadata": {},
   "outputs": [
    {
     "data": {
      "text/html": [
       "<div>\n",
       "<style scoped>\n",
       "    .dataframe tbody tr th:only-of-type {\n",
       "        vertical-align: middle;\n",
       "    }\n",
       "\n",
       "    .dataframe tbody tr th {\n",
       "        vertical-align: top;\n",
       "    }\n",
       "\n",
       "    .dataframe thead th {\n",
       "        text-align: right;\n",
       "    }\n",
       "</style>\n",
       "<table border=\"1\" class=\"dataframe\">\n",
       "  <thead>\n",
       "    <tr style=\"text-align: right;\">\n",
       "      <th></th>\n",
       "      <th>age</th>\n",
       "      <th>customerid</th>\n",
       "      <th>income</th>\n",
       "      <th>gender</th>\n",
       "      <th>member_days</th>\n",
       "    </tr>\n",
       "  </thead>\n",
       "  <tbody>\n",
       "    <tr>\n",
       "      <th>0</th>\n",
       "      <td>55.0</td>\n",
       "      <td>0610b486422d4921ae7d2bf64640c50b</td>\n",
       "      <td>112000.0</td>\n",
       "      <td>1</td>\n",
       "      <td>1651</td>\n",
       "    </tr>\n",
       "    <tr>\n",
       "      <th>1</th>\n",
       "      <td>75.0</td>\n",
       "      <td>78afa995795e4d85b5d9ceeca43f5fef</td>\n",
       "      <td>100000.0</td>\n",
       "      <td>1</td>\n",
       "      <td>1718</td>\n",
       "    </tr>\n",
       "    <tr>\n",
       "      <th>2</th>\n",
       "      <td>68.0</td>\n",
       "      <td>e2127556f4f64592b11af22de27a7932</td>\n",
       "      <td>70000.0</td>\n",
       "      <td>0</td>\n",
       "      <td>1366</td>\n",
       "    </tr>\n",
       "    <tr>\n",
       "      <th>3</th>\n",
       "      <td>65.0</td>\n",
       "      <td>389bc3fa690240e798340f5a15918d5c</td>\n",
       "      <td>53000.0</td>\n",
       "      <td>0</td>\n",
       "      <td>1442</td>\n",
       "    </tr>\n",
       "    <tr>\n",
       "      <th>4</th>\n",
       "      <td>58.0</td>\n",
       "      <td>2eeac8d8feae4a8cad5a6af0499a211d</td>\n",
       "      <td>51000.0</td>\n",
       "      <td>0</td>\n",
       "      <td>1532</td>\n",
       "    </tr>\n",
       "  </tbody>\n",
       "</table>\n",
       "</div>"
      ],
      "text/plain": [
       "    age                        customerid    income  gender  member_days\n",
       "0  55.0  0610b486422d4921ae7d2bf64640c50b  112000.0       1         1651\n",
       "1  75.0  78afa995795e4d85b5d9ceeca43f5fef  100000.0       1         1718\n",
       "2  68.0  e2127556f4f64592b11af22de27a7932   70000.0       0         1366\n",
       "3  65.0  389bc3fa690240e798340f5a15918d5c   53000.0       0         1442\n",
       "4  58.0  2eeac8d8feae4a8cad5a6af0499a211d   51000.0       0         1532"
      ]
     },
     "execution_count": 16,
     "metadata": {},
     "output_type": "execute_result"
    }
   ],
   "source": [
    "cleaned_profile = clean_profile(profile)\n",
    "cleaned_profile.head()"
   ]
  },
  {
   "cell_type": "code",
   "execution_count": 17,
   "metadata": {},
   "outputs": [
    {
     "data": {
      "text/html": [
       "<div>\n",
       "<style scoped>\n",
       "    .dataframe tbody tr th:only-of-type {\n",
       "        vertical-align: middle;\n",
       "    }\n",
       "\n",
       "    .dataframe tbody tr th {\n",
       "        vertical-align: top;\n",
       "    }\n",
       "\n",
       "    .dataframe thead th {\n",
       "        text-align: right;\n",
       "    }\n",
       "</style>\n",
       "<table border=\"1\" class=\"dataframe\">\n",
       "  <thead>\n",
       "    <tr style=\"text-align: right;\">\n",
       "      <th></th>\n",
       "      <th>age</th>\n",
       "      <th>income</th>\n",
       "      <th>gender</th>\n",
       "      <th>member_days</th>\n",
       "    </tr>\n",
       "  </thead>\n",
       "  <tbody>\n",
       "    <tr>\n",
       "      <th>count</th>\n",
       "      <td>14613.000000</td>\n",
       "      <td>14613.000000</td>\n",
       "      <td>14613.000000</td>\n",
       "      <td>14613.000000</td>\n",
       "    </tr>\n",
       "    <tr>\n",
       "      <th>mean</th>\n",
       "      <td>54.393417</td>\n",
       "      <td>65435.707931</td>\n",
       "      <td>0.419421</td>\n",
       "      <td>1797.991035</td>\n",
       "    </tr>\n",
       "    <tr>\n",
       "      <th>std</th>\n",
       "      <td>17.400201</td>\n",
       "      <td>21633.524110</td>\n",
       "      <td>0.493481</td>\n",
       "      <td>419.681797</td>\n",
       "    </tr>\n",
       "    <tr>\n",
       "      <th>min</th>\n",
       "      <td>18.000000</td>\n",
       "      <td>30000.000000</td>\n",
       "      <td>0.000000</td>\n",
       "      <td>1275.000000</td>\n",
       "    </tr>\n",
       "    <tr>\n",
       "      <th>25%</th>\n",
       "      <td>42.000000</td>\n",
       "      <td>49000.000000</td>\n",
       "      <td>0.000000</td>\n",
       "      <td>1483.000000</td>\n",
       "    </tr>\n",
       "    <tr>\n",
       "      <th>50%</th>\n",
       "      <td>55.000000</td>\n",
       "      <td>64000.000000</td>\n",
       "      <td>0.000000</td>\n",
       "      <td>1633.000000</td>\n",
       "    </tr>\n",
       "    <tr>\n",
       "      <th>75%</th>\n",
       "      <td>66.000000</td>\n",
       "      <td>80000.000000</td>\n",
       "      <td>1.000000</td>\n",
       "      <td>2073.000000</td>\n",
       "    </tr>\n",
       "    <tr>\n",
       "      <th>max</th>\n",
       "      <td>101.000000</td>\n",
       "      <td>120000.000000</td>\n",
       "      <td>1.000000</td>\n",
       "      <td>3098.000000</td>\n",
       "    </tr>\n",
       "  </tbody>\n",
       "</table>\n",
       "</div>"
      ],
      "text/plain": [
       "                age         income        gender   member_days\n",
       "count  14613.000000   14613.000000  14613.000000  14613.000000\n",
       "mean      54.393417   65435.707931      0.419421   1797.991035\n",
       "std       17.400201   21633.524110      0.493481    419.681797\n",
       "min       18.000000   30000.000000      0.000000   1275.000000\n",
       "25%       42.000000   49000.000000      0.000000   1483.000000\n",
       "50%       55.000000   64000.000000      0.000000   1633.000000\n",
       "75%       66.000000   80000.000000      1.000000   2073.000000\n",
       "max      101.000000  120000.000000      1.000000   3098.000000"
      ]
     },
     "execution_count": 17,
     "metadata": {},
     "output_type": "execute_result"
    }
   ],
   "source": [
    "cleaned_profile.describe()"
   ]
  },
  {
   "cell_type": "code",
   "execution_count": 18,
   "metadata": {},
   "outputs": [
    {
     "data": {
      "text/plain": [
       "age               55.0\n",
       "income         64000.0\n",
       "gender             0.0\n",
       "member_days     1633.0\n",
       "dtype: float64"
      ]
     },
     "execution_count": 18,
     "metadata": {},
     "output_type": "execute_result"
    }
   ],
   "source": [
    "cleaned_profile.median()"
   ]
  },
  {
   "cell_type": "code",
   "execution_count": 19,
   "metadata": {},
   "outputs": [
    {
     "data": {
      "image/png": "[encoded data removed]",
      "text/plain": [
       "<Figure size 720x720 with 4 Axes>"
      ]
     },
     "metadata": {
      "needs_background": "light"
     },
     "output_type": "display_data"
    }
   ],
   "source": [
    "# Create a histogram of all features to show the distribution of each one relative to the data. \n",
    "cleaned_profile.hist(figsize=(10,10),xrot=0);"
   ]
  },
  {
   "cell_type": "code",
   "execution_count": 20,
   "metadata": {},
   "outputs": [
    {
     "data": {
      "text/html": [
       "<div>\n",
       "<style scoped>\n",
       "    .dataframe tbody tr th:only-of-type {\n",
       "        vertical-align: middle;\n",
       "    }\n",
       "\n",
       "    .dataframe tbody tr th {\n",
       "        vertical-align: top;\n",
       "    }\n",
       "\n",
       "    .dataframe thead tr th {\n",
       "        text-align: left;\n",
       "    }\n",
       "\n",
       "    .dataframe thead tr:last-of-type th {\n",
       "        text-align: right;\n",
       "    }\n",
       "</style>\n",
       "<table border=\"1\" class=\"dataframe\">\n",
       "  <thead>\n",
       "    <tr>\n",
       "      <th></th>\n",
       "      <th colspan=\"8\" halign=\"left\">age</th>\n",
       "      <th colspan=\"5\" halign=\"left\">income</th>\n",
       "      <th colspan=\"8\" halign=\"left\">member_days</th>\n",
       "    </tr>\n",
       "    <tr>\n",
       "      <th></th>\n",
       "      <th>count</th>\n",
       "      <th>mean</th>\n",
       "      <th>std</th>\n",
       "      <th>min</th>\n",
       "      <th>25%</th>\n",
       "      <th>50%</th>\n",
       "      <th>75%</th>\n",
       "      <th>max</th>\n",
       "      <th>count</th>\n",
       "      <th>mean</th>\n",
       "      <th>...</th>\n",
       "      <th>75%</th>\n",
       "      <th>max</th>\n",
       "      <th>count</th>\n",
       "      <th>mean</th>\n",
       "      <th>std</th>\n",
       "      <th>min</th>\n",
       "      <th>25%</th>\n",
       "      <th>50%</th>\n",
       "      <th>75%</th>\n",
       "      <th>max</th>\n",
       "    </tr>\n",
       "    <tr>\n",
       "      <th>gender</th>\n",
       "      <th></th>\n",
       "      <th></th>\n",
       "      <th></th>\n",
       "      <th></th>\n",
       "      <th></th>\n",
       "      <th></th>\n",
       "      <th></th>\n",
       "      <th></th>\n",
       "      <th></th>\n",
       "      <th></th>\n",
       "      <th></th>\n",
       "      <th></th>\n",
       "      <th></th>\n",
       "      <th></th>\n",
       "      <th></th>\n",
       "      <th></th>\n",
       "      <th></th>\n",
       "      <th></th>\n",
       "      <th></th>\n",
       "      <th></th>\n",
       "      <th></th>\n",
       "    </tr>\n",
       "  </thead>\n",
       "  <tbody>\n",
       "    <tr>\n",
       "      <th>0</th>\n",
       "      <td>8484.0</td>\n",
       "      <td>52.11669</td>\n",
       "      <td>17.413894</td>\n",
       "      <td>18.0</td>\n",
       "      <td>39.0</td>\n",
       "      <td>53.0</td>\n",
       "      <td>65.0</td>\n",
       "      <td>100.0</td>\n",
       "      <td>8484.0</td>\n",
       "      <td>61194.601603</td>\n",
       "      <td>...</td>\n",
       "      <td>73000.0</td>\n",
       "      <td>120000.0</td>\n",
       "      <td>8484.0</td>\n",
       "      <td>1805.096535</td>\n",
       "      <td>450.692976</td>\n",
       "      <td>1275.0</td>\n",
       "      <td>1467.75</td>\n",
       "      <td>1618.0</td>\n",
       "      <td>2094.0</td>\n",
       "      <td>3098.0</td>\n",
       "    </tr>\n",
       "    <tr>\n",
       "      <th>1</th>\n",
       "      <td>6129.0</td>\n",
       "      <td>57.54495</td>\n",
       "      <td>16.883315</td>\n",
       "      <td>18.0</td>\n",
       "      <td>48.0</td>\n",
       "      <td>58.0</td>\n",
       "      <td>69.0</td>\n",
       "      <td>101.0</td>\n",
       "      <td>6129.0</td>\n",
       "      <td>71306.412139</td>\n",
       "      <td>...</td>\n",
       "      <td>88000.0</td>\n",
       "      <td>120000.0</td>\n",
       "      <td>6129.0</td>\n",
       "      <td>1788.155327</td>\n",
       "      <td>372.331481</td>\n",
       "      <td>1275.0</td>\n",
       "      <td>1503.00</td>\n",
       "      <td>1675.0</td>\n",
       "      <td>2050.0</td>\n",
       "      <td>3097.0</td>\n",
       "    </tr>\n",
       "  </tbody>\n",
       "</table>\n",
       "<p>2 rows × 24 columns</p>\n",
       "</div>"
      ],
      "text/plain": [
       "           age                                                      income  \\\n",
       "         count      mean        std   min   25%   50%   75%    max   count   \n",
       "gender                                                                       \n",
       "0       8484.0  52.11669  17.413894  18.0  39.0  53.0  65.0  100.0  8484.0   \n",
       "1       6129.0  57.54495  16.883315  18.0  48.0  58.0  69.0  101.0  6129.0   \n",
       "\n",
       "                      ...                    member_days               \\\n",
       "                mean  ...      75%       max       count         mean   \n",
       "gender                ...                                               \n",
       "0       61194.601603  ...  73000.0  120000.0      8484.0  1805.096535   \n",
       "1       71306.412139  ...  88000.0  120000.0      6129.0  1788.155327   \n",
       "\n",
       "                                                             \n",
       "               std     min      25%     50%     75%     max  \n",
       "gender                                                       \n",
       "0       450.692976  1275.0  1467.75  1618.0  2094.0  3098.0  \n",
       "1       372.331481  1275.0  1503.00  1675.0  2050.0  3097.0  \n",
       "\n",
       "[2 rows x 24 columns]"
      ]
     },
     "execution_count": 20,
     "metadata": {},
     "output_type": "execute_result"
    }
   ],
   "source": [
    "cleaned_profile.groupby('gender').describe()"
   ]
  },
  {
   "cell_type": "markdown",
   "metadata": {},
   "source": [
    "* There is a large left skew on the `become member on` which indicate that the user population increased overtime. This also means that majority of the transaction occurs in the recent years. So we might need to remove this column\n",
    "* Starbucks is slightly more popular with male.\n",
    "* Male customer are also have higher income compared to female.\n",
    "* Median values for income is 64000\n",
    "* Median values for membership days is 1627"
   ]
  },
  {
   "cell_type": "code",
   "execution_count": 21,
   "metadata": {},
   "outputs": [
    {
     "data": {
      "image/png": "[encoded data removed]",
      "text/plain": [
       "<Figure size 1080x360 with 1 Axes>"
      ]
     },
     "metadata": {},
     "output_type": "display_data"
    }
   ],
   "source": [
    "# Display Histogram of user gender\n",
    "malesum = (cleaned_profile['gender'] == 0).sum()\n",
    "femalesum = (cleaned_profile['gender'] == 1).sum()\n",
    "gender_plot_data={\n",
    "'LABEL':['Male', 'Female'],\n",
    "'Gender':[malesum, femalesum]\n",
    "}\n",
    "fig, ax = plt.subplots(facecolor='lightslategray', figsize=(15, 5))\n",
    "df = pd.DataFrame(data=gender_plot_data)\n",
    "df.plot.pie( ax=ax, title=\"Starbuck customer percentage\",y='Gender',labels=gender_plot_data['LABEL'], autopct='%1.1f%%')\n",
    "fig.set_facecolor('white')"
   ]
  },
  {
   "cell_type": "code",
   "execution_count": 22,
   "metadata": {},
   "outputs": [],
   "source": [
    "cleaned_profile_male = cleaned_profile[(cleaned_profile['gender'] == 0)]\n",
    "cleaned_profile_female = cleaned_profile[(cleaned_profile['gender'] == 1)]\n"
   ]
  },
  {
   "cell_type": "code",
   "execution_count": 23,
   "metadata": {},
   "outputs": [
    {
     "data": {
      "text/plain": [
       "Text(0.5, 0, 'Female Income')"
      ]
     },
     "execution_count": 23,
     "metadata": {},
     "output_type": "execute_result"
    },
    {
     "data": {
      "image/png": "[encoded data removed]",
      "text/plain": [
       "<Figure size 1080x360 with 3 Axes>"
      ]
     },
     "metadata": {
      "needs_background": "light"
     },
     "output_type": "display_data"
    },
    {
     "data": {
      "image/png": "[encoded data removed]",
      "text/plain": [
       "<Figure size 1080x360 with 3 Axes>"
      ]
     },
     "metadata": {
      "needs_background": "light"
     },
     "output_type": "display_data"
    },
    {
     "data": {
      "image/png": "[encoded data removed]",
      "text/plain": [
       "<Figure size 1080x360 with 3 Axes>"
      ]
     },
     "metadata": {
      "needs_background": "light"
     },
     "output_type": "display_data"
    }
   ],
   "source": [
    "cleaned_profile_male = cleaned_profile[(cleaned_profile['gender'] == 0)]\n",
    "cleaned_profile_female = cleaned_profile[(cleaned_profile['gender'] == 1)]\n",
    "\n",
    "fig, axes = plt.subplots(figsize=(15, 5), nrows=1, ncols=3)\n",
    "user_age_plot = cleaned_profile['age'].plot(ax=axes[0], kind='hist', bins=20,color ='#BF4E30', title='Starbucks customers age distribution')\n",
    "user_age_plot.set_xlabel(\"Customer Age\")\n",
    "user_age_plot_male = cleaned_profile_male['age'].plot(ax=axes[1],kind='hist', bins=20,color ='#C6CCB2', title='Starbucks male customers age distribution')\n",
    "user_age_plot_male.set_xlabel(\"Male Customer Age\")\n",
    "user_age_plot_female = cleaned_profile_female['age'].plot(ax=axes[2],kind='hist', bins=20,color ='#093824', title='Starbucks female customers age distribution')\n",
    "user_age_plot_female.set_xlabel(\"Female Customer Age\")\n",
    "\n",
    "fig, axes = plt.subplots(figsize=(15, 5), nrows=1, ncols=3)\n",
    "user_age_plot = cleaned_profile['member_days'].plot(ax=axes[0], kind='hist', bins=20,color ='#BF4E30', title='Starbucks customers membership in days')\n",
    "user_age_plot.set_xlabel(\"Days\")\n",
    "user_age_plot_male = cleaned_profile_male['member_days'].plot(ax=axes[1],kind='hist', bins=20,color ='#C6CCB2', title='Starbucks male customers membership in days')\n",
    "user_age_plot_male.set_xlabel(\"Male Days\")\n",
    "user_age_plot_female = cleaned_profile_female['member_days'].plot(ax=axes[2],kind='hist', bins=20,color ='#093824', title='Starbucks female customers membership in days')\n",
    "user_age_plot_female.set_xlabel(\"Female Days\")\n",
    "\n",
    "fig, axes = plt.subplots(figsize=(15, 5), nrows=1, ncols=3)\n",
    "user_age_plot = cleaned_profile['income'].plot(ax=axes[0], kind='hist', bins=20,color ='#BF4E30', title='Starbucks customers income')\n",
    "user_age_plot.set_xlabel(\"Income\")\n",
    "user_age_plot_male = cleaned_profile_male['income'].plot(ax=axes[1],kind='hist', bins=20,color ='#C6CCB2', title='Starbucks male customers income')\n",
    "user_age_plot_male.set_xlabel(\"Male Income\")\n",
    "user_age_plot_female = cleaned_profile_female['income'].plot(ax=axes[2],kind='hist', bins=20,color ='#093824', title='Starbucks female customers income')\n",
    "user_age_plot_female.set_xlabel(\"Female Income\")\n"
   ]
  },
  {
   "cell_type": "markdown",
   "metadata": {},
   "source": [
    "#### 3 - Transcript Dataset\n",
    "Output the first 5 rows of transaction records"
   ]
  },
  {
   "cell_type": "code",
   "execution_count": 24,
   "metadata": {},
   "outputs": [
    {
     "name": "stdout",
     "output_type": "stream",
     "text": [
      "transcript size  : (306534, 4)\n"
     ]
    },
    {
     "data": {
      "text/html": [
       "<div>\n",
       "<style scoped>\n",
       "    .dataframe tbody tr th:only-of-type {\n",
       "        vertical-align: middle;\n",
       "    }\n",
       "\n",
       "    .dataframe tbody tr th {\n",
       "        vertical-align: top;\n",
       "    }\n",
       "\n",
       "    .dataframe thead th {\n",
       "        text-align: right;\n",
       "    }\n",
       "</style>\n",
       "<table border=\"1\" class=\"dataframe\">\n",
       "  <thead>\n",
       "    <tr style=\"text-align: right;\">\n",
       "      <th></th>\n",
       "      <th>person</th>\n",
       "      <th>event</th>\n",
       "      <th>value</th>\n",
       "      <th>time</th>\n",
       "    </tr>\n",
       "  </thead>\n",
       "  <tbody>\n",
       "    <tr>\n",
       "      <th>0</th>\n",
       "      <td>78afa995795e4d85b5d9ceeca43f5fef</td>\n",
       "      <td>offer received</td>\n",
       "      <td>{'offer id': '9b98b8c7a33c4b65b9aebfe6a799e6d9'}</td>\n",
       "      <td>0</td>\n",
       "    </tr>\n",
       "    <tr>\n",
       "      <th>1</th>\n",
       "      <td>a03223e636434f42ac4c3df47e8bac43</td>\n",
       "      <td>offer received</td>\n",
       "      <td>{'offer id': '0b1e1539f2cc45b7b9fa7c272da2e1d7'}</td>\n",
       "      <td>0</td>\n",
       "    </tr>\n",
       "    <tr>\n",
       "      <th>2</th>\n",
       "      <td>e2127556f4f64592b11af22de27a7932</td>\n",
       "      <td>offer received</td>\n",
       "      <td>{'offer id': '2906b810c7d4411798c6938adc9daaa5'}</td>\n",
       "      <td>0</td>\n",
       "    </tr>\n",
       "    <tr>\n",
       "      <th>3</th>\n",
       "      <td>8ec6ce2a7e7949b1bf142def7d0e0586</td>\n",
       "      <td>offer received</td>\n",
       "      <td>{'offer id': 'fafdcd668e3743c1bb461111dcafc2a4'}</td>\n",
       "      <td>0</td>\n",
       "    </tr>\n",
       "    <tr>\n",
       "      <th>4</th>\n",
       "      <td>68617ca6246f4fbc85e91a2a49552598</td>\n",
       "      <td>offer received</td>\n",
       "      <td>{'offer id': '4d5c57ea9a6940dd891ad53e9dbe8da0'}</td>\n",
       "      <td>0</td>\n",
       "    </tr>\n",
       "  </tbody>\n",
       "</table>\n",
       "</div>"
      ],
      "text/plain": [
       "                             person           event  \\\n",
       "0  78afa995795e4d85b5d9ceeca43f5fef  offer received   \n",
       "1  a03223e636434f42ac4c3df47e8bac43  offer received   \n",
       "2  e2127556f4f64592b11af22de27a7932  offer received   \n",
       "3  8ec6ce2a7e7949b1bf142def7d0e0586  offer received   \n",
       "4  68617ca6246f4fbc85e91a2a49552598  offer received   \n",
       "\n",
       "                                              value  time  \n",
       "0  {'offer id': '9b98b8c7a33c4b65b9aebfe6a799e6d9'}     0  \n",
       "1  {'offer id': '0b1e1539f2cc45b7b9fa7c272da2e1d7'}     0  \n",
       "2  {'offer id': '2906b810c7d4411798c6938adc9daaa5'}     0  \n",
       "3  {'offer id': 'fafdcd668e3743c1bb461111dcafc2a4'}     0  \n",
       "4  {'offer id': '4d5c57ea9a6940dd891ad53e9dbe8da0'}     0  "
      ]
     },
     "execution_count": 24,
     "metadata": {},
     "output_type": "execute_result"
    }
   ],
   "source": [
    "print('transcript size  : {}'.format(transcript.shape))\n",
    "transcript.head()"
   ]
  },
  {
   "cell_type": "markdown",
   "metadata": {},
   "source": [
    "Event Type Distribution"
   ]
  },
  {
   "cell_type": "code",
   "execution_count": 25,
   "metadata": {},
   "outputs": [
    {
     "data": {
      "text/html": [
       "<div>\n",
       "<style scoped>\n",
       "    .dataframe tbody tr th:only-of-type {\n",
       "        vertical-align: middle;\n",
       "    }\n",
       "\n",
       "    .dataframe tbody tr th {\n",
       "        vertical-align: top;\n",
       "    }\n",
       "\n",
       "    .dataframe thead th {\n",
       "        text-align: right;\n",
       "    }\n",
       "</style>\n",
       "<table border=\"1\" class=\"dataframe\">\n",
       "  <thead>\n",
       "    <tr style=\"text-align: right;\">\n",
       "      <th></th>\n",
       "      <th>event</th>\n",
       "      <th>count</th>\n",
       "    </tr>\n",
       "  </thead>\n",
       "  <tbody>\n",
       "    <tr>\n",
       "      <th>0</th>\n",
       "      <td>transaction</td>\n",
       "      <td>138953</td>\n",
       "    </tr>\n",
       "    <tr>\n",
       "      <th>1</th>\n",
       "      <td>offer received</td>\n",
       "      <td>76277</td>\n",
       "    </tr>\n",
       "    <tr>\n",
       "      <th>2</th>\n",
       "      <td>offer viewed</td>\n",
       "      <td>57725</td>\n",
       "    </tr>\n",
       "    <tr>\n",
       "      <th>3</th>\n",
       "      <td>offer completed</td>\n",
       "      <td>33579</td>\n",
       "    </tr>\n",
       "  </tbody>\n",
       "</table>\n",
       "</div>"
      ],
      "text/plain": [
       "             event   count\n",
       "0      transaction  138953\n",
       "1   offer received   76277\n",
       "2     offer viewed   57725\n",
       "3  offer completed   33579"
      ]
     },
     "execution_count": 25,
     "metadata": {},
     "output_type": "execute_result"
    }
   ],
   "source": [
    "event_counts = transcript['event'].value_counts()\n",
    "event_counts = pd.DataFrame(list(zip(event_counts.index.values, event_counts)), columns=['event', 'count'])\n",
    "event_counts"
   ]
  },
  {
   "cell_type": "code",
   "execution_count": 26,
   "metadata": {},
   "outputs": [
    {
     "name": "stdout",
     "output_type": "stream",
     "text": [
      "total_transactions 306534\n",
      "offer_received 76277 percentage: 24.9 %\n",
      "offer_viewed 57725 percentage: 24.9 %\n",
      "offer_completed 33579 percentage: 24.9 %\n",
      "\n"
     ]
    }
   ],
   "source": [
    "total_transactions = event_counts['count'].sum()\n",
    "offer_received = (transcript['event'] == 'offer received').sum()\n",
    "offer_viewed = (transcript['event'] == 'offer viewed').sum()\n",
    "offer_completed = (transcript['event'] == 'offer completed').sum()\n",
    "print('total_transactions', total_transactions)\n",
    "print('offer_received', offer_received, \"percentage: %.1f %%\" % (offer_received/total_transactions * 100))\n",
    "print('offer_viewed', offer_viewed, \"percentage: %.1f %%\" % (offer_received/total_transactions * 100))\n",
    "print('offer_completed', offer_completed, \"percentage: %.1f %%\" % (offer_received/total_transactions * 100))\n",
    "print()"
   ]
  },
  {
   "cell_type": "code",
   "execution_count": 27,
   "metadata": {},
   "outputs": [
    {
     "data": {
      "text/plain": [
       "(306534, 4)"
      ]
     },
     "execution_count": 27,
     "metadata": {},
     "output_type": "execute_result"
    }
   ],
   "source": [
    "transcript.shape"
   ]
  },
  {
   "cell_type": "code",
   "execution_count": 28,
   "metadata": {},
   "outputs": [
    {
     "data": {
      "text/plain": [
       "<bound method NDFrame.head of                                   person           event  \\\n",
       "0       78afa995795e4d85b5d9ceeca43f5fef  offer received   \n",
       "1       a03223e636434f42ac4c3df47e8bac43  offer received   \n",
       "2       e2127556f4f64592b11af22de27a7932  offer received   \n",
       "3       8ec6ce2a7e7949b1bf142def7d0e0586  offer received   \n",
       "4       68617ca6246f4fbc85e91a2a49552598  offer received   \n",
       "...                                  ...             ...   \n",
       "306529  b3a1272bc9904337b331bf348c3e8c17     transaction   \n",
       "306530  68213b08d99a4ae1b0dcb72aebd9aa35     transaction   \n",
       "306531  a00058cf10334a308c68e7631c529907     transaction   \n",
       "306532  76ddbd6576844afe811f1a3c0fbb5bec     transaction   \n",
       "306533  c02b10e8752c4d8e9b73f918558531f7     transaction   \n",
       "\n",
       "                                                   value  time  \n",
       "0       {'offer id': '9b98b8c7a33c4b65b9aebfe6a799e6d9'}     0  \n",
       "1       {'offer id': '0b1e1539f2cc45b7b9fa7c272da2e1d7'}     0  \n",
       "2       {'offer id': '2906b810c7d4411798c6938adc9daaa5'}     0  \n",
       "3       {'offer id': 'fafdcd668e3743c1bb461111dcafc2a4'}     0  \n",
       "4       {'offer id': '4d5c57ea9a6940dd891ad53e9dbe8da0'}     0  \n",
       "...                                                  ...   ...  \n",
       "306529                    {'amount': 1.5899999999999999}   714  \n",
       "306530                                  {'amount': 9.53}   714  \n",
       "306531                                  {'amount': 3.61}   714  \n",
       "306532                    {'amount': 3.5300000000000002}   714  \n",
       "306533                                  {'amount': 4.05}   714  \n",
       "\n",
       "[306534 rows x 4 columns]>"
      ]
     },
     "execution_count": 28,
     "metadata": {},
     "output_type": "execute_result"
    }
   ],
   "source": [
    "transcript.head"
   ]
  },
  {
   "cell_type": "code",
   "execution_count": 29,
   "metadata": {},
   "outputs": [],
   "source": [
    "def process_and_clean_transcript(transcript, cleaned_profile):\n",
    "    \"\"\"Process and clean the transcript dataset.\"\"\"\n",
    "    transcript_cleaned = transcript   \n",
    "    # Change the name of the 'person' column to 'customerid'\n",
    "    transcript_cleaned.columns = rename_column_name(transcript_cleaned, 'person', 'customerid')\n",
    "    # Remove customer id's that are not in the customer profile DataFrame\n",
    "    customer_in_profile = transcript_cleaned['customerid'].isin(cleaned_profile['customerid'])\n",
    "    transcript_cleaned = transcript_cleaned[customer_in_profile]\n",
    "    transction_with_missing_customers = 100 * (1 - customer_in_profile.sum() / customer_in_profile.shape[0])\n",
    "    print(\" %.2f %%\" % transction_with_missing_customers, \"transactions with missing customers removed\")\n",
    "\n",
    "    # Convert from hours to days\n",
    "    transcript_cleaned['time'] /= 24.0\n",
    "    # Change the name of the time column to timedays\n",
    "    transcript_cleaned.columns = rename_column_name(transcript_cleaned, 'time', 'timedays')\n",
    "\n",
    "    is_offer = transcript['event'].str.contains('offer')\n",
    "\n",
    "    # Transaction Dataset #\n",
    "    transaction = transcript[is_offer == False]\n",
    "    transaction = transaction.reset_index(drop=True)\n",
    "    transaction['amount'] = transaction['value'].apply(lambda elem: list(elem.values())[0])\n",
    "    transaction = transaction.drop(columns=['event', 'value'])\n",
    "    transaction_column_order = ['customerid', 'timedays', 'amount']\n",
    "    transaction = transaction[transaction_column_order]\n",
    "\n",
    "    # Offer Dataset #\n",
    "    offer_data = transcript_cleaned[is_offer].copy()\n",
    "    offer_data = offer_data.reset_index(drop=True)\n",
    "    # Create an offerid column\n",
    "    offer_data['offerid'] = offer_data['value'].apply(lambda elem: list(elem.values())[0])\n",
    "\n",
    "    # wrangling customer offer event data\n",
    "    pattern_obj = re.compile('^offer ([a-z]+$)')\n",
    "    transform_match_lambda = lambda elem: pattern_obj.match(elem).groups(1)[0]\n",
    "    offer_data['event'] = offer_data['event'].apply(transform_match_lambda)\n",
    "    # hot encode offer events\n",
    "    event_df = pd.get_dummies(offer_data['event'])\n",
    "\n",
    "    # offer events data\n",
    "    offer_data = pd.concat([offer_data, event_df], axis=1)\n",
    "    offer_data.drop(columns=['event', 'value'])\n",
    "    offer_column_order = ['offerid', 'customerid', 'timedays']\n",
    "    offer_column_order.extend(event_df.columns.values)\n",
    "    offer_data = offer_data[offer_column_order]\n",
    "    return transaction, offer_data"
   ]
  },
  {
   "cell_type": "code",
   "execution_count": 30,
   "metadata": {},
   "outputs": [
    {
     "name": "stdout",
     "output_type": "stream",
     "text": [
      " 12.31 % transactions with missing customers removed\n"
     ]
    }
   ],
   "source": [
    "transaction_data, offer_data = process_and_clean_transcript(transcript, cleaned_profile)\n"
   ]
  },
  {
   "cell_type": "code",
   "execution_count": 31,
   "metadata": {},
   "outputs": [
    {
     "data": {
      "text/html": [
       "<div>\n",
       "<style scoped>\n",
       "    .dataframe tbody tr th:only-of-type {\n",
       "        vertical-align: middle;\n",
       "    }\n",
       "\n",
       "    .dataframe tbody tr th {\n",
       "        vertical-align: top;\n",
       "    }\n",
       "\n",
       "    .dataframe thead th {\n",
       "        text-align: right;\n",
       "    }\n",
       "</style>\n",
       "<table border=\"1\" class=\"dataframe\">\n",
       "  <thead>\n",
       "    <tr style=\"text-align: right;\">\n",
       "      <th></th>\n",
       "      <th>offerid</th>\n",
       "      <th>customerid</th>\n",
       "      <th>timedays</th>\n",
       "      <th>completed</th>\n",
       "      <th>received</th>\n",
       "      <th>viewed</th>\n",
       "    </tr>\n",
       "  </thead>\n",
       "  <tbody>\n",
       "    <tr>\n",
       "      <th>0</th>\n",
       "      <td>9b98b8c7a33c4b65b9aebfe6a799e6d9</td>\n",
       "      <td>78afa995795e4d85b5d9ceeca43f5fef</td>\n",
       "      <td>0.0</td>\n",
       "      <td>0</td>\n",
       "      <td>1</td>\n",
       "      <td>0</td>\n",
       "    </tr>\n",
       "    <tr>\n",
       "      <th>1</th>\n",
       "      <td>2906b810c7d4411798c6938adc9daaa5</td>\n",
       "      <td>e2127556f4f64592b11af22de27a7932</td>\n",
       "      <td>0.0</td>\n",
       "      <td>0</td>\n",
       "      <td>1</td>\n",
       "      <td>0</td>\n",
       "    </tr>\n",
       "    <tr>\n",
       "      <th>2</th>\n",
       "      <td>f19421c1d4aa40978ebb69ca19b0e20d</td>\n",
       "      <td>389bc3fa690240e798340f5a15918d5c</td>\n",
       "      <td>0.0</td>\n",
       "      <td>0</td>\n",
       "      <td>1</td>\n",
       "      <td>0</td>\n",
       "    </tr>\n",
       "    <tr>\n",
       "      <th>3</th>\n",
       "      <td>3f207df678b143eea3cee63160fa8bed</td>\n",
       "      <td>2eeac8d8feae4a8cad5a6af0499a211d</td>\n",
       "      <td>0.0</td>\n",
       "      <td>0</td>\n",
       "      <td>1</td>\n",
       "      <td>0</td>\n",
       "    </tr>\n",
       "    <tr>\n",
       "      <th>4</th>\n",
       "      <td>0b1e1539f2cc45b7b9fa7c272da2e1d7</td>\n",
       "      <td>aa4862eba776480b8bb9c68455b8c2e1</td>\n",
       "      <td>0.0</td>\n",
       "      <td>0</td>\n",
       "      <td>1</td>\n",
       "      <td>0</td>\n",
       "    </tr>\n",
       "  </tbody>\n",
       "</table>\n",
       "</div>"
      ],
      "text/plain": [
       "                            offerid                        customerid  \\\n",
       "0  9b98b8c7a33c4b65b9aebfe6a799e6d9  78afa995795e4d85b5d9ceeca43f5fef   \n",
       "1  2906b810c7d4411798c6938adc9daaa5  e2127556f4f64592b11af22de27a7932   \n",
       "2  f19421c1d4aa40978ebb69ca19b0e20d  389bc3fa690240e798340f5a15918d5c   \n",
       "3  3f207df678b143eea3cee63160fa8bed  2eeac8d8feae4a8cad5a6af0499a211d   \n",
       "4  0b1e1539f2cc45b7b9fa7c272da2e1d7  aa4862eba776480b8bb9c68455b8c2e1   \n",
       "\n",
       "   timedays  completed  received  viewed  \n",
       "0       0.0          0         1       0  \n",
       "1       0.0          0         1       0  \n",
       "2       0.0          0         1       0  \n",
       "3       0.0          0         1       0  \n",
       "4       0.0          0         1       0  "
      ]
     },
     "execution_count": 31,
     "metadata": {},
     "output_type": "execute_result"
    }
   ],
   "source": [
    "offer_data.head()"
   ]
  },
  {
   "cell_type": "code",
   "execution_count": 32,
   "metadata": {},
   "outputs": [
    {
     "data": {
      "image/png": "[encoded data removed]",
      "text/plain": [
       "<Figure size 720x720 with 4 Axes>"
      ]
     },
     "metadata": {
      "needs_background": "light"
     },
     "output_type": "display_data"
    }
   ],
   "source": [
    "# Create a histogram of all features to show the distribution of each one relative to the data. \n",
    "offer_data.hist(figsize=(10,10),xrot=0);\n"
   ]
  },
  {
   "cell_type": "code",
   "execution_count": 33,
   "metadata": {},
   "outputs": [
    {
     "data": {
      "text/plain": [
       "<bound method NDFrame.head of    reward  difficulty  durationdays                           offerid  web  \\\n",
       "0      10          10             7  ae264e3637204a6fb9bb56bc8210ddfd    0   \n",
       "1      10          10             5  4d5c57ea9a6940dd891ad53e9dbe8da0    1   \n",
       "2       0           0             4  3f207df678b143eea3cee63160fa8bed    1   \n",
       "3       5           5             7  9b98b8c7a33c4b65b9aebfe6a799e6d9    1   \n",
       "4       5          20            10  0b1e1539f2cc45b7b9fa7c272da2e1d7    1   \n",
       "5       3           7             7  2298d6c36e964ae4a3e7e9706d1fb8c2    1   \n",
       "6       2          10            10  fafdcd668e3743c1bb461111dcafc2a4    1   \n",
       "7       0           0             3  5a8bc65990b245e5a138643cd4eb9837    0   \n",
       "8       5           5             5  f19421c1d4aa40978ebb69ca19b0e20d    1   \n",
       "9       2          10             7  2906b810c7d4411798c6938adc9daaa5    1   \n",
       "\n",
       "   email  mobile  social  bogo  discount  informational  \n",
       "0      1       1       1     1         0              0  \n",
       "1      1       1       1     1         0              0  \n",
       "2      1       1       0     0         0              1  \n",
       "3      1       1       0     1         0              0  \n",
       "4      1       0       0     0         1              0  \n",
       "5      1       1       1     0         1              0  \n",
       "6      1       1       1     0         1              0  \n",
       "7      1       1       1     0         0              1  \n",
       "8      1       1       1     1         0              0  \n",
       "9      1       1       0     0         1              0  >"
      ]
     },
     "execution_count": 33,
     "metadata": {},
     "output_type": "execute_result"
    }
   ],
   "source": [
    "cleaned_portfolio.head"
   ]
  },
  {
   "cell_type": "code",
   "execution_count": 34,
   "metadata": {},
   "outputs": [
    {
     "data": {
      "text/plain": [
       "(138953, 3)"
      ]
     },
     "execution_count": 34,
     "metadata": {},
     "output_type": "execute_result"
    }
   ],
   "source": [
    "transaction_data.shape"
   ]
  },
  {
   "cell_type": "code",
   "execution_count": 35,
   "metadata": {},
   "outputs": [
    {
     "data": {
      "text/html": [
       "<div>\n",
       "<style scoped>\n",
       "    .dataframe tbody tr th:only-of-type {\n",
       "        vertical-align: middle;\n",
       "    }\n",
       "\n",
       "    .dataframe tbody tr th {\n",
       "        vertical-align: top;\n",
       "    }\n",
       "\n",
       "    .dataframe thead th {\n",
       "        text-align: right;\n",
       "    }\n",
       "</style>\n",
       "<table border=\"1\" class=\"dataframe\">\n",
       "  <thead>\n",
       "    <tr style=\"text-align: right;\">\n",
       "      <th></th>\n",
       "      <th>customerid</th>\n",
       "      <th>timedays</th>\n",
       "      <th>amount</th>\n",
       "    </tr>\n",
       "  </thead>\n",
       "  <tbody>\n",
       "    <tr>\n",
       "      <th>0</th>\n",
       "      <td>02c083884c7d45b39cc68e1314fec56c</td>\n",
       "      <td>0</td>\n",
       "      <td>0.83</td>\n",
       "    </tr>\n",
       "    <tr>\n",
       "      <th>1</th>\n",
       "      <td>9fa9ae8f57894cc9a3b8a9bbe0fc1b2f</td>\n",
       "      <td>0</td>\n",
       "      <td>34.56</td>\n",
       "    </tr>\n",
       "    <tr>\n",
       "      <th>2</th>\n",
       "      <td>54890f68699049c2a04d415abc25e717</td>\n",
       "      <td>0</td>\n",
       "      <td>13.23</td>\n",
       "    </tr>\n",
       "    <tr>\n",
       "      <th>3</th>\n",
       "      <td>b2f1cd155b864803ad8334cdf13c4bd2</td>\n",
       "      <td>0</td>\n",
       "      <td>19.51</td>\n",
       "    </tr>\n",
       "    <tr>\n",
       "      <th>4</th>\n",
       "      <td>fe97aa22dd3e48c8b143116a8403dd52</td>\n",
       "      <td>0</td>\n",
       "      <td>18.97</td>\n",
       "    </tr>\n",
       "  </tbody>\n",
       "</table>\n",
       "</div>"
      ],
      "text/plain": [
       "                         customerid  timedays  amount\n",
       "0  02c083884c7d45b39cc68e1314fec56c         0    0.83\n",
       "1  9fa9ae8f57894cc9a3b8a9bbe0fc1b2f         0   34.56\n",
       "2  54890f68699049c2a04d415abc25e717         0   13.23\n",
       "3  b2f1cd155b864803ad8334cdf13c4bd2         0   19.51\n",
       "4  fe97aa22dd3e48c8b143116a8403dd52         0   18.97"
      ]
     },
     "execution_count": 35,
     "metadata": {},
     "output_type": "execute_result"
    }
   ],
   "source": [
    "transaction_data.head()"
   ]
  },
  {
   "cell_type": "code",
   "execution_count": 36,
   "metadata": {},
   "outputs": [],
   "source": [
    "def get_valid_offer_rows(customer_id, portfolio, offer_data, transaction):\n",
    "    \"\"\"Process the customer transaction records and determine if an offer is success.\"\"\"\n",
    "    # offer data for a specific customer\n",
    "    customer_offer_data = offer_data[offer_data['customerid'] == customer_id]\n",
    "    customer_offer_data = customer_offer_data.reset_index(drop=True)\n",
    "\n",
    "    offer_received = customer_offer_data[customer_offer_data['received'] == 1]\n",
    "    offer_viewed = customer_offer_data[customer_offer_data['viewed'] == 1]\n",
    "    offer_completed = customer_offer_data[customer_offer_data['completed'] == 1]\n",
    "    offer_received = offer_received.reset_index(drop=True)\n",
    "    offer_viewed = offer_viewed.reset_index(drop=True)\n",
    "    offer_completed = offer_completed.reset_index(drop=True)\n",
    "\n",
    "    # Transaction Data for current customer\n",
    "    customer_transaction_data = transaction[transaction['customerid'] == customer_id]\n",
    "    customer_transaction_data = customer_transaction_data.reset_index(\n",
    "        drop=True)\n",
    "\n",
    "    processed_customer_offers_rows = []\n",
    "    for offer_received_index in range(offer_received.shape[0]):\n",
    "        # current offer\n",
    "        current_offer_id = offer_received.iloc[offer_received_index]['offerid']\n",
    "        current_offer = portfolio.loc[portfolio['offerid'] == current_offer_id]\n",
    "        durationdays = current_offer['durationdays'].values[0]\n",
    "\n",
    "        # Valid Offer Time Period\n",
    "        current_offer_startime = offer_received.iloc[offer_received_index]['timedays']\n",
    "        current_offer_endtime = offer_received.iloc[offer_received_index]['timedays'] + durationdays\n",
    "\n",
    "        # Valid Offer = Customer viewed the offer and completed the transaction within the duration window\n",
    "        is_offer_completed = np.logical_and(offer_completed['timedays'] >= current_offer_startime, offer_completed['timedays'] <= current_offer_endtime)\n",
    "        is_offer_viewed = np.logical_and(offer_viewed['timedays'] >= current_offer_startime, offer_viewed['timedays'] <= current_offer_endtime)\n",
    "        is_offer_successful = is_offer_completed.sum() > 0 and is_offer_viewed.sum() > 0\n",
    "\n",
    "        # Valid Transactions Due to Offer - Customer transactions within the current offer valid time window\n",
    "        is_transaction_within_offer_period = np.logical_and(customer_transaction_data['timedays'] >= current_offer_startime,\n",
    "                                                            customer_transaction_data['timedays'] <= current_offer_endtime)\n",
    "        current_offer_transactions = customer_transaction_data[is_transaction_within_offer_period]\n",
    "\n",
    "        processed_offer_row = {\n",
    "            'offerid': current_offer_id,\n",
    "            'customerid': customer_id,\n",
    "            'offer_start_time': current_offer_startime,\n",
    "            'offersuccessful': int(is_offer_successful),\n",
    "            'totalamount': current_offer_transactions['amount'].sum(),\n",
    "            'transactioncount': len(current_offer_transactions)\n",
    "        }\n",
    "        processed_customer_offers_rows.append(processed_offer_row)\n",
    "\n",
    "    return processed_customer_offers_rows\n"
   ]
  },
  {
   "cell_type": "code",
   "execution_count": 37,
   "metadata": {},
   "outputs": [],
   "source": [
    "def create_merged_dataset(cleaned_profile, cleaned_portfolio, offer_data, transaction_data):\n",
    "    \"\"\"Create the merged dataset.\"\"\"\n",
    "    merged_data = []\n",
    "    customerid_list = offer_data['customerid'].unique()\n",
    "    for customerindex in range(len(customerid_list)):\n",
    "        #for idcustomerindexx in range(100):\n",
    "        merged_data.extend(get_valid_offer_rows(customerid_list[customerindex],\n",
    "                                                                 cleaned_portfolio,\n",
    "                                                                 offer_data,\n",
    "                                                                 transaction_data))\n",
    "\n",
    "    merged_data = pd.DataFrame(merged_data)\n",
    "    merged_data = merged_data.sort_values('offer_start_time')\n",
    "\n",
    "    # merge portfolio\n",
    "    merged_data = pd.merge(merged_data, cleaned_portfolio, on=[\n",
    "                           \"offerid\", \"offerid\"], how='right')\n",
    "    # merge profile\n",
    "    merged_data = pd.merge(merged_data, cleaned_profile, on=[\n",
    "                           \"customerid\", \"customerid\"], how='inner')\n",
    "    \n",
    "    merged_data = merged_data.reset_index(drop=True)\n",
    "    return merged_data\n"
   ]
  },
  {
   "cell_type": "code",
   "execution_count": 38,
   "metadata": {},
   "outputs": [],
   "source": [
    "def get_csv_cache(file_name):\n",
    "    data_dir = \"./data\"\n",
    "    merged_data_csvfile = os.path.join(data_dir, file_name)\n",
    "\n",
    "    if os.path.exists(merged_data_csvfile):\n",
    "        merged_data = pd.read_csv(merged_data_csvfile)\n",
    "    else:\n",
    "        merged_data = create_merged_dataset(cleaned_profile,\n",
    "                                            cleaned_portfolio,\n",
    "                                            offer_data,\n",
    "                                            transaction_data)\n",
    "\n",
    "        merged_data.to_csv(merged_data_csvfile, index=False)\n",
    "    return merged_data\n"
   ]
  },
  {
   "cell_type": "code",
   "execution_count": 124,
   "metadata": {},
   "outputs": [],
   "source": [
    "merged_data = get_csv_cache(\"merged_data.csv\")"
   ]
  },
  {
   "cell_type": "code",
   "execution_count": 121,
   "metadata": {},
   "outputs": [
    {
     "data": {
      "text/html": [
       "<div>\n",
       "<style scoped>\n",
       "    .dataframe tbody tr th:only-of-type {\n",
       "        vertical-align: middle;\n",
       "    }\n",
       "\n",
       "    .dataframe tbody tr th {\n",
       "        vertical-align: top;\n",
       "    }\n",
       "\n",
       "    .dataframe thead th {\n",
       "        text-align: right;\n",
       "    }\n",
       "</style>\n",
       "<table border=\"1\" class=\"dataframe\">\n",
       "  <thead>\n",
       "    <tr style=\"text-align: right;\">\n",
       "      <th></th>\n",
       "      <th>offerid</th>\n",
       "      <th>totalamount</th>\n",
       "      <th>transactioncount</th>\n",
       "      <th>offersuccessful</th>\n",
       "      <th>reward</th>\n",
       "      <th>difficulty</th>\n",
       "      <th>durationdays</th>\n",
       "      <th>web</th>\n",
       "      <th>mobile</th>\n",
       "      <th>social</th>\n",
       "      <th>bogo</th>\n",
       "      <th>discount</th>\n",
       "      <th>informational</th>\n",
       "      <th>age</th>\n",
       "      <th>income</th>\n",
       "      <th>gender</th>\n",
       "    </tr>\n",
       "  </thead>\n",
       "  <tbody>\n",
       "    <tr>\n",
       "      <th>0</th>\n",
       "      <td>ae264e3637204a6fb9bb56bc8210ddfd</td>\n",
       "      <td>0.0</td>\n",
       "      <td>0</td>\n",
       "      <td>0</td>\n",
       "      <td>10</td>\n",
       "      <td>10</td>\n",
       "      <td>7</td>\n",
       "      <td>0</td>\n",
       "      <td>1</td>\n",
       "      <td>1</td>\n",
       "      <td>1</td>\n",
       "      <td>0</td>\n",
       "      <td>0</td>\n",
       "      <td>79.0</td>\n",
       "      <td>116000.0</td>\n",
       "      <td>1</td>\n",
       "    </tr>\n",
       "    <tr>\n",
       "      <th>1</th>\n",
       "      <td>ae264e3637204a6fb9bb56bc8210ddfd</td>\n",
       "      <td>0.0</td>\n",
       "      <td>0</td>\n",
       "      <td>1</td>\n",
       "      <td>10</td>\n",
       "      <td>10</td>\n",
       "      <td>7</td>\n",
       "      <td>0</td>\n",
       "      <td>1</td>\n",
       "      <td>1</td>\n",
       "      <td>1</td>\n",
       "      <td>0</td>\n",
       "      <td>0</td>\n",
       "      <td>79.0</td>\n",
       "      <td>116000.0</td>\n",
       "      <td>1</td>\n",
       "    </tr>\n",
       "    <tr>\n",
       "      <th>2</th>\n",
       "      <td>0b1e1539f2cc45b7b9fa7c272da2e1d7</td>\n",
       "      <td>0.0</td>\n",
       "      <td>0</td>\n",
       "      <td>0</td>\n",
       "      <td>5</td>\n",
       "      <td>20</td>\n",
       "      <td>10</td>\n",
       "      <td>1</td>\n",
       "      <td>0</td>\n",
       "      <td>0</td>\n",
       "      <td>0</td>\n",
       "      <td>1</td>\n",
       "      <td>0</td>\n",
       "      <td>79.0</td>\n",
       "      <td>116000.0</td>\n",
       "      <td>1</td>\n",
       "    </tr>\n",
       "    <tr>\n",
       "      <th>3</th>\n",
       "      <td>fafdcd668e3743c1bb461111dcafc2a4</td>\n",
       "      <td>0.0</td>\n",
       "      <td>0</td>\n",
       "      <td>1</td>\n",
       "      <td>2</td>\n",
       "      <td>10</td>\n",
       "      <td>10</td>\n",
       "      <td>1</td>\n",
       "      <td>1</td>\n",
       "      <td>1</td>\n",
       "      <td>0</td>\n",
       "      <td>1</td>\n",
       "      <td>0</td>\n",
       "      <td>79.0</td>\n",
       "      <td>116000.0</td>\n",
       "      <td>1</td>\n",
       "    </tr>\n",
       "    <tr>\n",
       "      <th>4</th>\n",
       "      <td>2906b810c7d4411798c6938adc9daaa5</td>\n",
       "      <td>0.0</td>\n",
       "      <td>0</td>\n",
       "      <td>0</td>\n",
       "      <td>2</td>\n",
       "      <td>10</td>\n",
       "      <td>7</td>\n",
       "      <td>1</td>\n",
       "      <td>1</td>\n",
       "      <td>0</td>\n",
       "      <td>0</td>\n",
       "      <td>1</td>\n",
       "      <td>0</td>\n",
       "      <td>79.0</td>\n",
       "      <td>116000.0</td>\n",
       "      <td>1</td>\n",
       "    </tr>\n",
       "  </tbody>\n",
       "</table>\n",
       "</div>"
      ],
      "text/plain": [
       "                            offerid  totalamount  transactioncount  \\\n",
       "0  ae264e3637204a6fb9bb56bc8210ddfd          0.0                 0   \n",
       "1  ae264e3637204a6fb9bb56bc8210ddfd          0.0                 0   \n",
       "2  0b1e1539f2cc45b7b9fa7c272da2e1d7          0.0                 0   \n",
       "3  fafdcd668e3743c1bb461111dcafc2a4          0.0                 0   \n",
       "4  2906b810c7d4411798c6938adc9daaa5          0.0                 0   \n",
       "\n",
       "   offersuccessful  reward  difficulty  durationdays  web  mobile  social  \\\n",
       "0                0      10          10             7    0       1       1   \n",
       "1                1      10          10             7    0       1       1   \n",
       "2                0       5          20            10    1       0       0   \n",
       "3                1       2          10            10    1       1       1   \n",
       "4                0       2          10             7    1       1       0   \n",
       "\n",
       "   bogo  discount  informational   age    income  gender  \n",
       "0     1         0              0  79.0  116000.0       1  \n",
       "1     1         0              0  79.0  116000.0       1  \n",
       "2     0         1              0  79.0  116000.0       1  \n",
       "3     0         1              0  79.0  116000.0       1  \n",
       "4     0         1              0  79.0  116000.0       1  "
      ]
     },
     "execution_count": 121,
     "metadata": {},
     "output_type": "execute_result"
    }
   ],
   "source": [
    "#dropping email because email was sent to everyone in the cohort.\n",
    "#dropping member_days because member_days is not a good predictor.\n",
    "\n",
    "merged_data = merged_data.drop(\n",
    "    columns=['customerid', 'offer_start_time', 'email', 'member_days'])\n",
    "\n",
    "column_ordering = ['offerid', 'totalamount', 'transactioncount']\n",
    "column_ordering.extend(\n",
    "    [elem for elem in merged_data.columns if elem not in column_ordering])\n",
    "\n",
    "merged_data = merged_data[column_ordering]\n",
    "merged_data.head()\n"
   ]
  },
  {
   "cell_type": "code",
   "execution_count": 122,
   "metadata": {},
   "outputs": [
    {
     "data": {
      "text/html": [
       "<div>\n",
       "<style scoped>\n",
       "    .dataframe tbody tr th:only-of-type {\n",
       "        vertical-align: middle;\n",
       "    }\n",
       "\n",
       "    .dataframe tbody tr th {\n",
       "        vertical-align: top;\n",
       "    }\n",
       "\n",
       "    .dataframe thead th {\n",
       "        text-align: right;\n",
       "    }\n",
       "</style>\n",
       "<table border=\"1\" class=\"dataframe\">\n",
       "  <thead>\n",
       "    <tr style=\"text-align: right;\">\n",
       "      <th></th>\n",
       "      <th>totalamount</th>\n",
       "    </tr>\n",
       "  </thead>\n",
       "  <tbody>\n",
       "    <tr>\n",
       "      <th>count</th>\n",
       "      <td>65585.000000</td>\n",
       "    </tr>\n",
       "    <tr>\n",
       "      <th>mean</th>\n",
       "      <td>1.045195</td>\n",
       "    </tr>\n",
       "    <tr>\n",
       "      <th>std</th>\n",
       "      <td>10.981303</td>\n",
       "    </tr>\n",
       "    <tr>\n",
       "      <th>min</th>\n",
       "      <td>0.000000</td>\n",
       "    </tr>\n",
       "    <tr>\n",
       "      <th>25%</th>\n",
       "      <td>0.000000</td>\n",
       "    </tr>\n",
       "    <tr>\n",
       "      <th>50%</th>\n",
       "      <td>0.000000</td>\n",
       "    </tr>\n",
       "    <tr>\n",
       "      <th>75%</th>\n",
       "      <td>0.000000</td>\n",
       "    </tr>\n",
       "    <tr>\n",
       "      <th>max</th>\n",
       "      <td>962.100000</td>\n",
       "    </tr>\n",
       "  </tbody>\n",
       "</table>\n",
       "</div>"
      ],
      "text/plain": [
       "        totalamount\n",
       "count  65585.000000\n",
       "mean       1.045195\n",
       "std       10.981303\n",
       "min        0.000000\n",
       "25%        0.000000\n",
       "50%        0.000000\n",
       "75%        0.000000\n",
       "max      962.100000"
      ]
     },
     "execution_count": 122,
     "metadata": {},
     "output_type": "execute_result"
    }
   ],
   "source": [
    "totalamount_data = merged_data[[\"offerid\", \"totalamount\"]]\n",
    "totalamount_data.describe()\n"
   ]
  },
  {
   "cell_type": "code",
   "execution_count": 42,
   "metadata": {},
   "outputs": [
    {
     "name": "stdout",
     "output_type": "stream",
     "text": [
      "Total Spend by offer \n",
      "                                   totalamount\n",
      "offerid                                      \n",
      "0b1e1539f2cc45b7b9fa7c272da2e1d7      9491.04\n",
      "2298d6c36e964ae4a3e7e9706d1fb8c2      7805.67\n",
      "2906b810c7d4411798c6938adc9daaa5      9123.66\n",
      "3f207df678b143eea3cee63160fa8bed      4339.46\n",
      "4d5c57ea9a6940dd891ad53e9dbe8da0      6242.55\n",
      "5a8bc65990b245e5a138643cd4eb9837      3093.08\n",
      "9b98b8c7a33c4b65b9aebfe6a799e6d9      6793.07\n",
      "ae264e3637204a6fb9bb56bc8210ddfd      7587.69\n",
      "f19421c1d4aa40978ebb69ca19b0e20d      4947.76\n",
      "fafdcd668e3743c1bb461111dcafc2a4      9125.12\n"
     ]
    }
   ],
   "source": [
    "totalamount_data = merged_data[[\"offerid\", \"totalamount\"]].groupby('offerid').sum()\n",
    "print('Total Spend by offer \\n', totalamount_data)"
   ]
  },
  {
   "cell_type": "markdown",
   "metadata": {},
   "source": [
    "# Analyse Offer Success Rate Profile"
   ]
  },
  {
   "cell_type": "code",
   "execution_count": 43,
   "metadata": {},
   "outputs": [],
   "source": [
    "def analyse_offer_data_success_rate(portfolio, merged_data):\n",
    "    \"\"\"Analyse the offer data success rate and the total amount.\"\"\"\n",
    "    \n",
    "    totaltransaction_count = merged_data[['offerid', 'transactioncount']].groupby('offerid').sum()\n",
    "    totalamount_count = merged_data[['offerid', 'totalamount']].groupby('offerid').sum()\n",
    "    successful_count = merged_data[['offerid', 'offersuccessful']].groupby('offerid').sum().reset_index()\n",
    "\n",
    "    offer_count = merged_data['offerid'].value_counts()\n",
    "    offer_count = pd.DataFrame(list(zip(offer_count.index.values, offer_count.values)), columns=['offerid', 'count'])\n",
    "\n",
    "    successful_count = successful_count.sort_values('offerid')\n",
    "    offer_count = offer_count.sort_values('offerid')\n",
    "    totalamount_count = totalamount_count.sort_values('offerid')\n",
    "    totaltransaction_count = totaltransaction_count.sort_values('offerid')\n",
    "\n",
    "    offer_analysis = pd.merge(offer_count, successful_count, on=\"offerid\")\n",
    "    offer_analysis['success_rate'] = 100 * offer_analysis['offersuccessful'] / offer_analysis['count']\n",
    "    offer_analysis = pd.merge(offer_analysis, totalamount_count, on=\"offerid\")\n",
    "    offer_analysis = pd.merge(offer_analysis, totaltransaction_count, on=\"offerid\")\n",
    "    offer_analysis = pd.merge(offer_analysis, portfolio, on=\"offerid\")\n",
    "    offer_analysis = offer_analysis.drop(columns=['offersuccessful'])\n",
    "    offer_analysis = offer_analysis.sort_values('success_rate', ascending=False)\n",
    "    return offer_analysis.reset_index(drop=True)"
   ]
  },
  {
   "cell_type": "code",
   "execution_count": 44,
   "metadata": {},
   "outputs": [
    {
     "data": {
      "text/html": [
       "<div>\n",
       "<style scoped>\n",
       "    .dataframe tbody tr th:only-of-type {\n",
       "        vertical-align: middle;\n",
       "    }\n",
       "\n",
       "    .dataframe tbody tr th {\n",
       "        vertical-align: top;\n",
       "    }\n",
       "\n",
       "    .dataframe thead th {\n",
       "        text-align: right;\n",
       "    }\n",
       "</style>\n",
       "<table border=\"1\" class=\"dataframe\">\n",
       "  <thead>\n",
       "    <tr style=\"text-align: right;\">\n",
       "      <th></th>\n",
       "      <th>offerid</th>\n",
       "      <th>count</th>\n",
       "      <th>success_rate</th>\n",
       "      <th>totalamount</th>\n",
       "      <th>transactioncount</th>\n",
       "      <th>reward</th>\n",
       "      <th>difficulty</th>\n",
       "      <th>durationdays</th>\n",
       "      <th>web</th>\n",
       "      <th>email</th>\n",
       "      <th>mobile</th>\n",
       "      <th>social</th>\n",
       "      <th>bogo</th>\n",
       "      <th>discount</th>\n",
       "      <th>informational</th>\n",
       "    </tr>\n",
       "  </thead>\n",
       "  <tbody>\n",
       "    <tr>\n",
       "      <th>0</th>\n",
       "      <td>fafdcd668e3743c1bb461111dcafc2a4</td>\n",
       "      <td>6564</td>\n",
       "      <td>75.289458</td>\n",
       "      <td>9125.12</td>\n",
       "      <td>665</td>\n",
       "      <td>2</td>\n",
       "      <td>10</td>\n",
       "      <td>10</td>\n",
       "      <td>1</td>\n",
       "      <td>1</td>\n",
       "      <td>1</td>\n",
       "      <td>1</td>\n",
       "      <td>0</td>\n",
       "      <td>1</td>\n",
       "      <td>0</td>\n",
       "    </tr>\n",
       "    <tr>\n",
       "      <th>1</th>\n",
       "      <td>2298d6c36e964ae4a3e7e9706d1fb8c2</td>\n",
       "      <td>6563</td>\n",
       "      <td>72.741124</td>\n",
       "      <td>7805.67</td>\n",
       "      <td>566</td>\n",
       "      <td>3</td>\n",
       "      <td>7</td>\n",
       "      <td>7</td>\n",
       "      <td>1</td>\n",
       "      <td>1</td>\n",
       "      <td>1</td>\n",
       "      <td>1</td>\n",
       "      <td>0</td>\n",
       "      <td>1</td>\n",
       "      <td>0</td>\n",
       "    </tr>\n",
       "    <tr>\n",
       "      <th>2</th>\n",
       "      <td>f19421c1d4aa40978ebb69ca19b0e20d</td>\n",
       "      <td>6488</td>\n",
       "      <td>61.451911</td>\n",
       "      <td>4947.76</td>\n",
       "      <td>347</td>\n",
       "      <td>5</td>\n",
       "      <td>5</td>\n",
       "      <td>5</td>\n",
       "      <td>1</td>\n",
       "      <td>1</td>\n",
       "      <td>1</td>\n",
       "      <td>1</td>\n",
       "      <td>1</td>\n",
       "      <td>0</td>\n",
       "      <td>0</td>\n",
       "    </tr>\n",
       "    <tr>\n",
       "      <th>3</th>\n",
       "      <td>ae264e3637204a6fb9bb56bc8210ddfd</td>\n",
       "      <td>6590</td>\n",
       "      <td>54.522003</td>\n",
       "      <td>7587.69</td>\n",
       "      <td>501</td>\n",
       "      <td>10</td>\n",
       "      <td>10</td>\n",
       "      <td>7</td>\n",
       "      <td>0</td>\n",
       "      <td>1</td>\n",
       "      <td>1</td>\n",
       "      <td>1</td>\n",
       "      <td>1</td>\n",
       "      <td>0</td>\n",
       "      <td>0</td>\n",
       "    </tr>\n",
       "    <tr>\n",
       "      <th>4</th>\n",
       "      <td>4d5c57ea9a6940dd891ad53e9dbe8da0</td>\n",
       "      <td>6521</td>\n",
       "      <td>51.602515</td>\n",
       "      <td>6242.55</td>\n",
       "      <td>393</td>\n",
       "      <td>10</td>\n",
       "      <td>10</td>\n",
       "      <td>5</td>\n",
       "      <td>1</td>\n",
       "      <td>1</td>\n",
       "      <td>1</td>\n",
       "      <td>1</td>\n",
       "      <td>1</td>\n",
       "      <td>0</td>\n",
       "      <td>0</td>\n",
       "    </tr>\n",
       "    <tr>\n",
       "      <th>5</th>\n",
       "      <td>9b98b8c7a33c4b65b9aebfe6a799e6d9</td>\n",
       "      <td>6584</td>\n",
       "      <td>47.995140</td>\n",
       "      <td>6793.07</td>\n",
       "      <td>490</td>\n",
       "      <td>5</td>\n",
       "      <td>5</td>\n",
       "      <td>7</td>\n",
       "      <td>1</td>\n",
       "      <td>1</td>\n",
       "      <td>1</td>\n",
       "      <td>0</td>\n",
       "      <td>1</td>\n",
       "      <td>0</td>\n",
       "      <td>0</td>\n",
       "    </tr>\n",
       "    <tr>\n",
       "      <th>6</th>\n",
       "      <td>2906b810c7d4411798c6938adc9daaa5</td>\n",
       "      <td>6543</td>\n",
       "      <td>47.531713</td>\n",
       "      <td>9123.66</td>\n",
       "      <td>540</td>\n",
       "      <td>2</td>\n",
       "      <td>10</td>\n",
       "      <td>7</td>\n",
       "      <td>1</td>\n",
       "      <td>1</td>\n",
       "      <td>1</td>\n",
       "      <td>0</td>\n",
       "      <td>0</td>\n",
       "      <td>1</td>\n",
       "      <td>0</td>\n",
       "    </tr>\n",
       "    <tr>\n",
       "      <th>7</th>\n",
       "      <td>0b1e1539f2cc45b7b9fa7c272da2e1d7</td>\n",
       "      <td>6627</td>\n",
       "      <td>45.510789</td>\n",
       "      <td>9491.04</td>\n",
       "      <td>639</td>\n",
       "      <td>5</td>\n",
       "      <td>20</td>\n",
       "      <td>10</td>\n",
       "      <td>1</td>\n",
       "      <td>1</td>\n",
       "      <td>0</td>\n",
       "      <td>0</td>\n",
       "      <td>0</td>\n",
       "      <td>1</td>\n",
       "      <td>0</td>\n",
       "    </tr>\n",
       "    <tr>\n",
       "      <th>8</th>\n",
       "      <td>3f207df678b143eea3cee63160fa8bed</td>\n",
       "      <td>6561</td>\n",
       "      <td>7.742722</td>\n",
       "      <td>4339.46</td>\n",
       "      <td>287</td>\n",
       "      <td>0</td>\n",
       "      <td>0</td>\n",
       "      <td>4</td>\n",
       "      <td>1</td>\n",
       "      <td>1</td>\n",
       "      <td>1</td>\n",
       "      <td>0</td>\n",
       "      <td>0</td>\n",
       "      <td>0</td>\n",
       "      <td>1</td>\n",
       "    </tr>\n",
       "    <tr>\n",
       "      <th>9</th>\n",
       "      <td>5a8bc65990b245e5a138643cd4eb9837</td>\n",
       "      <td>6544</td>\n",
       "      <td>6.127751</td>\n",
       "      <td>3093.08</td>\n",
       "      <td>208</td>\n",
       "      <td>0</td>\n",
       "      <td>0</td>\n",
       "      <td>3</td>\n",
       "      <td>0</td>\n",
       "      <td>1</td>\n",
       "      <td>1</td>\n",
       "      <td>1</td>\n",
       "      <td>0</td>\n",
       "      <td>0</td>\n",
       "      <td>1</td>\n",
       "    </tr>\n",
       "  </tbody>\n",
       "</table>\n",
       "</div>"
      ],
      "text/plain": [
       "                            offerid  count  success_rate  totalamount  \\\n",
       "0  fafdcd668e3743c1bb461111dcafc2a4   6564     75.289458      9125.12   \n",
       "1  2298d6c36e964ae4a3e7e9706d1fb8c2   6563     72.741124      7805.67   \n",
       "2  f19421c1d4aa40978ebb69ca19b0e20d   6488     61.451911      4947.76   \n",
       "3  ae264e3637204a6fb9bb56bc8210ddfd   6590     54.522003      7587.69   \n",
       "4  4d5c57ea9a6940dd891ad53e9dbe8da0   6521     51.602515      6242.55   \n",
       "5  9b98b8c7a33c4b65b9aebfe6a799e6d9   6584     47.995140      6793.07   \n",
       "6  2906b810c7d4411798c6938adc9daaa5   6543     47.531713      9123.66   \n",
       "7  0b1e1539f2cc45b7b9fa7c272da2e1d7   6627     45.510789      9491.04   \n",
       "8  3f207df678b143eea3cee63160fa8bed   6561      7.742722      4339.46   \n",
       "9  5a8bc65990b245e5a138643cd4eb9837   6544      6.127751      3093.08   \n",
       "\n",
       "   transactioncount  reward  difficulty  durationdays  web  email  mobile  \\\n",
       "0               665       2          10            10    1      1       1   \n",
       "1               566       3           7             7    1      1       1   \n",
       "2               347       5           5             5    1      1       1   \n",
       "3               501      10          10             7    0      1       1   \n",
       "4               393      10          10             5    1      1       1   \n",
       "5               490       5           5             7    1      1       1   \n",
       "6               540       2          10             7    1      1       1   \n",
       "7               639       5          20            10    1      1       0   \n",
       "8               287       0           0             4    1      1       1   \n",
       "9               208       0           0             3    0      1       1   \n",
       "\n",
       "   social  bogo  discount  informational  \n",
       "0       1     0         1              0  \n",
       "1       1     0         1              0  \n",
       "2       1     1         0              0  \n",
       "3       1     1         0              0  \n",
       "4       1     1         0              0  \n",
       "5       0     1         0              0  \n",
       "6       0     0         1              0  \n",
       "7       0     0         1              0  \n",
       "8       0     0         0              1  \n",
       "9       1     0         0              1  "
      ]
     },
     "execution_count": 44,
     "metadata": {},
     "output_type": "execute_result"
    }
   ],
   "source": [
    "offer_analysis = analyse_offer_data_success_rate(cleaned_portfolio, merged_data)\n",
    "offer_analysis"
   ]
  },
  {
   "cell_type": "code",
   "execution_count": 45,
   "metadata": {},
   "outputs": [
    {
     "data": {
      "text/html": [
       "<div>\n",
       "<style scoped>\n",
       "    .dataframe tbody tr th:only-of-type {\n",
       "        vertical-align: middle;\n",
       "    }\n",
       "\n",
       "    .dataframe tbody tr th {\n",
       "        vertical-align: top;\n",
       "    }\n",
       "\n",
       "    .dataframe thead th {\n",
       "        text-align: right;\n",
       "    }\n",
       "</style>\n",
       "<table border=\"1\" class=\"dataframe\">\n",
       "  <thead>\n",
       "    <tr style=\"text-align: right;\">\n",
       "      <th></th>\n",
       "      <th>offerid</th>\n",
       "      <th>count</th>\n",
       "      <th>success_rate</th>\n",
       "      <th>totalamount</th>\n",
       "      <th>transactioncount</th>\n",
       "      <th>reward</th>\n",
       "      <th>difficulty</th>\n",
       "      <th>durationdays</th>\n",
       "      <th>web</th>\n",
       "      <th>email</th>\n",
       "      <th>mobile</th>\n",
       "      <th>social</th>\n",
       "      <th>bogo</th>\n",
       "      <th>discount</th>\n",
       "      <th>informational</th>\n",
       "    </tr>\n",
       "  </thead>\n",
       "  <tbody>\n",
       "    <tr>\n",
       "      <th>0</th>\n",
       "      <td>fafdcd668e3743c1bb461111dcafc2a4</td>\n",
       "      <td>3868</td>\n",
       "      <td>70.682523</td>\n",
       "      <td>4318.42</td>\n",
       "      <td>382</td>\n",
       "      <td>2</td>\n",
       "      <td>10</td>\n",
       "      <td>10</td>\n",
       "      <td>1</td>\n",
       "      <td>1</td>\n",
       "      <td>1</td>\n",
       "      <td>1</td>\n",
       "      <td>0</td>\n",
       "      <td>1</td>\n",
       "      <td>0</td>\n",
       "    </tr>\n",
       "    <tr>\n",
       "      <th>1</th>\n",
       "      <td>2298d6c36e964ae4a3e7e9706d1fb8c2</td>\n",
       "      <td>3845</td>\n",
       "      <td>67.490247</td>\n",
       "      <td>4185.56</td>\n",
       "      <td>341</td>\n",
       "      <td>3</td>\n",
       "      <td>7</td>\n",
       "      <td>7</td>\n",
       "      <td>1</td>\n",
       "      <td>1</td>\n",
       "      <td>1</td>\n",
       "      <td>1</td>\n",
       "      <td>0</td>\n",
       "      <td>1</td>\n",
       "      <td>0</td>\n",
       "    </tr>\n",
       "    <tr>\n",
       "      <th>2</th>\n",
       "      <td>f19421c1d4aa40978ebb69ca19b0e20d</td>\n",
       "      <td>3767</td>\n",
       "      <td>56.251659</td>\n",
       "      <td>2376.00</td>\n",
       "      <td>185</td>\n",
       "      <td>5</td>\n",
       "      <td>5</td>\n",
       "      <td>5</td>\n",
       "      <td>1</td>\n",
       "      <td>1</td>\n",
       "      <td>1</td>\n",
       "      <td>1</td>\n",
       "      <td>1</td>\n",
       "      <td>0</td>\n",
       "      <td>0</td>\n",
       "    </tr>\n",
       "    <tr>\n",
       "      <th>3</th>\n",
       "      <td>ae264e3637204a6fb9bb56bc8210ddfd</td>\n",
       "      <td>3840</td>\n",
       "      <td>47.239583</td>\n",
       "      <td>3906.32</td>\n",
       "      <td>279</td>\n",
       "      <td>10</td>\n",
       "      <td>10</td>\n",
       "      <td>7</td>\n",
       "      <td>0</td>\n",
       "      <td>1</td>\n",
       "      <td>1</td>\n",
       "      <td>1</td>\n",
       "      <td>1</td>\n",
       "      <td>0</td>\n",
       "      <td>0</td>\n",
       "    </tr>\n",
       "    <tr>\n",
       "      <th>4</th>\n",
       "      <td>2906b810c7d4411798c6938adc9daaa5</td>\n",
       "      <td>3815</td>\n",
       "      <td>43.538663</td>\n",
       "      <td>3790.48</td>\n",
       "      <td>312</td>\n",
       "      <td>2</td>\n",
       "      <td>10</td>\n",
       "      <td>7</td>\n",
       "      <td>1</td>\n",
       "      <td>1</td>\n",
       "      <td>1</td>\n",
       "      <td>0</td>\n",
       "      <td>0</td>\n",
       "      <td>1</td>\n",
       "      <td>0</td>\n",
       "    </tr>\n",
       "    <tr>\n",
       "      <th>5</th>\n",
       "      <td>9b98b8c7a33c4b65b9aebfe6a799e6d9</td>\n",
       "      <td>3817</td>\n",
       "      <td>43.280063</td>\n",
       "      <td>2882.37</td>\n",
       "      <td>272</td>\n",
       "      <td>5</td>\n",
       "      <td>5</td>\n",
       "      <td>7</td>\n",
       "      <td>1</td>\n",
       "      <td>1</td>\n",
       "      <td>1</td>\n",
       "      <td>0</td>\n",
       "      <td>1</td>\n",
       "      <td>0</td>\n",
       "      <td>0</td>\n",
       "    </tr>\n",
       "    <tr>\n",
       "      <th>6</th>\n",
       "      <td>4d5c57ea9a6940dd891ad53e9dbe8da0</td>\n",
       "      <td>3784</td>\n",
       "      <td>42.891121</td>\n",
       "      <td>3411.56</td>\n",
       "      <td>240</td>\n",
       "      <td>10</td>\n",
       "      <td>10</td>\n",
       "      <td>5</td>\n",
       "      <td>1</td>\n",
       "      <td>1</td>\n",
       "      <td>1</td>\n",
       "      <td>1</td>\n",
       "      <td>1</td>\n",
       "      <td>0</td>\n",
       "      <td>0</td>\n",
       "    </tr>\n",
       "    <tr>\n",
       "      <th>7</th>\n",
       "      <td>0b1e1539f2cc45b7b9fa7c272da2e1d7</td>\n",
       "      <td>3826</td>\n",
       "      <td>41.244119</td>\n",
       "      <td>3589.42</td>\n",
       "      <td>379</td>\n",
       "      <td>5</td>\n",
       "      <td>20</td>\n",
       "      <td>10</td>\n",
       "      <td>1</td>\n",
       "      <td>1</td>\n",
       "      <td>0</td>\n",
       "      <td>0</td>\n",
       "      <td>0</td>\n",
       "      <td>1</td>\n",
       "      <td>0</td>\n",
       "    </tr>\n",
       "    <tr>\n",
       "      <th>8</th>\n",
       "      <td>3f207df678b143eea3cee63160fa8bed</td>\n",
       "      <td>3812</td>\n",
       "      <td>7.030430</td>\n",
       "      <td>2572.88</td>\n",
       "      <td>171</td>\n",
       "      <td>0</td>\n",
       "      <td>0</td>\n",
       "      <td>4</td>\n",
       "      <td>1</td>\n",
       "      <td>1</td>\n",
       "      <td>1</td>\n",
       "      <td>0</td>\n",
       "      <td>0</td>\n",
       "      <td>0</td>\n",
       "      <td>1</td>\n",
       "    </tr>\n",
       "    <tr>\n",
       "      <th>9</th>\n",
       "      <td>5a8bc65990b245e5a138643cd4eb9837</td>\n",
       "      <td>3755</td>\n",
       "      <td>6.098535</td>\n",
       "      <td>1445.28</td>\n",
       "      <td>109</td>\n",
       "      <td>0</td>\n",
       "      <td>0</td>\n",
       "      <td>3</td>\n",
       "      <td>0</td>\n",
       "      <td>1</td>\n",
       "      <td>1</td>\n",
       "      <td>1</td>\n",
       "      <td>0</td>\n",
       "      <td>0</td>\n",
       "      <td>1</td>\n",
       "    </tr>\n",
       "  </tbody>\n",
       "</table>\n",
       "</div>"
      ],
      "text/plain": [
       "                            offerid  count  success_rate  totalamount  \\\n",
       "0  fafdcd668e3743c1bb461111dcafc2a4   3868     70.682523      4318.42   \n",
       "1  2298d6c36e964ae4a3e7e9706d1fb8c2   3845     67.490247      4185.56   \n",
       "2  f19421c1d4aa40978ebb69ca19b0e20d   3767     56.251659      2376.00   \n",
       "3  ae264e3637204a6fb9bb56bc8210ddfd   3840     47.239583      3906.32   \n",
       "4  2906b810c7d4411798c6938adc9daaa5   3815     43.538663      3790.48   \n",
       "5  9b98b8c7a33c4b65b9aebfe6a799e6d9   3817     43.280063      2882.37   \n",
       "6  4d5c57ea9a6940dd891ad53e9dbe8da0   3784     42.891121      3411.56   \n",
       "7  0b1e1539f2cc45b7b9fa7c272da2e1d7   3826     41.244119      3589.42   \n",
       "8  3f207df678b143eea3cee63160fa8bed   3812      7.030430      2572.88   \n",
       "9  5a8bc65990b245e5a138643cd4eb9837   3755      6.098535      1445.28   \n",
       "\n",
       "   transactioncount  reward  difficulty  durationdays  web  email  mobile  \\\n",
       "0               382       2          10            10    1      1       1   \n",
       "1               341       3           7             7    1      1       1   \n",
       "2               185       5           5             5    1      1       1   \n",
       "3               279      10          10             7    0      1       1   \n",
       "4               312       2          10             7    1      1       1   \n",
       "5               272       5           5             7    1      1       1   \n",
       "6               240      10          10             5    1      1       1   \n",
       "7               379       5          20            10    1      1       0   \n",
       "8               171       0           0             4    1      1       1   \n",
       "9               109       0           0             3    0      1       1   \n",
       "\n",
       "   social  bogo  discount  informational  \n",
       "0       1     0         1              0  \n",
       "1       1     0         1              0  \n",
       "2       1     1         0              0  \n",
       "3       1     1         0              0  \n",
       "4       0     0         1              0  \n",
       "5       0     1         0              0  \n",
       "6       1     1         0              0  \n",
       "7       0     0         1              0  \n",
       "8       0     0         0              1  \n",
       "9       1     0         0              1  "
      ]
     },
     "execution_count": 45,
     "metadata": {},
     "output_type": "execute_result"
    }
   ],
   "source": [
    "male_merged_data = merged_data[(merged_data['gender'] == 0)]\n",
    "male_offer_analysis = analyse_offer_data_success_rate(cleaned_portfolio, male_merged_data)\n",
    "male_offer_analysis"
   ]
  },
  {
   "cell_type": "code",
   "execution_count": 46,
   "metadata": {},
   "outputs": [
    {
     "data": {
      "text/html": [
       "<div>\n",
       "<style scoped>\n",
       "    .dataframe tbody tr th:only-of-type {\n",
       "        vertical-align: middle;\n",
       "    }\n",
       "\n",
       "    .dataframe tbody tr th {\n",
       "        vertical-align: top;\n",
       "    }\n",
       "\n",
       "    .dataframe thead th {\n",
       "        text-align: right;\n",
       "    }\n",
       "</style>\n",
       "<table border=\"1\" class=\"dataframe\">\n",
       "  <thead>\n",
       "    <tr style=\"text-align: right;\">\n",
       "      <th></th>\n",
       "      <th>offerid</th>\n",
       "      <th>count</th>\n",
       "      <th>success_rate</th>\n",
       "      <th>totalamount</th>\n",
       "      <th>transactioncount</th>\n",
       "      <th>reward</th>\n",
       "      <th>difficulty</th>\n",
       "      <th>durationdays</th>\n",
       "      <th>web</th>\n",
       "      <th>email</th>\n",
       "      <th>mobile</th>\n",
       "      <th>social</th>\n",
       "      <th>bogo</th>\n",
       "      <th>discount</th>\n",
       "      <th>informational</th>\n",
       "    </tr>\n",
       "  </thead>\n",
       "  <tbody>\n",
       "    <tr>\n",
       "      <th>0</th>\n",
       "      <td>fafdcd668e3743c1bb461111dcafc2a4</td>\n",
       "      <td>2696</td>\n",
       "      <td>81.899110</td>\n",
       "      <td>4806.70</td>\n",
       "      <td>283</td>\n",
       "      <td>2</td>\n",
       "      <td>10</td>\n",
       "      <td>10</td>\n",
       "      <td>1</td>\n",
       "      <td>1</td>\n",
       "      <td>1</td>\n",
       "      <td>1</td>\n",
       "      <td>0</td>\n",
       "      <td>1</td>\n",
       "      <td>0</td>\n",
       "    </tr>\n",
       "    <tr>\n",
       "      <th>1</th>\n",
       "      <td>2298d6c36e964ae4a3e7e9706d1fb8c2</td>\n",
       "      <td>2718</td>\n",
       "      <td>80.169242</td>\n",
       "      <td>3620.11</td>\n",
       "      <td>225</td>\n",
       "      <td>3</td>\n",
       "      <td>7</td>\n",
       "      <td>7</td>\n",
       "      <td>1</td>\n",
       "      <td>1</td>\n",
       "      <td>1</td>\n",
       "      <td>1</td>\n",
       "      <td>0</td>\n",
       "      <td>1</td>\n",
       "      <td>0</td>\n",
       "    </tr>\n",
       "    <tr>\n",
       "      <th>2</th>\n",
       "      <td>f19421c1d4aa40978ebb69ca19b0e20d</td>\n",
       "      <td>2721</td>\n",
       "      <td>68.651231</td>\n",
       "      <td>2571.76</td>\n",
       "      <td>162</td>\n",
       "      <td>5</td>\n",
       "      <td>5</td>\n",
       "      <td>5</td>\n",
       "      <td>1</td>\n",
       "      <td>1</td>\n",
       "      <td>1</td>\n",
       "      <td>1</td>\n",
       "      <td>1</td>\n",
       "      <td>0</td>\n",
       "      <td>0</td>\n",
       "    </tr>\n",
       "    <tr>\n",
       "      <th>3</th>\n",
       "      <td>ae264e3637204a6fb9bb56bc8210ddfd</td>\n",
       "      <td>2750</td>\n",
       "      <td>64.690909</td>\n",
       "      <td>3681.37</td>\n",
       "      <td>222</td>\n",
       "      <td>10</td>\n",
       "      <td>10</td>\n",
       "      <td>7</td>\n",
       "      <td>0</td>\n",
       "      <td>1</td>\n",
       "      <td>1</td>\n",
       "      <td>1</td>\n",
       "      <td>1</td>\n",
       "      <td>0</td>\n",
       "      <td>0</td>\n",
       "    </tr>\n",
       "    <tr>\n",
       "      <th>4</th>\n",
       "      <td>4d5c57ea9a6940dd891ad53e9dbe8da0</td>\n",
       "      <td>2737</td>\n",
       "      <td>63.646328</td>\n",
       "      <td>2830.99</td>\n",
       "      <td>153</td>\n",
       "      <td>10</td>\n",
       "      <td>10</td>\n",
       "      <td>5</td>\n",
       "      <td>1</td>\n",
       "      <td>1</td>\n",
       "      <td>1</td>\n",
       "      <td>1</td>\n",
       "      <td>1</td>\n",
       "      <td>0</td>\n",
       "      <td>0</td>\n",
       "    </tr>\n",
       "    <tr>\n",
       "      <th>5</th>\n",
       "      <td>9b98b8c7a33c4b65b9aebfe6a799e6d9</td>\n",
       "      <td>2767</td>\n",
       "      <td>54.499458</td>\n",
       "      <td>3910.70</td>\n",
       "      <td>218</td>\n",
       "      <td>5</td>\n",
       "      <td>5</td>\n",
       "      <td>7</td>\n",
       "      <td>1</td>\n",
       "      <td>1</td>\n",
       "      <td>1</td>\n",
       "      <td>0</td>\n",
       "      <td>1</td>\n",
       "      <td>0</td>\n",
       "      <td>0</td>\n",
       "    </tr>\n",
       "    <tr>\n",
       "      <th>6</th>\n",
       "      <td>2906b810c7d4411798c6938adc9daaa5</td>\n",
       "      <td>2728</td>\n",
       "      <td>53.115836</td>\n",
       "      <td>5333.18</td>\n",
       "      <td>228</td>\n",
       "      <td>2</td>\n",
       "      <td>10</td>\n",
       "      <td>7</td>\n",
       "      <td>1</td>\n",
       "      <td>1</td>\n",
       "      <td>1</td>\n",
       "      <td>0</td>\n",
       "      <td>0</td>\n",
       "      <td>1</td>\n",
       "      <td>0</td>\n",
       "    </tr>\n",
       "    <tr>\n",
       "      <th>7</th>\n",
       "      <td>0b1e1539f2cc45b7b9fa7c272da2e1d7</td>\n",
       "      <td>2801</td>\n",
       "      <td>51.338808</td>\n",
       "      <td>5901.62</td>\n",
       "      <td>260</td>\n",
       "      <td>5</td>\n",
       "      <td>20</td>\n",
       "      <td>10</td>\n",
       "      <td>1</td>\n",
       "      <td>1</td>\n",
       "      <td>0</td>\n",
       "      <td>0</td>\n",
       "      <td>0</td>\n",
       "      <td>1</td>\n",
       "      <td>0</td>\n",
       "    </tr>\n",
       "    <tr>\n",
       "      <th>8</th>\n",
       "      <td>3f207df678b143eea3cee63160fa8bed</td>\n",
       "      <td>2749</td>\n",
       "      <td>8.730447</td>\n",
       "      <td>1766.58</td>\n",
       "      <td>116</td>\n",
       "      <td>0</td>\n",
       "      <td>0</td>\n",
       "      <td>4</td>\n",
       "      <td>1</td>\n",
       "      <td>1</td>\n",
       "      <td>1</td>\n",
       "      <td>0</td>\n",
       "      <td>0</td>\n",
       "      <td>0</td>\n",
       "      <td>1</td>\n",
       "    </tr>\n",
       "    <tr>\n",
       "      <th>9</th>\n",
       "      <td>5a8bc65990b245e5a138643cd4eb9837</td>\n",
       "      <td>2789</td>\n",
       "      <td>6.167085</td>\n",
       "      <td>1647.80</td>\n",
       "      <td>99</td>\n",
       "      <td>0</td>\n",
       "      <td>0</td>\n",
       "      <td>3</td>\n",
       "      <td>0</td>\n",
       "      <td>1</td>\n",
       "      <td>1</td>\n",
       "      <td>1</td>\n",
       "      <td>0</td>\n",
       "      <td>0</td>\n",
       "      <td>1</td>\n",
       "    </tr>\n",
       "  </tbody>\n",
       "</table>\n",
       "</div>"
      ],
      "text/plain": [
       "                            offerid  count  success_rate  totalamount  \\\n",
       "0  fafdcd668e3743c1bb461111dcafc2a4   2696     81.899110      4806.70   \n",
       "1  2298d6c36e964ae4a3e7e9706d1fb8c2   2718     80.169242      3620.11   \n",
       "2  f19421c1d4aa40978ebb69ca19b0e20d   2721     68.651231      2571.76   \n",
       "3  ae264e3637204a6fb9bb56bc8210ddfd   2750     64.690909      3681.37   \n",
       "4  4d5c57ea9a6940dd891ad53e9dbe8da0   2737     63.646328      2830.99   \n",
       "5  9b98b8c7a33c4b65b9aebfe6a799e6d9   2767     54.499458      3910.70   \n",
       "6  2906b810c7d4411798c6938adc9daaa5   2728     53.115836      5333.18   \n",
       "7  0b1e1539f2cc45b7b9fa7c272da2e1d7   2801     51.338808      5901.62   \n",
       "8  3f207df678b143eea3cee63160fa8bed   2749      8.730447      1766.58   \n",
       "9  5a8bc65990b245e5a138643cd4eb9837   2789      6.167085      1647.80   \n",
       "\n",
       "   transactioncount  reward  difficulty  durationdays  web  email  mobile  \\\n",
       "0               283       2          10            10    1      1       1   \n",
       "1               225       3           7             7    1      1       1   \n",
       "2               162       5           5             5    1      1       1   \n",
       "3               222      10          10             7    0      1       1   \n",
       "4               153      10          10             5    1      1       1   \n",
       "5               218       5           5             7    1      1       1   \n",
       "6               228       2          10             7    1      1       1   \n",
       "7               260       5          20            10    1      1       0   \n",
       "8               116       0           0             4    1      1       1   \n",
       "9                99       0           0             3    0      1       1   \n",
       "\n",
       "   social  bogo  discount  informational  \n",
       "0       1     0         1              0  \n",
       "1       1     0         1              0  \n",
       "2       1     1         0              0  \n",
       "3       1     1         0              0  \n",
       "4       1     1         0              0  \n",
       "5       0     1         0              0  \n",
       "6       0     0         1              0  \n",
       "7       0     0         1              0  \n",
       "8       0     0         0              1  \n",
       "9       1     0         0              1  "
      ]
     },
     "execution_count": 46,
     "metadata": {},
     "output_type": "execute_result"
    }
   ],
   "source": [
    "female_merged_data = merged_data[(merged_data['gender'] == 1)]\n",
    "female_offer_analysis = analyse_offer_data_success_rate(cleaned_portfolio, female_merged_data)\n",
    "female_offer_analysis"
   ]
  },
  {
   "cell_type": "code",
   "execution_count": 47,
   "metadata": {},
   "outputs": [
    {
     "data": {
      "image/png": "[encoded data removed]",
      "text/plain": [
       "<Figure size 1440x1080 with 12 Axes>"
      ]
     },
     "metadata": {
      "needs_background": "light"
     },
     "output_type": "display_data"
    }
   ],
   "source": [
    "f, ax = plt.subplots(figsize=(20, 15),\n",
    "                     nrows=3,\n",
    "                     ncols=4)\n",
    "\n",
    "ax[0, 0].bar(offer_analysis.index + 1, offer_analysis['count'],\n",
    "             color=(0.2, 0.4, 0.6, 0.6))\n",
    "ax[0, 0].set_xticks(np.arange(0, 10) + 1)\n",
    "ax[0, 0].set_xlabel('Offer #')\n",
    "ax[0, 0].set_ylabel('Count (n)')\n",
    "ax[0, 0].title.set_text('Total Count (n) by Offer')\n",
    "\n",
    "ax[0, 1].plot(offer_analysis.index + 1,\n",
    "              offer_analysis['success_rate'],\n",
    "              linewidth=3)\n",
    "ax[0, 1].set_xticks(np.arange(0, 10) + 1)\n",
    "ax[0, 1].set_xlabel('Offer #')\n",
    "ax[0, 1].set_ylabel('Success Rate (%)')\n",
    "ax[0, 1].title.set_text('Offer Success Rate ')\n",
    "\n",
    "ax[0, 2].plot(offer_analysis.index + 1,\n",
    "              offer_analysis['totalamount'],\n",
    "              linewidth=3)\n",
    "ax[0, 2].set_xticks(np.arange(0, 10) + 1)\n",
    "ax[0, 2].set_xlabel('Offer #')\n",
    "ax[0, 2].set_ylabel('Total Amount Spend $')\n",
    "ax[0, 2].title.set_text('Total Amount Spend by Offer')\n",
    "\n",
    "ax[0, 3].plot(offer_analysis.index + 1,\n",
    "              offer_analysis['transactioncount'],\n",
    "              linewidth=3)\n",
    "ax[0, 3].set_xticks(np.arange(0, 10) + 1)\n",
    "ax[0, 3].set_xlabel('Offer #')\n",
    "ax[0, 3].set_ylabel('Total Valid Transaction Count')\n",
    "ax[0, 3].title.set_text('Total Valid Transaction Count by Offer')\n",
    "\n",
    "# male_success_rate\n",
    "ax[1, 0].bar(male_offer_analysis.index + 1,\n",
    "             male_offer_analysis['count'], color=(0.8, 0.4, 0.6, 0.6))\n",
    "ax[1, 0].set_xticks(np.arange(0, 10) + 1)\n",
    "ax[1, 0].set_xlabel('Offer #')\n",
    "ax[1, 0].set_ylabel('Count (n)')\n",
    "ax[1, 0].title.set_text('Total Count (n)  Offer and Gender Male')\n",
    "\n",
    "ax[1, 1].plot(male_offer_analysis.index + 1,\n",
    "              male_offer_analysis['success_rate'],\n",
    "              linewidth=3,\n",
    "              c='#BF4E30')\n",
    "ax[1, 1].set_xticks(np.arange(0, 10) + 1)\n",
    "ax[1, 1].set_xlabel('Offer #')\n",
    "ax[1, 1].set_ylabel('Success Rate (%)')\n",
    "ax[1, 1].title.set_text('Offer Success Rate by Offer and Gender Male')\n",
    "\n",
    "ax[1, 2].plot(male_offer_analysis.index + 1,\n",
    "              male_offer_analysis['totalamount'],\n",
    "              linewidth=3,\n",
    "              c='#BF4E30')\n",
    "ax[1, 2].set_xticks(np.arange(0, 10) + 1)\n",
    "ax[1, 2].set_xlabel('Offer #')\n",
    "ax[1, 2].set_ylabel('Total Amount Spend $')\n",
    "ax[1, 2].title.set_text('Total Amount Spend by Offer and Gender Male')\n",
    "\n",
    "ax[1, 3].plot(offer_analysis.index + 1,\n",
    "              offer_analysis['transactioncount'],\n",
    "              linewidth=3,\n",
    "              c='#BF4E30')\n",
    "ax[1, 3].set_xticks(np.arange(0, 10) + 1)\n",
    "ax[1, 3].set_xlabel('Offer #')\n",
    "ax[1, 3].set_ylabel('Total Valid Transaction Count')\n",
    "ax[1, 3].title.set_text(\n",
    "    'Total Valid Transaction Count by Offer and Gender Male')\n",
    "\n",
    "# female_success_rate\n",
    "ax[2, 0].bar(female_offer_analysis.index + 1,\n",
    "             female_offer_analysis['count'], color=(0.2, 0.8, 0.6, 0.6))\n",
    "ax[2, 0].set_xticks(np.arange(0, 10) + 1)\n",
    "ax[2, 0].set_xlabel('Offer #')\n",
    "ax[2, 0].set_ylabel('Count (n)')\n",
    "ax[2, 0].title.set_text('Total Count (n) by Offer')\n",
    "\n",
    "ax[2, 1].plot(female_offer_analysis.index + 1,\n",
    "              female_offer_analysis['success_rate'],\n",
    "              linewidth=3,\n",
    "              c='#093824')\n",
    "ax[2, 1].set_xticks(np.arange(0, 10) + 1)\n",
    "ax[2, 1].set_xlabel('Offer #')\n",
    "ax[2, 1].set_ylabel('Success Rate (%)')\n",
    "ax[2, 1].title.set_text('Offer Success Rate by Offer and Gender Female ')\n",
    "\n",
    "ax[2, 2].plot(female_offer_analysis.index + 1,\n",
    "              female_offer_analysis['totalamount'],\n",
    "              linewidth=3,\n",
    "              c='#093824')\n",
    "ax[2, 2].set_xticks(np.arange(0, 10) + 1)\n",
    "ax[2, 2].set_xlabel('Offer #')\n",
    "ax[2, 2].set_ylabel('Total Amount Spend $')\n",
    "ax[2, 2].title.set_text('Total Amount Spend by Offer and Gender Female')\n",
    "\n",
    "ax[2, 3].plot(offer_analysis.index + 1,\n",
    "              offer_analysis['transactioncount'],\n",
    "              linewidth=3,\n",
    "              c='#093824')\n",
    "ax[2, 3].set_xticks(np.arange(0, 10) + 1)\n",
    "ax[2, 3].set_xlabel('Offer #')\n",
    "ax[2, 3].set_ylabel('Total Valid Transaction Count')\n",
    "ax[2, 3].title.set_text(\n",
    "    'Total Valid Transaction Count by Offer and Gender Female')\n",
    "\n",
    "\n",
    "plt.tight_layout()\n"
   ]
  },
  {
   "cell_type": "markdown",
   "metadata": {},
   "source": [
    "* While Offer number 1 have the highest success percentage, offer 7 and 8 return almost the same amount of spend as offer 1 despite only around 47% of success offer rate.\n",
    "* Female respond very well for offer 7 and 8 while male respond well to offer 1 and 2\n",
    "* Removing data that are not good for predicting the success of the offer\n",
    "* There is a large left skew of the member_days which mean that it not a good predictor as majority of the transaction is occurs recently.\n",
    "* offerid is a guid"
   ]
  },
  {
   "cell_type": "markdown",
   "metadata": {},
   "source": [
    "# Prepare Merge Data for Splitting"
   ]
  },
  {
   "cell_type": "code",
   "execution_count": null,
   "metadata": {},
   "outputs": [],
   "source": [
    "merged_data = merged_data.drop(columns=['offerid','totalamount', 'transactioncount'])\n",
    "# convert all values to int\n",
    "merged_data = merged_data.astype(int)"
   ]
  },
  {
   "cell_type": "markdown",
   "metadata": {},
   "source": [
    "# Split Data"
   ]
  },
  {
   "cell_type": "markdown",
   "metadata": {},
   "source": [
    "Training Models baseline model to be compared to XGBoost Model in SageMaker\n",
    "* Logistic Regression Model\n",
    "* Random Forest Model\n",
    "* Gradient Boosting Classifier\n",
    "* XGBoost in SageMaker"
   ]
  },
  {
   "cell_type": "markdown",
   "metadata": {},
   "source": [
    "* `X_train` - This includes your all independent variables,these will be used to train the model, also as we have specified the test_size = 0.2, this means 80% of observations from your complete data will be used to train/fit the model and rest 20% will be used to test the model.\n",
    "* `X_test` - This is remaining 40% portion of the independent variables from the data which will not be used in the training phase and will be used to make predictions to test the accuracy of the model.\n",
    "* `y_train` - This is your dependent variable which needs to be predicted by this model, this includes category labels against your independent variables, we need to specify our dependent variable while training/fitting the model.\n",
    "* `y_test` - This data has category labels for your test data, these labels will be used to test the accuracy between actual and predicted categories."
   ]
  },
  {
   "cell_type": "markdown",
   "metadata": {},
   "source": [
    "Based on validation split \n",
    "https://radiopaedia.org/articles/validation-split-machine-learning\n",
    "\n",
    "60% training, 20% validation and 20% Testing Data\n"
   ]
  },
  {
   "cell_type": "code",
   "execution_count": 49,
   "metadata": {},
   "outputs": [],
   "source": [
    "\n",
    "random_state = 1234\n",
    "\n",
    "class_label_name = 'offersuccessful'\n",
    "\n",
    "X = merged_data.drop(columns=[class_label_name])\n",
    "y = merged_data.filter([class_label_name])\n",
    "\n",
    "(X_train, X_test, y_train, y_test) = train_test_split(X, y, test_size=0.2, random_state=random_state)\n",
    "\n",
    "X_train, X_val, y_train, Y_val = train_test_split(X_train, y_train, test_size=0.25, random_state=random_state)\n"
   ]
  },
  {
   "cell_type": "code",
   "execution_count": 50,
   "metadata": {},
   "outputs": [
    {
     "data": {
      "text/html": [
       "<div>\n",
       "<style scoped>\n",
       "    .dataframe tbody tr th:only-of-type {\n",
       "        vertical-align: middle;\n",
       "    }\n",
       "\n",
       "    .dataframe tbody tr th {\n",
       "        vertical-align: top;\n",
       "    }\n",
       "\n",
       "    .dataframe thead th {\n",
       "        text-align: right;\n",
       "    }\n",
       "</style>\n",
       "<table border=\"1\" class=\"dataframe\">\n",
       "  <thead>\n",
       "    <tr style=\"text-align: right;\">\n",
       "      <th></th>\n",
       "      <th>reward</th>\n",
       "      <th>difficulty</th>\n",
       "      <th>durationdays</th>\n",
       "      <th>web</th>\n",
       "      <th>mobile</th>\n",
       "      <th>social</th>\n",
       "      <th>bogo</th>\n",
       "      <th>discount</th>\n",
       "      <th>informational</th>\n",
       "      <th>age</th>\n",
       "      <th>income</th>\n",
       "      <th>gender</th>\n",
       "    </tr>\n",
       "  </thead>\n",
       "  <tbody>\n",
       "    <tr>\n",
       "      <th>0</th>\n",
       "      <td>10</td>\n",
       "      <td>10</td>\n",
       "      <td>7</td>\n",
       "      <td>0</td>\n",
       "      <td>1</td>\n",
       "      <td>1</td>\n",
       "      <td>1</td>\n",
       "      <td>0</td>\n",
       "      <td>0</td>\n",
       "      <td>79</td>\n",
       "      <td>116000</td>\n",
       "      <td>1</td>\n",
       "    </tr>\n",
       "    <tr>\n",
       "      <th>1</th>\n",
       "      <td>10</td>\n",
       "      <td>10</td>\n",
       "      <td>7</td>\n",
       "      <td>0</td>\n",
       "      <td>1</td>\n",
       "      <td>1</td>\n",
       "      <td>1</td>\n",
       "      <td>0</td>\n",
       "      <td>0</td>\n",
       "      <td>79</td>\n",
       "      <td>116000</td>\n",
       "      <td>1</td>\n",
       "    </tr>\n",
       "    <tr>\n",
       "      <th>2</th>\n",
       "      <td>5</td>\n",
       "      <td>20</td>\n",
       "      <td>10</td>\n",
       "      <td>1</td>\n",
       "      <td>0</td>\n",
       "      <td>0</td>\n",
       "      <td>0</td>\n",
       "      <td>1</td>\n",
       "      <td>0</td>\n",
       "      <td>79</td>\n",
       "      <td>116000</td>\n",
       "      <td>1</td>\n",
       "    </tr>\n",
       "    <tr>\n",
       "      <th>3</th>\n",
       "      <td>2</td>\n",
       "      <td>10</td>\n",
       "      <td>10</td>\n",
       "      <td>1</td>\n",
       "      <td>1</td>\n",
       "      <td>1</td>\n",
       "      <td>0</td>\n",
       "      <td>1</td>\n",
       "      <td>0</td>\n",
       "      <td>79</td>\n",
       "      <td>116000</td>\n",
       "      <td>1</td>\n",
       "    </tr>\n",
       "    <tr>\n",
       "      <th>4</th>\n",
       "      <td>2</td>\n",
       "      <td>10</td>\n",
       "      <td>7</td>\n",
       "      <td>1</td>\n",
       "      <td>1</td>\n",
       "      <td>0</td>\n",
       "      <td>0</td>\n",
       "      <td>1</td>\n",
       "      <td>0</td>\n",
       "      <td>79</td>\n",
       "      <td>116000</td>\n",
       "      <td>1</td>\n",
       "    </tr>\n",
       "    <tr>\n",
       "      <th>...</th>\n",
       "      <td>...</td>\n",
       "      <td>...</td>\n",
       "      <td>...</td>\n",
       "      <td>...</td>\n",
       "      <td>...</td>\n",
       "      <td>...</td>\n",
       "      <td>...</td>\n",
       "      <td>...</td>\n",
       "      <td>...</td>\n",
       "      <td>...</td>\n",
       "      <td>...</td>\n",
       "      <td>...</td>\n",
       "    </tr>\n",
       "    <tr>\n",
       "      <th>65580</th>\n",
       "      <td>2</td>\n",
       "      <td>10</td>\n",
       "      <td>7</td>\n",
       "      <td>1</td>\n",
       "      <td>1</td>\n",
       "      <td>0</td>\n",
       "      <td>0</td>\n",
       "      <td>1</td>\n",
       "      <td>0</td>\n",
       "      <td>70</td>\n",
       "      <td>79000</td>\n",
       "      <td>1</td>\n",
       "    </tr>\n",
       "    <tr>\n",
       "      <th>65581</th>\n",
       "      <td>2</td>\n",
       "      <td>10</td>\n",
       "      <td>7</td>\n",
       "      <td>1</td>\n",
       "      <td>1</td>\n",
       "      <td>0</td>\n",
       "      <td>0</td>\n",
       "      <td>1</td>\n",
       "      <td>0</td>\n",
       "      <td>66</td>\n",
       "      <td>56000</td>\n",
       "      <td>0</td>\n",
       "    </tr>\n",
       "    <tr>\n",
       "      <th>65582</th>\n",
       "      <td>2</td>\n",
       "      <td>10</td>\n",
       "      <td>7</td>\n",
       "      <td>1</td>\n",
       "      <td>1</td>\n",
       "      <td>0</td>\n",
       "      <td>0</td>\n",
       "      <td>1</td>\n",
       "      <td>0</td>\n",
       "      <td>81</td>\n",
       "      <td>94000</td>\n",
       "      <td>1</td>\n",
       "    </tr>\n",
       "    <tr>\n",
       "      <th>65583</th>\n",
       "      <td>2</td>\n",
       "      <td>10</td>\n",
       "      <td>7</td>\n",
       "      <td>1</td>\n",
       "      <td>1</td>\n",
       "      <td>0</td>\n",
       "      <td>0</td>\n",
       "      <td>1</td>\n",
       "      <td>0</td>\n",
       "      <td>31</td>\n",
       "      <td>45000</td>\n",
       "      <td>0</td>\n",
       "    </tr>\n",
       "    <tr>\n",
       "      <th>65584</th>\n",
       "      <td>2</td>\n",
       "      <td>10</td>\n",
       "      <td>7</td>\n",
       "      <td>1</td>\n",
       "      <td>1</td>\n",
       "      <td>0</td>\n",
       "      <td>0</td>\n",
       "      <td>1</td>\n",
       "      <td>0</td>\n",
       "      <td>59</td>\n",
       "      <td>44000</td>\n",
       "      <td>0</td>\n",
       "    </tr>\n",
       "  </tbody>\n",
       "</table>\n",
       "<p>65585 rows × 12 columns</p>\n",
       "</div>"
      ],
      "text/plain": [
       "       reward  difficulty  durationdays  web  mobile  social  bogo  discount  \\\n",
       "0          10          10             7    0       1       1     1         0   \n",
       "1          10          10             7    0       1       1     1         0   \n",
       "2           5          20            10    1       0       0     0         1   \n",
       "3           2          10            10    1       1       1     0         1   \n",
       "4           2          10             7    1       1       0     0         1   \n",
       "...       ...         ...           ...  ...     ...     ...   ...       ...   \n",
       "65580       2          10             7    1       1       0     0         1   \n",
       "65581       2          10             7    1       1       0     0         1   \n",
       "65582       2          10             7    1       1       0     0         1   \n",
       "65583       2          10             7    1       1       0     0         1   \n",
       "65584       2          10             7    1       1       0     0         1   \n",
       "\n",
       "       informational  age  income  gender  \n",
       "0                  0   79  116000       1  \n",
       "1                  0   79  116000       1  \n",
       "2                  0   79  116000       1  \n",
       "3                  0   79  116000       1  \n",
       "4                  0   79  116000       1  \n",
       "...              ...  ...     ...     ...  \n",
       "65580              0   70   79000       1  \n",
       "65581              0   66   56000       0  \n",
       "65582              0   81   94000       1  \n",
       "65583              0   31   45000       0  \n",
       "65584              0   59   44000       0  \n",
       "\n",
       "[65585 rows x 12 columns]"
      ]
     },
     "execution_count": 50,
     "metadata": {},
     "output_type": "execute_result"
    }
   ],
   "source": [
    "X"
   ]
  },
  {
   "cell_type": "code",
   "execution_count": 51,
   "metadata": {},
   "outputs": [
    {
     "data": {
      "text/html": [
       "<div>\n",
       "<style scoped>\n",
       "    .dataframe tbody tr th:only-of-type {\n",
       "        vertical-align: middle;\n",
       "    }\n",
       "\n",
       "    .dataframe tbody tr th {\n",
       "        vertical-align: top;\n",
       "    }\n",
       "\n",
       "    .dataframe thead th {\n",
       "        text-align: right;\n",
       "    }\n",
       "</style>\n",
       "<table border=\"1\" class=\"dataframe\">\n",
       "  <thead>\n",
       "    <tr style=\"text-align: right;\">\n",
       "      <th></th>\n",
       "      <th>reward</th>\n",
       "      <th>difficulty</th>\n",
       "      <th>durationdays</th>\n",
       "      <th>web</th>\n",
       "      <th>mobile</th>\n",
       "      <th>social</th>\n",
       "      <th>bogo</th>\n",
       "      <th>discount</th>\n",
       "      <th>informational</th>\n",
       "      <th>age</th>\n",
       "      <th>income</th>\n",
       "      <th>gender</th>\n",
       "    </tr>\n",
       "  </thead>\n",
       "  <tbody>\n",
       "    <tr>\n",
       "      <th>43343</th>\n",
       "      <td>2</td>\n",
       "      <td>10</td>\n",
       "      <td>7</td>\n",
       "      <td>1</td>\n",
       "      <td>1</td>\n",
       "      <td>0</td>\n",
       "      <td>0</td>\n",
       "      <td>1</td>\n",
       "      <td>0</td>\n",
       "      <td>60</td>\n",
       "      <td>92000</td>\n",
       "      <td>0</td>\n",
       "    </tr>\n",
       "    <tr>\n",
       "      <th>62426</th>\n",
       "      <td>0</td>\n",
       "      <td>0</td>\n",
       "      <td>3</td>\n",
       "      <td>0</td>\n",
       "      <td>1</td>\n",
       "      <td>1</td>\n",
       "      <td>0</td>\n",
       "      <td>0</td>\n",
       "      <td>1</td>\n",
       "      <td>55</td>\n",
       "      <td>83000</td>\n",
       "      <td>1</td>\n",
       "    </tr>\n",
       "    <tr>\n",
       "      <th>62456</th>\n",
       "      <td>2</td>\n",
       "      <td>10</td>\n",
       "      <td>10</td>\n",
       "      <td>1</td>\n",
       "      <td>1</td>\n",
       "      <td>1</td>\n",
       "      <td>0</td>\n",
       "      <td>1</td>\n",
       "      <td>0</td>\n",
       "      <td>70</td>\n",
       "      <td>35000</td>\n",
       "      <td>1</td>\n",
       "    </tr>\n",
       "    <tr>\n",
       "      <th>31614</th>\n",
       "      <td>10</td>\n",
       "      <td>10</td>\n",
       "      <td>5</td>\n",
       "      <td>1</td>\n",
       "      <td>1</td>\n",
       "      <td>1</td>\n",
       "      <td>1</td>\n",
       "      <td>0</td>\n",
       "      <td>0</td>\n",
       "      <td>73</td>\n",
       "      <td>59000</td>\n",
       "      <td>0</td>\n",
       "    </tr>\n",
       "    <tr>\n",
       "      <th>12031</th>\n",
       "      <td>3</td>\n",
       "      <td>7</td>\n",
       "      <td>7</td>\n",
       "      <td>1</td>\n",
       "      <td>1</td>\n",
       "      <td>1</td>\n",
       "      <td>0</td>\n",
       "      <td>1</td>\n",
       "      <td>0</td>\n",
       "      <td>49</td>\n",
       "      <td>97000</td>\n",
       "      <td>0</td>\n",
       "    </tr>\n",
       "    <tr>\n",
       "      <th>...</th>\n",
       "      <td>...</td>\n",
       "      <td>...</td>\n",
       "      <td>...</td>\n",
       "      <td>...</td>\n",
       "      <td>...</td>\n",
       "      <td>...</td>\n",
       "      <td>...</td>\n",
       "      <td>...</td>\n",
       "      <td>...</td>\n",
       "      <td>...</td>\n",
       "      <td>...</td>\n",
       "      <td>...</td>\n",
       "    </tr>\n",
       "    <tr>\n",
       "      <th>26618</th>\n",
       "      <td>3</td>\n",
       "      <td>7</td>\n",
       "      <td>7</td>\n",
       "      <td>1</td>\n",
       "      <td>1</td>\n",
       "      <td>1</td>\n",
       "      <td>0</td>\n",
       "      <td>1</td>\n",
       "      <td>0</td>\n",
       "      <td>43</td>\n",
       "      <td>63000</td>\n",
       "      <td>0</td>\n",
       "    </tr>\n",
       "    <tr>\n",
       "      <th>45954</th>\n",
       "      <td>5</td>\n",
       "      <td>5</td>\n",
       "      <td>5</td>\n",
       "      <td>1</td>\n",
       "      <td>1</td>\n",
       "      <td>1</td>\n",
       "      <td>1</td>\n",
       "      <td>0</td>\n",
       "      <td>0</td>\n",
       "      <td>79</td>\n",
       "      <td>61000</td>\n",
       "      <td>1</td>\n",
       "    </tr>\n",
       "    <tr>\n",
       "      <th>50628</th>\n",
       "      <td>2</td>\n",
       "      <td>10</td>\n",
       "      <td>10</td>\n",
       "      <td>1</td>\n",
       "      <td>1</td>\n",
       "      <td>1</td>\n",
       "      <td>0</td>\n",
       "      <td>1</td>\n",
       "      <td>0</td>\n",
       "      <td>24</td>\n",
       "      <td>57000</td>\n",
       "      <td>0</td>\n",
       "    </tr>\n",
       "    <tr>\n",
       "      <th>2974</th>\n",
       "      <td>10</td>\n",
       "      <td>10</td>\n",
       "      <td>7</td>\n",
       "      <td>0</td>\n",
       "      <td>1</td>\n",
       "      <td>1</td>\n",
       "      <td>1</td>\n",
       "      <td>0</td>\n",
       "      <td>0</td>\n",
       "      <td>76</td>\n",
       "      <td>53000</td>\n",
       "      <td>1</td>\n",
       "    </tr>\n",
       "    <tr>\n",
       "      <th>21934</th>\n",
       "      <td>10</td>\n",
       "      <td>10</td>\n",
       "      <td>5</td>\n",
       "      <td>1</td>\n",
       "      <td>1</td>\n",
       "      <td>1</td>\n",
       "      <td>1</td>\n",
       "      <td>0</td>\n",
       "      <td>0</td>\n",
       "      <td>55</td>\n",
       "      <td>39000</td>\n",
       "      <td>1</td>\n",
       "    </tr>\n",
       "  </tbody>\n",
       "</table>\n",
       "<p>39351 rows × 12 columns</p>\n",
       "</div>"
      ],
      "text/plain": [
       "       reward  difficulty  durationdays  web  mobile  social  bogo  discount  \\\n",
       "43343       2          10             7    1       1       0     0         1   \n",
       "62426       0           0             3    0       1       1     0         0   \n",
       "62456       2          10            10    1       1       1     0         1   \n",
       "31614      10          10             5    1       1       1     1         0   \n",
       "12031       3           7             7    1       1       1     0         1   \n",
       "...       ...         ...           ...  ...     ...     ...   ...       ...   \n",
       "26618       3           7             7    1       1       1     0         1   \n",
       "45954       5           5             5    1       1       1     1         0   \n",
       "50628       2          10            10    1       1       1     0         1   \n",
       "2974       10          10             7    0       1       1     1         0   \n",
       "21934      10          10             5    1       1       1     1         0   \n",
       "\n",
       "       informational  age  income  gender  \n",
       "43343              0   60   92000       0  \n",
       "62426              1   55   83000       1  \n",
       "62456              0   70   35000       1  \n",
       "31614              0   73   59000       0  \n",
       "12031              0   49   97000       0  \n",
       "...              ...  ...     ...     ...  \n",
       "26618              0   43   63000       0  \n",
       "45954              0   79   61000       1  \n",
       "50628              0   24   57000       0  \n",
       "2974               0   76   53000       1  \n",
       "21934              0   55   39000       1  \n",
       "\n",
       "[39351 rows x 12 columns]"
      ]
     },
     "execution_count": 51,
     "metadata": {},
     "output_type": "execute_result"
    }
   ],
   "source": [
    "X_train"
   ]
  },
  {
   "cell_type": "markdown",
   "metadata": {},
   "source": [
    "# Modeling Section"
   ]
  },
  {
   "cell_type": "code",
   "execution_count": 2,
   "metadata": {},
   "outputs": [],
   "source": [
    "def get_model_cache(model_file_name, create_model):\n",
    "    \"\"\"Get the model from cache if exist, if it does not, cache the model.\"\"\"\n",
    "    model_dir = \"./models\"\n",
    "    model_path = os.path.join(model_dir, model_file_name)\n",
    "\n",
    "    if os.path.exists(model_path):\n",
    "        model = load(model_path)\n",
    "    else:\n",
    "        model = create_model()\n",
    "\n",
    "        dump(model, model_path)\n",
    "    return model\n"
   ]
  },
  {
   "cell_type": "code",
   "execution_count": 3,
   "metadata": {},
   "outputs": [],
   "source": [
    "def print_model_performance(model, X_train, y_train):\n",
    "    \"\"\"Print Model Performance.\"\"\"\n",
    "    y_pred = model.predict(X_train)\n",
    "    report = classification_report(y_train, y_pred)\n",
    "    print('report:', report, sep='\\n')\n",
    "    model_accuracy = accuracy_score(y_train, y_pred)\n",
    "    model_f1_score = f1_score(y_train, y_pred)\n",
    "\n",
    "    print(\"model accuracy: %.3f\" % (model_accuracy))\n",
    "    print(\"model f1-score: %.3f\" % (model_f1_score))\n",
    "\n",
    "\n",
    "def get_model_performance_score(model, X_train, y_train):\n",
    "    \"\"\"Return accuracy score and f1 score.\"\"\"\n",
    "    y_pred = model.predict(X_train)\n",
    "    model_accuracy = accuracy_score(y_train, y_pred)\n",
    "    model_f1_score = f1_score(y_train, y_pred)\n",
    "    return model_accuracy, model_f1_score\n"
   ]
  },
  {
   "cell_type": "markdown",
   "metadata": {},
   "source": [
    "### 1) Logistic Regression Model\n",
    "\n",
    "We utilized RandomizedSearchCV here instead of GridSearchCV as RandomizedSearchCv give a randomized approach give the closest possible accurate estimator while saving on computational cost instead of running every single combination possible."
   ]
  },
  {
   "cell_type": "code",
   "execution_count": 13,
   "metadata": {},
   "outputs": [],
   "source": [
    "def create_model_lr():\n",
    "    random_state = 1234\n",
    "    LR_offer = LogisticRegression(\n",
    "        solver='liblinear', C=10.0, random_state=random_state)\n",
    "    LR_offer.fit(X_train, y_train)\n",
    "    LR_offer.score(X_train, y_train)\n",
    "    return LR_offer"
   ]
  },
  {
   "cell_type": "code",
   "execution_count": 14,
   "metadata": {},
   "outputs": [],
   "source": [
    "lr_initial_model = get_model_cache(\"lr_initial_model.sav\", create_model_lr)"
   ]
  },
  {
   "cell_type": "code",
   "execution_count": 15,
   "metadata": {},
   "outputs": [
    {
     "name": "stdout",
     "output_type": "stream",
     "text": [
      "report:\n",
      "              precision    recall  f1-score   support\n",
      "\n",
      "           0       0.74      0.66      0.70     20801\n",
      "           1       0.66      0.74      0.70     18550\n",
      "\n",
      "    accuracy                           0.70     39351\n",
      "   macro avg       0.70      0.70      0.70     39351\n",
      "weighted avg       0.70      0.70      0.70     39351\n",
      "\n",
      "model accuracy: 0.699\n",
      "model f1-score: 0.698\n"
     ]
    }
   ],
   "source": [
    "print_model_performance(lr_initial_model, X_train, y_train)"
   ]
  },
  {
   "cell_type": "markdown",
   "metadata": {},
   "source": [
    "#### Performing Randomized Search cross validation\n",
    "\n",
    "https://scikit-learn.org/stable/modules/generated/sklearn.model_selection.RandomizedSearchCV.html"
   ]
  },
  {
   "cell_type": "code",
   "execution_count": 16,
   "metadata": {},
   "outputs": [],
   "source": [
    "def create_model_lr_randomized_search_cv():\n",
    "    random_state = 1234\n",
    "    LR_offer = LogisticRegression(\n",
    "        solver='liblinear', C=10.0, random_state=random_state)\n",
    "    random_grid = {'penalty': ['l1', 'l2'],\n",
    "                   'C': [1.0, 0.1, 0.01]}\n",
    "    scorer = make_scorer(fbeta_score, beta=0.5)\n",
    "    # train the random search meta-estimator to find the best model out of 6 candidates\n",
    "    # this will train 6 models over 3 folds of cross validation (18 models total)\n",
    "    lr_randomized_search_cv = RandomizedSearchCV(estimator=LR_offer,\n",
    "                                                 param_distributions=random_grid,\n",
    "                                                 scoring=scorer,\n",
    "                                                 n_iter=6,\n",
    "                                                 cv=3,\n",
    "                                                 verbose=2,\n",
    "                                                 n_jobs=3,\n",
    "                                                 random_state=random_state)\n",
    "    lr_randomized_search_cv.fit(X_train, y_train)\n",
    "    lr_randomized_search_cv.score(X_train, y_train)\n",
    "    return lr_randomized_search_cv\n"
   ]
  },
  {
   "cell_type": "code",
   "execution_count": 17,
   "metadata": {},
   "outputs": [],
   "source": [
    "lr_randomized_search_cv = get_model_cache(\"lr_model.sav\", create_model_lr_randomized_search_cv)"
   ]
  },
  {
   "cell_type": "markdown",
   "metadata": {},
   "source": [
    "Evaluate Model Performance"
   ]
  },
  {
   "cell_type": "code",
   "execution_count": 18,
   "metadata": {},
   "outputs": [
    {
     "name": "stdout",
     "output_type": "stream",
     "text": [
      "report:\n",
      "              precision    recall  f1-score   support\n",
      "\n",
      "           0       0.73      0.67      0.70     20801\n",
      "           1       0.66      0.73      0.69     18550\n",
      "\n",
      "    accuracy                           0.70     39351\n",
      "   macro avg       0.70      0.70      0.70     39351\n",
      "weighted avg       0.70      0.70      0.70     39351\n",
      "\n",
      "model accuracy: 0.698\n",
      "model f1-score: 0.694\n"
     ]
    }
   ],
   "source": [
    "print_model_performance(lr_randomized_search_cv.best_estimator_, X_train, y_train)"
   ]
  },
  {
   "cell_type": "markdown",
   "metadata": {},
   "source": [
    "### 2) Random Forest Model\n"
   ]
  },
  {
   "cell_type": "code",
   "execution_count": 20,
   "metadata": {},
   "outputs": [],
   "source": [
    "def create_model_rf_initial_model():\n",
    "    random_state = 1234\n",
    "    rf_classifier = RandomForestClassifier(n_estimators=3,max_depth=5,min_samples_leaf=2,random_state=random_state)\n",
    "    \n",
    "    rf_classifier.fit(X_train, y_train)\n",
    "    return rf_classifier\n"
   ]
  },
  {
   "cell_type": "code",
   "execution_count": 21,
   "metadata": {},
   "outputs": [],
   "source": [
    "rf_initial_model = get_model_cache(\"rf_initial_model.sav\", create_model_rf_initial_model)"
   ]
  },
  {
   "cell_type": "code",
   "execution_count": 22,
   "metadata": {},
   "outputs": [
    {
     "name": "stdout",
     "output_type": "stream",
     "text": [
      "report:\n",
      "              precision    recall  f1-score   support\n",
      "\n",
      "           0       0.79      0.59      0.67     20801\n",
      "           1       0.64      0.82      0.72     18550\n",
      "\n",
      "    accuracy                           0.70     39351\n",
      "   macro avg       0.71      0.71      0.70     39351\n",
      "weighted avg       0.72      0.70      0.70     39351\n",
      "\n",
      "model accuracy: 0.699\n",
      "model f1-score: 0.721\n"
     ]
    }
   ],
   "source": [
    "print_model_performance(rf_initial_model, X_train, y_train)"
   ]
  },
  {
   "cell_type": "markdown",
   "metadata": {},
   "source": [
    "#### Performing Randomized Search cross validation\n",
    "\n",
    "https://scikit-learn.org/stable/modules/generated/sklearn.model_selection.RandomizedSearchCV.html"
   ]
  },
  {
   "cell_type": "code",
   "execution_count": 23,
   "metadata": {},
   "outputs": [],
   "source": [
    "def create_model_rf_randomized_search_cv():\n",
    "    random_state = 1234\n",
    "    rf_classifier = RandomForestClassifier(random_state=random_state)\n",
    "    # Number of trees in random forest\n",
    "    n_estimators = [10, 30, 50, 100, 150, 200, 250, 300]\n",
    "    # Number of features to consider at every split\n",
    "    max_features = ['auto', 'sqrt']\n",
    "    # Maximum number of levels in tree\n",
    "    max_depth = [8,9,10,11,12]\n",
    "    # Minimum number of samples required to split a node\n",
    "    min_samples_split = [2, 5, 10]\n",
    "    # Minimum number of samples required at each leaf node\n",
    "    min_samples_leaf = [1, 2, 4]\n",
    "    parameter = {'n_estimators': n_estimators,\n",
    "                 'max_features': max_features,\n",
    "                 'max_depth': max_depth,\n",
    "                 'min_samples_split': min_samples_split,\n",
    "                 'min_samples_leaf': min_samples_leaf}\n",
    "    scorer = make_scorer(fbeta_score, beta=0.5)\n",
    "    # train the random search meta-estimator to find the best model out of 100 candidates\n",
    "    # this will train 100 models over 3 folds of cross validation (300 models total)\n",
    "    rf_randomized_search_cv = RandomizedSearchCV(estimator=rf_classifier,\n",
    "                                                 param_distributions=parameter,\n",
    "                                                 scoring=scorer,\n",
    "                                                 n_iter=100,\n",
    "                                                 cv=3,\n",
    "                                                 verbose=2,\n",
    "                                                 n_jobs=3,\n",
    "                                                 random_state=random_state)\n",
    "    rf_randomized_search_cv.fit(X_train, y_train)\n",
    "    return rf_randomized_search_cv\n"
   ]
  },
  {
   "cell_type": "code",
   "execution_count": 24,
   "metadata": {},
   "outputs": [],
   "source": [
    "rf_randomized_search_cv = get_model_cache(\"rf_model.sav\", create_model_rf_randomized_search_cv)"
   ]
  },
  {
   "cell_type": "code",
   "execution_count": 25,
   "metadata": {},
   "outputs": [
    {
     "name": "stdout",
     "output_type": "stream",
     "text": [
      "report:\n",
      "              precision    recall  f1-score   support\n",
      "\n",
      "           0       0.79      0.65      0.72     20801\n",
      "           1       0.67      0.81      0.73     18550\n",
      "\n",
      "    accuracy                           0.73     39351\n",
      "   macro avg       0.73      0.73      0.73     39351\n",
      "weighted avg       0.74      0.73      0.72     39351\n",
      "\n",
      "model accuracy: 0.725\n",
      "model f1-score: 0.735\n"
     ]
    }
   ],
   "source": [
    "print_model_performance(rf_randomized_search_cv.best_estimator_, X_train, y_train)"
   ]
  },
  {
   "cell_type": "markdown",
   "metadata": {},
   "source": [
    "### Feature Importance"
   ]
  },
  {
   "cell_type": "code",
   "execution_count": 60,
   "metadata": {},
   "outputs": [
    {
     "data": {
      "image/png": "[encoded data removed]",
      "text/plain": [
       "<Figure size 1440x504 with 1 Axes>"
      ]
     },
     "metadata": {
      "needs_background": "light"
     },
     "output_type": "display_data"
    }
   ],
   "source": [
    "relative_importance = rf_randomized_search_cv.best_estimator_.feature_importances_\n",
    "feature_importance = pd.DataFrame(list(zip(X, relative_importance)), columns=['feature', 'relativeimportance'])\n",
    "feature_importance = feature_importance.sort_values('relativeimportance', ascending=False)\n",
    "feature_importance = feature_importance.reset_index(drop=True)\n",
    " \n",
    "fig = plt.figure(figsize = (20, 7))\n",
    " \n",
    "# creating the bar plot\n",
    "plt.bar(feature_importance['feature'], feature_importance['relativeimportance'], color ='maroon', width = 0.4)\n",
    " \n",
    "plt.xlabel(\"Feature\")\n",
    "plt.ylabel(\"Features Scores\")\n",
    "plt.title(\"Feature Importance\")\n",
    "plt.show()"
   ]
  },
  {
   "cell_type": "code",
   "execution_count": 61,
   "metadata": {},
   "outputs": [
    {
     "data": {
      "text/html": [
       "<div>\n",
       "<style scoped>\n",
       "    .dataframe tbody tr th:only-of-type {\n",
       "        vertical-align: middle;\n",
       "    }\n",
       "\n",
       "    .dataframe tbody tr th {\n",
       "        vertical-align: top;\n",
       "    }\n",
       "\n",
       "    .dataframe thead th {\n",
       "        text-align: right;\n",
       "    }\n",
       "</style>\n",
       "<table border=\"1\" class=\"dataframe\">\n",
       "  <thead>\n",
       "    <tr style=\"text-align: right;\">\n",
       "      <th></th>\n",
       "      <th>feature</th>\n",
       "      <th>relativeimportance</th>\n",
       "    </tr>\n",
       "  </thead>\n",
       "  <tbody>\n",
       "    <tr>\n",
       "      <th>0</th>\n",
       "      <td>durationdays</td>\n",
       "      <td>0.180678</td>\n",
       "    </tr>\n",
       "    <tr>\n",
       "      <th>1</th>\n",
       "      <td>income</td>\n",
       "      <td>0.167380</td>\n",
       "    </tr>\n",
       "    <tr>\n",
       "      <th>2</th>\n",
       "      <td>reward</td>\n",
       "      <td>0.138796</td>\n",
       "    </tr>\n",
       "    <tr>\n",
       "      <th>3</th>\n",
       "      <td>informational</td>\n",
       "      <td>0.134509</td>\n",
       "    </tr>\n",
       "    <tr>\n",
       "      <th>4</th>\n",
       "      <td>difficulty</td>\n",
       "      <td>0.119955</td>\n",
       "    </tr>\n",
       "    <tr>\n",
       "      <th>5</th>\n",
       "      <td>age</td>\n",
       "      <td>0.101562</td>\n",
       "    </tr>\n",
       "    <tr>\n",
       "      <th>6</th>\n",
       "      <td>social</td>\n",
       "      <td>0.056204</td>\n",
       "    </tr>\n",
       "    <tr>\n",
       "      <th>7</th>\n",
       "      <td>gender</td>\n",
       "      <td>0.037193</td>\n",
       "    </tr>\n",
       "    <tr>\n",
       "      <th>8</th>\n",
       "      <td>discount</td>\n",
       "      <td>0.025943</td>\n",
       "    </tr>\n",
       "    <tr>\n",
       "      <th>9</th>\n",
       "      <td>bogo</td>\n",
       "      <td>0.020659</td>\n",
       "    </tr>\n",
       "    <tr>\n",
       "      <th>10</th>\n",
       "      <td>web</td>\n",
       "      <td>0.011752</td>\n",
       "    </tr>\n",
       "    <tr>\n",
       "      <th>11</th>\n",
       "      <td>mobile</td>\n",
       "      <td>0.005368</td>\n",
       "    </tr>\n",
       "  </tbody>\n",
       "</table>\n",
       "</div>"
      ],
      "text/plain": [
       "          feature  relativeimportance\n",
       "0    durationdays            0.180678\n",
       "1          income            0.167380\n",
       "2          reward            0.138796\n",
       "3   informational            0.134509\n",
       "4      difficulty            0.119955\n",
       "5             age            0.101562\n",
       "6          social            0.056204\n",
       "7          gender            0.037193\n",
       "8        discount            0.025943\n",
       "9            bogo            0.020659\n",
       "10            web            0.011752\n",
       "11         mobile            0.005368"
      ]
     },
     "execution_count": 61,
     "metadata": {},
     "output_type": "execute_result"
    }
   ],
   "source": [
    "feature_importance"
   ]
  },
  {
   "cell_type": "markdown",
   "metadata": {},
   "source": [
    "# Model Results"
   ]
  },
  {
   "cell_type": "code",
   "execution_count": 26,
   "metadata": {},
   "outputs": [
    {
     "data": {
      "text/html": [
       "<div>\n",
       "<style scoped>\n",
       "    .dataframe tbody tr th:only-of-type {\n",
       "        vertical-align: middle;\n",
       "    }\n",
       "\n",
       "    .dataframe tbody tr th {\n",
       "        vertical-align: top;\n",
       "    }\n",
       "\n",
       "    .dataframe thead th {\n",
       "        text-align: right;\n",
       "    }\n",
       "</style>\n",
       "<table border=\"1\" class=\"dataframe\">\n",
       "  <thead>\n",
       "    <tr style=\"text-align: right;\">\n",
       "      <th></th>\n",
       "      <th>Classifier Type</th>\n",
       "      <th>Accuracy</th>\n",
       "      <th>F1Score</th>\n",
       "    </tr>\n",
       "  </thead>\n",
       "  <tbody>\n",
       "    <tr>\n",
       "      <th>0</th>\n",
       "      <td>Random Forest</td>\n",
       "      <td>0.725496</td>\n",
       "      <td>0.734673</td>\n",
       "    </tr>\n",
       "    <tr>\n",
       "      <th>1</th>\n",
       "      <td>Logistic Regression</td>\n",
       "      <td>0.698254</td>\n",
       "      <td>0.694206</td>\n",
       "    </tr>\n",
       "  </tbody>\n",
       "</table>\n",
       "</div>"
      ],
      "text/plain": [
       "       Classifier Type  Accuracy   F1Score\n",
       "0        Random Forest  0.725496  0.734673\n",
       "1  Logistic Regression  0.698254  0.694206"
      ]
     },
     "execution_count": 26,
     "metadata": {},
     "output_type": "execute_result"
    }
   ],
   "source": [
    "model_performance_results = []\n",
    "\n",
    "classifier_type = ['Logistic Regression', 'Random Forest']\n",
    "\n",
    "model_performance_results.append(get_model_performance_score(lr_randomized_search_cv.best_estimator_, X_train, y_train))\n",
    "model_performance_results.append(get_model_performance_score(rf_randomized_search_cv.best_estimator_, X_train, y_train))\n",
    "\n",
    "model_performance_results = pd.DataFrame(model_performance_results, columns=['Accuracy', 'F1Score'])\n",
    "classifier_type = pd.DataFrame(classifier_type, columns=['Classifier Type'])\n",
    "model_performance_results = pd.concat([classifier_type, model_performance_results], axis=1)\n",
    "model_performance_results = model_performance_results.sort_values('Accuracy', ascending=False)\n",
    "model_performance_results = model_performance_results.reset_index(drop=True)\n",
    "model_performance_results"
   ]
  },
  {
   "cell_type": "code",
   "execution_count": 28,
   "metadata": {},
   "outputs": [
    {
     "name": "stdout",
     "output_type": "stream",
     "text": [
      "RandomForestClassifier(max_depth=10, min_samples_leaf=4, min_samples_split=10,\n",
      "                       random_state=1234)\n"
     ]
    }
   ],
   "source": [
    "print(rf_randomized_search_cv.best_estimator_)"
   ]
  },
  {
   "cell_type": "code",
   "execution_count": 29,
   "metadata": {},
   "outputs": [
    {
     "data": {
      "text/plain": [
       "dict_keys(['bootstrap', 'ccp_alpha', 'class_weight', 'criterion', 'max_depth', 'max_features', 'max_leaf_nodes', 'max_samples', 'min_impurity_decrease', 'min_impurity_split', 'min_samples_leaf', 'min_samples_split', 'min_weight_fraction_leaf', 'n_estimators', 'n_jobs', 'oob_score', 'random_state', 'verbose', 'warm_start'])"
      ]
     },
     "execution_count": 29,
     "metadata": {},
     "output_type": "execute_result"
    }
   ],
   "source": [
    "rf_randomized_search_cv.best_estimator_.get_params().keys()"
   ]
  },
  {
   "cell_type": "markdown",
   "metadata": {},
   "source": [
    "# Cross validation and parameter tuning\n",
    "We utilized RandomizedSearchCV here instead of GridSearchCV as RandomizedSearchCv give a randomized approach give the closest possible accurate estimator while saving on computational cost instead of running every single combination possible.\n",
    "We tried other subset of parameter and see if we can get a better score here."
   ]
  },
  {
   "cell_type": "code",
   "execution_count": 30,
   "metadata": {},
   "outputs": [],
   "source": [
    "def create_model_rf_randomized_search_cv_tuning():\n",
    "    \"\"\"Model Tuning.\"\"\"\n",
    "    random_state = 1234\n",
    "    rf_clf = RandomForestClassifier(random_state=random_state)\n",
    "    # Number of trees in random forest\n",
    "    n_estimators = [240, 250, 260, 280, 300, 400]\n",
    "    # Number of features to consider at every split\n",
    "    max_features = ['auto', 'sqrt']\n",
    "    # Maximum number of levels in tree\n",
    "    max_depth = [8, 9, 10, 11, 12, 13]\n",
    "    # Minimum number of samples required to split a node\n",
    "    min_samples_split = [2, 5, 10]\n",
    "    # Minimum number of samples required at each leaf node\n",
    "    min_samples_leaf = [1, 2, 4]\n",
    "    # parameter\n",
    "    parameter = {'n_estimators': n_estimators,\n",
    "                 'max_features': max_features,\n",
    "                 'max_depth': max_depth,\n",
    "                 'min_samples_split': min_samples_split,\n",
    "                 'min_samples_leaf': min_samples_leaf}\n",
    "    scorer = make_scorer(fbeta_score, beta=0.5)\n",
    "    # train the random search meta-estimator to find the best model out of 100 candidates\n",
    "    # this will train 100 models over 3 folds of cross validation (300 models total)\n",
    "    rf_randomized_search_cv_tuning = RandomizedSearchCV(estimator=rf_clf,\n",
    "                                                        param_distributions=parameter,\n",
    "                                                        scoring=scorer,\n",
    "                                                        n_iter=100,\n",
    "                                                        cv=3,\n",
    "                                                        verbose=2,\n",
    "                                                        n_jobs=3,\n",
    "                                                        random_state=random_state)\n",
    "    rf_randomized_search_cv_tuning.fit(X_train, y_train)\n",
    "    return rf_randomized_search_cv_tuning\n"
   ]
  },
  {
   "cell_type": "code",
   "execution_count": 31,
   "metadata": {},
   "outputs": [],
   "source": [
    "best_model = get_model_cache(\"rf_tune_best_model.sav\", create_model_rf_randomized_search_cv_tuning)"
   ]
  },
  {
   "cell_type": "code",
   "execution_count": 32,
   "metadata": {},
   "outputs": [
    {
     "data": {
      "text/plain": [
       "RandomForestClassifier(max_depth=10, min_samples_leaf=4, n_estimators=260,\n",
       "                       random_state=1234)"
      ]
     },
     "execution_count": 32,
     "metadata": {},
     "output_type": "execute_result"
    }
   ],
   "source": [
    "best_model.best_estimator_"
   ]
  },
  {
   "cell_type": "code",
   "execution_count": 33,
   "metadata": {},
   "outputs": [
    {
     "name": "stdout",
     "output_type": "stream",
     "text": [
      "report:\n",
      "              precision    recall  f1-score   support\n",
      "\n",
      "           0       0.79      0.66      0.72     20801\n",
      "           1       0.68      0.81      0.74     18550\n",
      "\n",
      "    accuracy                           0.73     39351\n",
      "   macro avg       0.73      0.73      0.73     39351\n",
      "weighted avg       0.74      0.73      0.73     39351\n",
      "\n",
      "model accuracy: 0.728\n",
      "model f1-score: 0.736\n"
     ]
    }
   ],
   "source": [
    "print_model_performance(best_model,X_train, y_train)"
   ]
  },
  {
   "cell_type": "markdown",
   "metadata": {},
   "source": [
    "Load Merge Data for SageMaker"
   ]
  },
  {
   "cell_type": "code",
   "execution_count": 2,
   "metadata": {},
   "outputs": [],
   "source": [
    "def get_csv_cache(file_name):\n",
    "    data_dir = \"./data\"\n",
    "    merged_data_csvfile = os.path.join(data_dir, file_name)\n",
    "\n",
    "    if os.path.exists(merged_data_csvfile):\n",
    "        merged_data = pd.read_csv(merged_data_csvfile)\n",
    "    else:\n",
    "        merged_data = create_merged_dataset(cleaned_profile,\n",
    "                                            cleaned_portfolio,\n",
    "                                            offer_data,\n",
    "                                            transaction_data)\n",
    "\n",
    "        merged_data.to_csv(merged_data_csvfile, index=False)\n",
    "    return merged_data\n"
   ]
  },
  {
   "cell_type": "code",
   "execution_count": 3,
   "metadata": {},
   "outputs": [],
   "source": [
    "merged_data = get_csv_cache(\"merged_data.csv\")"
   ]
  },
  {
   "cell_type": "code",
   "execution_count": 4,
   "metadata": {},
   "outputs": [
    {
     "data": {
      "text/html": [
       "<div>\n",
       "<style scoped>\n",
       "    .dataframe tbody tr th:only-of-type {\n",
       "        vertical-align: middle;\n",
       "    }\n",
       "\n",
       "    .dataframe tbody tr th {\n",
       "        vertical-align: top;\n",
       "    }\n",
       "\n",
       "    .dataframe thead th {\n",
       "        text-align: right;\n",
       "    }\n",
       "</style>\n",
       "<table border=\"1\" class=\"dataframe\">\n",
       "  <thead>\n",
       "    <tr style=\"text-align: right;\">\n",
       "      <th></th>\n",
       "      <th>offersuccessful</th>\n",
       "      <th>reward</th>\n",
       "      <th>difficulty</th>\n",
       "      <th>durationdays</th>\n",
       "      <th>web</th>\n",
       "      <th>mobile</th>\n",
       "      <th>social</th>\n",
       "      <th>bogo</th>\n",
       "      <th>discount</th>\n",
       "      <th>informational</th>\n",
       "      <th>age</th>\n",
       "      <th>income</th>\n",
       "      <th>gender</th>\n",
       "    </tr>\n",
       "  </thead>\n",
       "  <tbody>\n",
       "    <tr>\n",
       "      <th>0</th>\n",
       "      <td>0</td>\n",
       "      <td>10</td>\n",
       "      <td>10</td>\n",
       "      <td>7</td>\n",
       "      <td>0</td>\n",
       "      <td>1</td>\n",
       "      <td>1</td>\n",
       "      <td>1</td>\n",
       "      <td>0</td>\n",
       "      <td>0</td>\n",
       "      <td>79.0</td>\n",
       "      <td>116000.0</td>\n",
       "      <td>1</td>\n",
       "    </tr>\n",
       "    <tr>\n",
       "      <th>1</th>\n",
       "      <td>1</td>\n",
       "      <td>10</td>\n",
       "      <td>10</td>\n",
       "      <td>7</td>\n",
       "      <td>0</td>\n",
       "      <td>1</td>\n",
       "      <td>1</td>\n",
       "      <td>1</td>\n",
       "      <td>0</td>\n",
       "      <td>0</td>\n",
       "      <td>79.0</td>\n",
       "      <td>116000.0</td>\n",
       "      <td>1</td>\n",
       "    </tr>\n",
       "    <tr>\n",
       "      <th>2</th>\n",
       "      <td>0</td>\n",
       "      <td>5</td>\n",
       "      <td>20</td>\n",
       "      <td>10</td>\n",
       "      <td>1</td>\n",
       "      <td>0</td>\n",
       "      <td>0</td>\n",
       "      <td>0</td>\n",
       "      <td>1</td>\n",
       "      <td>0</td>\n",
       "      <td>79.0</td>\n",
       "      <td>116000.0</td>\n",
       "      <td>1</td>\n",
       "    </tr>\n",
       "    <tr>\n",
       "      <th>3</th>\n",
       "      <td>1</td>\n",
       "      <td>2</td>\n",
       "      <td>10</td>\n",
       "      <td>10</td>\n",
       "      <td>1</td>\n",
       "      <td>1</td>\n",
       "      <td>1</td>\n",
       "      <td>0</td>\n",
       "      <td>1</td>\n",
       "      <td>0</td>\n",
       "      <td>79.0</td>\n",
       "      <td>116000.0</td>\n",
       "      <td>1</td>\n",
       "    </tr>\n",
       "    <tr>\n",
       "      <th>4</th>\n",
       "      <td>0</td>\n",
       "      <td>2</td>\n",
       "      <td>10</td>\n",
       "      <td>7</td>\n",
       "      <td>1</td>\n",
       "      <td>1</td>\n",
       "      <td>0</td>\n",
       "      <td>0</td>\n",
       "      <td>1</td>\n",
       "      <td>0</td>\n",
       "      <td>79.0</td>\n",
       "      <td>116000.0</td>\n",
       "      <td>1</td>\n",
       "    </tr>\n",
       "    <tr>\n",
       "      <th>...</th>\n",
       "      <td>...</td>\n",
       "      <td>...</td>\n",
       "      <td>...</td>\n",
       "      <td>...</td>\n",
       "      <td>...</td>\n",
       "      <td>...</td>\n",
       "      <td>...</td>\n",
       "      <td>...</td>\n",
       "      <td>...</td>\n",
       "      <td>...</td>\n",
       "      <td>...</td>\n",
       "      <td>...</td>\n",
       "      <td>...</td>\n",
       "    </tr>\n",
       "    <tr>\n",
       "      <th>65580</th>\n",
       "      <td>0</td>\n",
       "      <td>2</td>\n",
       "      <td>10</td>\n",
       "      <td>7</td>\n",
       "      <td>1</td>\n",
       "      <td>1</td>\n",
       "      <td>0</td>\n",
       "      <td>0</td>\n",
       "      <td>1</td>\n",
       "      <td>0</td>\n",
       "      <td>70.0</td>\n",
       "      <td>79000.0</td>\n",
       "      <td>1</td>\n",
       "    </tr>\n",
       "    <tr>\n",
       "      <th>65581</th>\n",
       "      <td>0</td>\n",
       "      <td>2</td>\n",
       "      <td>10</td>\n",
       "      <td>7</td>\n",
       "      <td>1</td>\n",
       "      <td>1</td>\n",
       "      <td>0</td>\n",
       "      <td>0</td>\n",
       "      <td>1</td>\n",
       "      <td>0</td>\n",
       "      <td>66.0</td>\n",
       "      <td>56000.0</td>\n",
       "      <td>0</td>\n",
       "    </tr>\n",
       "    <tr>\n",
       "      <th>65582</th>\n",
       "      <td>0</td>\n",
       "      <td>2</td>\n",
       "      <td>10</td>\n",
       "      <td>7</td>\n",
       "      <td>1</td>\n",
       "      <td>1</td>\n",
       "      <td>0</td>\n",
       "      <td>0</td>\n",
       "      <td>1</td>\n",
       "      <td>0</td>\n",
       "      <td>81.0</td>\n",
       "      <td>94000.0</td>\n",
       "      <td>1</td>\n",
       "    </tr>\n",
       "    <tr>\n",
       "      <th>65583</th>\n",
       "      <td>1</td>\n",
       "      <td>2</td>\n",
       "      <td>10</td>\n",
       "      <td>7</td>\n",
       "      <td>1</td>\n",
       "      <td>1</td>\n",
       "      <td>0</td>\n",
       "      <td>0</td>\n",
       "      <td>1</td>\n",
       "      <td>0</td>\n",
       "      <td>31.0</td>\n",
       "      <td>45000.0</td>\n",
       "      <td>0</td>\n",
       "    </tr>\n",
       "    <tr>\n",
       "      <th>65584</th>\n",
       "      <td>0</td>\n",
       "      <td>2</td>\n",
       "      <td>10</td>\n",
       "      <td>7</td>\n",
       "      <td>1</td>\n",
       "      <td>1</td>\n",
       "      <td>0</td>\n",
       "      <td>0</td>\n",
       "      <td>1</td>\n",
       "      <td>0</td>\n",
       "      <td>59.0</td>\n",
       "      <td>44000.0</td>\n",
       "      <td>0</td>\n",
       "    </tr>\n",
       "  </tbody>\n",
       "</table>\n",
       "<p>65585 rows × 13 columns</p>\n",
       "</div>"
      ],
      "text/plain": [
       "       offersuccessful  reward  difficulty  durationdays  web  mobile  social  \\\n",
       "0                    0      10          10             7    0       1       1   \n",
       "1                    1      10          10             7    0       1       1   \n",
       "2                    0       5          20            10    1       0       0   \n",
       "3                    1       2          10            10    1       1       1   \n",
       "4                    0       2          10             7    1       1       0   \n",
       "...                ...     ...         ...           ...  ...     ...     ...   \n",
       "65580                0       2          10             7    1       1       0   \n",
       "65581                0       2          10             7    1       1       0   \n",
       "65582                0       2          10             7    1       1       0   \n",
       "65583                1       2          10             7    1       1       0   \n",
       "65584                0       2          10             7    1       1       0   \n",
       "\n",
       "       bogo  discount  informational   age    income  gender  \n",
       "0         1         0              0  79.0  116000.0       1  \n",
       "1         1         0              0  79.0  116000.0       1  \n",
       "2         0         1              0  79.0  116000.0       1  \n",
       "3         0         1              0  79.0  116000.0       1  \n",
       "4         0         1              0  79.0  116000.0       1  \n",
       "...     ...       ...            ...   ...       ...     ...  \n",
       "65580     0         1              0  70.0   79000.0       1  \n",
       "65581     0         1              0  66.0   56000.0       0  \n",
       "65582     0         1              0  81.0   94000.0       1  \n",
       "65583     0         1              0  31.0   45000.0       0  \n",
       "65584     0         1              0  59.0   44000.0       0  \n",
       "\n",
       "[65585 rows x 13 columns]"
      ]
     },
     "execution_count": 4,
     "metadata": {},
     "output_type": "execute_result"
    }
   ],
   "source": [
    "\n",
    "#dropping email because email was sent to everyone in the cohort.\n",
    "#dropping member_days because member_days is not a good predictor.\n",
    "merged_data = merged_data.drop(\n",
    "    columns=['offerid', 'customerid', 'offer_start_time', 'email', 'member_days', 'totalamount', 'transactioncount'])\n",
    "\n",
    "merged_data"
   ]
  },
  {
   "cell_type": "code",
   "execution_count": 5,
   "metadata": {},
   "outputs": [
    {
     "data": {
      "text/html": [
       "<div>\n",
       "<style scoped>\n",
       "    .dataframe tbody tr th:only-of-type {\n",
       "        vertical-align: middle;\n",
       "    }\n",
       "\n",
       "    .dataframe tbody tr th {\n",
       "        vertical-align: top;\n",
       "    }\n",
       "\n",
       "    .dataframe thead th {\n",
       "        text-align: right;\n",
       "    }\n",
       "</style>\n",
       "<table border=\"1\" class=\"dataframe\">\n",
       "  <thead>\n",
       "    <tr style=\"text-align: right;\">\n",
       "      <th></th>\n",
       "      <th>offersuccessful</th>\n",
       "      <th>reward</th>\n",
       "      <th>difficulty</th>\n",
       "      <th>durationdays</th>\n",
       "      <th>web</th>\n",
       "      <th>mobile</th>\n",
       "      <th>social</th>\n",
       "      <th>bogo</th>\n",
       "      <th>discount</th>\n",
       "      <th>informational</th>\n",
       "      <th>age</th>\n",
       "      <th>income</th>\n",
       "      <th>gender</th>\n",
       "    </tr>\n",
       "  </thead>\n",
       "  <tbody>\n",
       "    <tr>\n",
       "      <th>0</th>\n",
       "      <td>0</td>\n",
       "      <td>10</td>\n",
       "      <td>10</td>\n",
       "      <td>7</td>\n",
       "      <td>0</td>\n",
       "      <td>1</td>\n",
       "      <td>1</td>\n",
       "      <td>1</td>\n",
       "      <td>0</td>\n",
       "      <td>0</td>\n",
       "      <td>79</td>\n",
       "      <td>116000</td>\n",
       "      <td>1</td>\n",
       "    </tr>\n",
       "    <tr>\n",
       "      <th>1</th>\n",
       "      <td>1</td>\n",
       "      <td>10</td>\n",
       "      <td>10</td>\n",
       "      <td>7</td>\n",
       "      <td>0</td>\n",
       "      <td>1</td>\n",
       "      <td>1</td>\n",
       "      <td>1</td>\n",
       "      <td>0</td>\n",
       "      <td>0</td>\n",
       "      <td>79</td>\n",
       "      <td>116000</td>\n",
       "      <td>1</td>\n",
       "    </tr>\n",
       "    <tr>\n",
       "      <th>2</th>\n",
       "      <td>0</td>\n",
       "      <td>5</td>\n",
       "      <td>20</td>\n",
       "      <td>10</td>\n",
       "      <td>1</td>\n",
       "      <td>0</td>\n",
       "      <td>0</td>\n",
       "      <td>0</td>\n",
       "      <td>1</td>\n",
       "      <td>0</td>\n",
       "      <td>79</td>\n",
       "      <td>116000</td>\n",
       "      <td>1</td>\n",
       "    </tr>\n",
       "    <tr>\n",
       "      <th>3</th>\n",
       "      <td>1</td>\n",
       "      <td>2</td>\n",
       "      <td>10</td>\n",
       "      <td>10</td>\n",
       "      <td>1</td>\n",
       "      <td>1</td>\n",
       "      <td>1</td>\n",
       "      <td>0</td>\n",
       "      <td>1</td>\n",
       "      <td>0</td>\n",
       "      <td>79</td>\n",
       "      <td>116000</td>\n",
       "      <td>1</td>\n",
       "    </tr>\n",
       "    <tr>\n",
       "      <th>4</th>\n",
       "      <td>0</td>\n",
       "      <td>2</td>\n",
       "      <td>10</td>\n",
       "      <td>7</td>\n",
       "      <td>1</td>\n",
       "      <td>1</td>\n",
       "      <td>0</td>\n",
       "      <td>0</td>\n",
       "      <td>1</td>\n",
       "      <td>0</td>\n",
       "      <td>79</td>\n",
       "      <td>116000</td>\n",
       "      <td>1</td>\n",
       "    </tr>\n",
       "  </tbody>\n",
       "</table>\n",
       "</div>"
      ],
      "text/plain": [
       "   offersuccessful  reward  difficulty  durationdays  web  mobile  social  \\\n",
       "0                0      10          10             7    0       1       1   \n",
       "1                1      10          10             7    0       1       1   \n",
       "2                0       5          20            10    1       0       0   \n",
       "3                1       2          10            10    1       1       1   \n",
       "4                0       2          10             7    1       1       0   \n",
       "\n",
       "   bogo  discount  informational  age  income  gender  \n",
       "0     1         0              0   79  116000       1  \n",
       "1     1         0              0   79  116000       1  \n",
       "2     0         1              0   79  116000       1  \n",
       "3     0         1              0   79  116000       1  \n",
       "4     0         1              0   79  116000       1  "
      ]
     },
     "execution_count": 5,
     "metadata": {},
     "output_type": "execute_result"
    }
   ],
   "source": [
    "merged_data = merged_data.astype(int)\n",
    "merged_data.head()"
   ]
  },
  {
   "cell_type": "code",
   "execution_count": 6,
   "metadata": {},
   "outputs": [],
   "source": [
    "# 60% training, 20% cross validation and 20% Test data\n",
    "random_state = 1234\n",
    "\n",
    "class_label_name = 'offersuccessful'\n",
    "\n",
    "X = merged_data.drop(columns=[class_label_name])\n",
    "y = merged_data.filter([class_label_name])\n",
    "\n",
    "(X_train, X_test, y_train, y_test) = train_test_split(X, y, test_size=0.2, random_state=random_state)\n",
    "\n",
    "X_train, X_val, y_train, Y_val = train_test_split(X_train, y_train, test_size=0.25, random_state=random_state)\n"
   ]
  },
  {
   "cell_type": "markdown",
   "metadata": {},
   "source": [
    "# 3) Amazon Sage maker XG-Boost built in Algorithm\n",
    "\n",
    "XGBoost\n",
    "References \n",
    "https://github.com/udacity/sagemaker-deployment/blob/master/Tutorials/Boston%20Housing%20-%20XGBoost%20(Batch%20Transform)%20-%20High%20Level.ipynb"
   ]
  },
  {
   "cell_type": "code",
   "execution_count": 7,
   "metadata": {},
   "outputs": [
    {
     "name": "stdout",
     "output_type": "stream",
     "text": [
      "Requirement already satisfied: sagemaker in /home/ec2-user/anaconda3/envs/python3/lib/python3.6/site-packages (2.72.1)\n",
      "Collecting sagemaker\n",
      "  Downloading sagemaker-2.73.0.tar.gz (481 kB)\n",
      "     |████████████████████████████████| 481 kB 23.3 MB/s            \n",
      "\u001b[?25h  Preparing metadata (setup.py) ... \u001b[?25ldone\n",
      "\u001b[?25hRequirement already satisfied: attrs in /home/ec2-user/anaconda3/envs/python3/lib/python3.6/site-packages (from sagemaker) (20.3.0)\n",
      "Requirement already satisfied: boto3>=1.20.21 in /home/ec2-user/anaconda3/envs/python3/lib/python3.6/site-packages (from sagemaker) (1.20.25)\n",
      "Requirement already satisfied: google-pasta in /home/ec2-user/anaconda3/envs/python3/lib/python3.6/site-packages (from sagemaker) (0.2.0)\n",
      "Requirement already satisfied: numpy>=1.9.0 in /home/ec2-user/anaconda3/envs/python3/lib/python3.6/site-packages (from sagemaker) (1.19.5)\n",
      "Requirement already satisfied: protobuf>=3.1 in /home/ec2-user/anaconda3/envs/python3/lib/python3.6/site-packages (from sagemaker) (3.15.2)\n",
      "Requirement already satisfied: protobuf3-to-dict>=0.1.5 in /home/ec2-user/anaconda3/envs/python3/lib/python3.6/site-packages (from sagemaker) (0.1.5)\n",
      "Requirement already satisfied: smdebug_rulesconfig==1.0.1 in /home/ec2-user/anaconda3/envs/python3/lib/python3.6/site-packages (from sagemaker) (1.0.1)\n",
      "Requirement already satisfied: importlib-metadata>=1.4.0 in /home/ec2-user/anaconda3/envs/python3/lib/python3.6/site-packages (from sagemaker) (3.7.0)\n",
      "Requirement already satisfied: packaging>=20.0 in /home/ec2-user/anaconda3/envs/python3/lib/python3.6/site-packages (from sagemaker) (21.3)\n",
      "Requirement already satisfied: pandas in /home/ec2-user/anaconda3/envs/python3/lib/python3.6/site-packages (from sagemaker) (1.1.5)\n",
      "Requirement already satisfied: pathos in /home/ec2-user/anaconda3/envs/python3/lib/python3.6/site-packages (from sagemaker) (0.2.8)\n",
      "Requirement already satisfied: jmespath<1.0.0,>=0.7.1 in /home/ec2-user/anaconda3/envs/python3/lib/python3.6/site-packages (from boto3>=1.20.21->sagemaker) (0.10.0)\n",
      "Requirement already satisfied: s3transfer<0.6.0,>=0.5.0 in /home/ec2-user/anaconda3/envs/python3/lib/python3.6/site-packages (from boto3>=1.20.21->sagemaker) (0.5.0)\n",
      "Requirement already satisfied: botocore<1.24.0,>=1.23.25 in /home/ec2-user/anaconda3/envs/python3/lib/python3.6/site-packages (from boto3>=1.20.21->sagemaker) (1.23.25)\n",
      "Requirement already satisfied: zipp>=0.5 in /home/ec2-user/anaconda3/envs/python3/lib/python3.6/site-packages (from importlib-metadata>=1.4.0->sagemaker) (3.4.0)\n",
      "Requirement already satisfied: typing-extensions>=3.6.4 in /home/ec2-user/anaconda3/envs/python3/lib/python3.6/site-packages (from importlib-metadata>=1.4.0->sagemaker) (4.0.1)\n",
      "Requirement already satisfied: pyparsing!=3.0.5,>=2.0.2 in /home/ec2-user/anaconda3/envs/python3/lib/python3.6/site-packages (from packaging>=20.0->sagemaker) (2.4.7)\n",
      "Requirement already satisfied: six>=1.9 in /home/ec2-user/anaconda3/envs/python3/lib/python3.6/site-packages (from protobuf>=3.1->sagemaker) (1.15.0)\n",
      "Requirement already satisfied: python-dateutil>=2.7.3 in /home/ec2-user/anaconda3/envs/python3/lib/python3.6/site-packages (from pandas->sagemaker) (2.8.1)\n",
      "Requirement already satisfied: pytz>=2017.2 in /home/ec2-user/anaconda3/envs/python3/lib/python3.6/site-packages (from pandas->sagemaker) (2021.1)\n",
      "Requirement already satisfied: multiprocess>=0.70.12 in /home/ec2-user/anaconda3/envs/python3/lib/python3.6/site-packages (from pathos->sagemaker) (0.70.12.2)\n",
      "Requirement already satisfied: pox>=0.3.0 in /home/ec2-user/anaconda3/envs/python3/lib/python3.6/site-packages (from pathos->sagemaker) (0.3.0)\n",
      "Requirement already satisfied: ppft>=1.6.6.4 in /home/ec2-user/anaconda3/envs/python3/lib/python3.6/site-packages (from pathos->sagemaker) (1.6.6.4)\n",
      "Requirement already satisfied: dill>=0.3.4 in /home/ec2-user/anaconda3/envs/python3/lib/python3.6/site-packages (from pathos->sagemaker) (0.3.4)\n",
      "Requirement already satisfied: urllib3<1.27,>=1.25.4 in /home/ec2-user/anaconda3/envs/python3/lib/python3.6/site-packages (from botocore<1.24.0,>=1.23.25->boto3>=1.20.21->sagemaker) (1.26.7)\n",
      "Building wheels for collected packages: sagemaker\n",
      "  Building wheel for sagemaker (setup.py) ... \u001b[?25ldone\n",
      "\u001b[?25h  Created wheel for sagemaker: filename=sagemaker-2.73.0-py2.py3-none-any.whl size=662723 sha256=932f211ed5c14fd5da0aaaf8b45508520c4e69506def223cb50912069821b414\n",
      "  Stored in directory: /home/ec2-user/.cache/pip/wheels/18/dd/89/bfdf02e6fa6179e9c2e70cb1df9300de4faea02d6de273ae73\n",
      "Successfully built sagemaker\n",
      "Installing collected packages: sagemaker\n",
      "  Attempting uninstall: sagemaker\n",
      "    Found existing installation: sagemaker 2.72.1\n",
      "    Uninstalling sagemaker-2.72.1:\n",
      "      Successfully uninstalled sagemaker-2.72.1\n",
      "Successfully installed sagemaker-2.73.0\n",
      "Note: you may need to restart the kernel to use updated packages.\n"
     ]
    }
   ],
   "source": [
    "pip install -U sagemaker"
   ]
  },
  {
   "cell_type": "code",
   "execution_count": 8,
   "metadata": {},
   "outputs": [],
   "source": [
    "import pandas as pd\n",
    "import numpy as np\n",
    "import os"
   ]
  },
  {
   "cell_type": "code",
   "execution_count": 9,
   "metadata": {},
   "outputs": [],
   "source": [
    "\n",
    "import boto3\n",
    "import sagemaker\n",
    "from sagemaker import get_execution_role\n",
    "from sagemaker.amazon.amazon_estimator import get_image_uri\n",
    "from sagemaker.serializers import CSVSerializer"
   ]
  },
  {
   "cell_type": "code",
   "execution_count": 10,
   "metadata": {},
   "outputs": [],
   "source": [
    "# Sagemaker session\n",
    "session = sagemaker.Session()\n",
    "\n",
    "# IAM role\n",
    "role = get_execution_role()\n",
    "# current bucket\n",
    "bucket = session.default_bucket()"
   ]
  },
  {
   "cell_type": "markdown",
   "metadata": {},
   "source": [
    "### Uploading the data files to S3"
   ]
  },
  {
   "cell_type": "code",
   "execution_count": 11,
   "metadata": {},
   "outputs": [],
   "source": [
    "data_dir = 'data'\n",
    "if not os.path.exists(data_dir):\n",
    "    os.makedirs(data_dir)\n"
   ]
  },
  {
   "cell_type": "markdown",
   "metadata": {},
   "source": [
    "We do not include header and index when saving to as this is Amazon requirement\n",
    "For the train and validation data, it is assumed that the first entry in each row is the target variable."
   ]
  },
  {
   "cell_type": "code",
   "execution_count": 12,
   "metadata": {},
   "outputs": [],
   "source": [
    "\n",
    "pd.concat([Y_val, X_val], axis=1).to_csv(os.path.join(data_dir, 'validation.csv'), header=False, index=False)\n",
    "pd.concat([y_train, X_train], axis=1).to_csv(os.path.join(data_dir, 'train.csv'), header=False, index=False)\n",
    "pd.concat([y_test, X_test], axis=1).to_csv(os.path.join(data_dir, 'testfulldata.csv'), header=False, index=False)\n",
    "X_test.to_csv(os.path.join(data_dir, 'test.csv'), header=False, index=False)"
   ]
  },
  {
   "cell_type": "code",
   "execution_count": 13,
   "metadata": {},
   "outputs": [],
   "source": [
    "prefix = 'xgboost-starbucks'\n",
    "\n",
    "testfulldata_location = session.upload_data(os.path.join(data_dir, 'testfulldata.csv'), key_prefix=prefix)\n",
    "test_location = session.upload_data(os.path.join(data_dir, 'test.csv'), key_prefix=prefix)\n",
    "val_location = session.upload_data(os.path.join(data_dir, 'validation.csv'), key_prefix=prefix)\n",
    "train_location = session.upload_data(os.path.join(data_dir, 'train.csv'), key_prefix=prefix)"
   ]
  },
  {
   "cell_type": "code",
   "execution_count": 14,
   "metadata": {},
   "outputs": [
    {
     "name": "stdout",
     "output_type": "stream",
     "text": [
      "Training data is stored in: s3://sagemaker-us-east-1-028910220072/xgboost-starbucks/train.csv\n",
      "Validation data is stored in: s3://sagemaker-us-east-1-028910220072/xgboost-starbucks/validation.csv\n",
      "Test data is stored in: s3://sagemaker-us-east-1-028910220072/xgboost-starbucks/test.csv\n"
     ]
    }
   ],
   "source": [
    "print('Training data is stored in: '+ train_location)\n",
    "print('Validation data is stored in: '+ val_location)\n",
    "print('Test data is stored in: '+ test_location)"
   ]
  },
  {
   "cell_type": "code",
   "execution_count": 105,
   "metadata": {},
   "outputs": [],
   "source": [
    "data_dir = 'data'\n",
    "train_location = \"s3://sagemaker-us-east-1-028910220072/xgboost-starbucks/train.csv\"\n",
    "val_location = \"s3://sagemaker-us-east-1-028910220072/xgboost-starbucks/train.csv\"\n",
    "test_location = \"s3://sagemaker-us-east-1-028910220072/xgboost-starbucks/test.csv\"\n"
   ]
  },
  {
   "cell_type": "markdown",
   "metadata": {},
   "source": [
    "### Train the XGBoost model\n",
    "with hyperparameter tuning\n",
    "* https://docs.aws.amazon.com/sagemaker/latest/dg/xgboost_hyperparameters.html\n",
    "* https://sagemaker.readthedocs.io/en/stable/api/training/tuner.html"
   ]
  },
  {
   "cell_type": "markdown",
   "metadata": {},
   "source": [
    "* `Subsample` ratio of the training instance.\n",
    "Setting it to 0.70 means that XGBoost randomly collects 70& of the data instances to grow trees.\n",
    "This prevents overfitting. Default value: 1\n",
    "* `Eta` Step size shrinkage, prevents overfitting.\n",
    "* `Gamma` Minimum loss reduction to create a partition, larger = more conservative\n",
    "* `Alpha` L1 regularization term; larger = more conservative\n",
    "* `Lambda` L2 regularization term; larger = more conservative"
   ]
  },
  {
   "cell_type": "code",
   "execution_count": 16,
   "metadata": {},
   "outputs": [],
   "source": [
    "# define the location of the Amazon SageMaker XGBoost training containers\n",
    "region = boto3.Session().region_name  \n",
    "container = sagemaker.image_uris.retrieve(\n",
    "    region=region,\n",
    "    framework=\"xgboost\",\n",
    "    version=\"latest\"\n",
    ")\n",
    "# Create an Amazon SageMaker estimator\n",
    "xgb = sagemaker.estimator.Estimator(container,  # The location of the container we wish to use\n",
    "                                    role,                                    # What is our current IAM Role\n",
    "                                    instance_count=1,                  # How many compute instances\n",
    "                                    instance_type='ml.m4.xlarge',      # What kind of compute instances\n",
    "                                    # Where to save the output (the model artifacts)\n",
    "                                    output_path='s3://{}/{}/output'.format(\n",
    "                                        session.default_bucket(), prefix),\n",
    "                                    sagemaker_session=session)\n",
    "\n",
    "# And then set the algorithm specific parameters.\n",
    "xgb.set_hyperparameters(max_depth=30,\n",
    "                        eta=0.02,\n",
    "                        gamma=2.6,\n",
    "                        min_child_weight=5,\n",
    "                        subsample=0.70,\n",
    "                        silent=0,\n",
    "                        max_delta_step=3,\n",
    "                        objective='binary:logistic',  # binary classification problem\n",
    "                        early_stopping_rounds=30,\n",
    "                        num_round=500)\n"
   ]
  },
  {
   "cell_type": "code",
   "execution_count": 17,
   "metadata": {},
   "outputs": [],
   "source": [
    "#https://docs.aws.amazon.com/sagemaker/latest/dg/xgboost-tuning.html\n",
    "from sagemaker.tuner import IntegerParameter, ContinuousParameter, HyperparameterTuner\n",
    "\n",
    "xgb_hyperparameter_tuner = HyperparameterTuner(estimator = xgb, # The estimator object to use as the basis for the training jobs.\n",
    "                                               objective_metric_name = 'validation:auc', # The metric used to compare trained models.\n",
    "                                               objective_type = 'Maximize', # Whether we wish to minimize or maximize the metric.\n",
    "                                               max_jobs = 30, # The total number of models to train\n",
    "                                               max_parallel_jobs = 6, # The number of models to train in parallel\n",
    "                                               hyperparameter_ranges = {\n",
    "                                                    'max_depth': IntegerParameter(5,50),\n",
    "                                                    'eta'      : ContinuousParameter(0.02, 0.4),\n",
    "                                                    'min_child_weight': IntegerParameter(2, 5),\n",
    "                                                    'num_round': IntegerParameter(400, 800),\n",
    "                                                    'subsample': ContinuousParameter(0.60, 0.80),\n",
    "                                                    'gamma': ContinuousParameter(0.5, 3.5),\n",
    "                                               })"
   ]
  },
  {
   "cell_type": "code",
   "execution_count": 18,
   "metadata": {},
   "outputs": [
    {
     "name": "stdout",
     "output_type": "stream",
     "text": [
      "..........................................................................................................................................................................................................................!\n"
     ]
    }
   ],
   "source": [
    "s3_input_train = sagemaker.inputs.TrainingInput(s3_data=train_location, content_type='csv')\n",
    "s3_input_validation = sagemaker.inputs.TrainingInput(s3_data=val_location, content_type='csv')\n",
    "\n",
    "xgb_hyperparameter_tuner.fit({'train': s3_input_train, 'validation': s3_input_validation})"
   ]
  },
  {
   "cell_type": "code",
   "execution_count": 19,
   "metadata": {},
   "outputs": [
    {
     "name": "stdout",
     "output_type": "stream",
     "text": [
      "!\n"
     ]
    }
   ],
   "source": [
    "xgb_hyperparameter_tuner.wait()"
   ]
  },
  {
   "cell_type": "code",
   "execution_count": 20,
   "metadata": {},
   "outputs": [
    {
     "name": "stdout",
     "output_type": "stream",
     "text": [
      "\n",
      "2022-01-20 14:18:25 Starting - Preparing the instances for training\n",
      "2022-01-20 14:18:25 Downloading - Downloading input data\n",
      "2022-01-20 14:18:25 Training - Training image download completed. Training in progress.\n",
      "2022-01-20 14:18:25 Uploading - Uploading generated training model\n",
      "2022-01-20 14:18:25 Completed - Training job completed\n"
     ]
    }
   ],
   "source": [
    "xgb_estimator_attached = sagemaker.estimator.Estimator.attach(xgb_hyperparameter_tuner.best_training_job())"
   ]
  },
  {
   "cell_type": "code",
   "execution_count": 21,
   "metadata": {},
   "outputs": [
    {
     "data": {
      "text/plain": [
       "'xgboost-220120-1408-005-28b42f21'"
      ]
     },
     "execution_count": 21,
     "metadata": {},
     "output_type": "execute_result"
    }
   ],
   "source": [
    "xgb_hyperparameter_tuner.best_training_job()"
   ]
  },
  {
   "cell_type": "code",
   "execution_count": 22,
   "metadata": {},
   "outputs": [
    {
     "data": {
      "text/plain": [
       "{'ContinuousParameterRanges': [{'Name': 'eta',\n",
       "   'MinValue': '0.02',\n",
       "   'MaxValue': '0.04',\n",
       "   'ScalingType': 'Auto'},\n",
       "  {'Name': 'subsample',\n",
       "   'MinValue': '0.7',\n",
       "   'MaxValue': '0.73',\n",
       "   'ScalingType': 'Auto'},\n",
       "  {'Name': 'gamma',\n",
       "   'MinValue': '2.5',\n",
       "   'MaxValue': '3.5',\n",
       "   'ScalingType': 'Auto'}],\n",
       " 'CategoricalParameterRanges': [],\n",
       " 'IntegerParameterRanges': [{'Name': 'max_depth',\n",
       "   'MinValue': '10',\n",
       "   'MaxValue': '30',\n",
       "   'ScalingType': 'Auto'},\n",
       "  {'Name': 'min_child_weight',\n",
       "   'MinValue': '2',\n",
       "   'MaxValue': '5',\n",
       "   'ScalingType': 'Auto'},\n",
       "  {'Name': 'num_round',\n",
       "   'MinValue': '400',\n",
       "   'MaxValue': '700',\n",
       "   'ScalingType': 'Auto'}]}"
      ]
     },
     "execution_count": 22,
     "metadata": {},
     "output_type": "execute_result"
    }
   ],
   "source": [
    "xgb_hyperparameter_tuner.hyperparameter_ranges()"
   ]
  },
  {
   "cell_type": "code",
   "execution_count": 23,
   "metadata": {},
   "outputs": [
    {
     "data": {
      "text/plain": [
       "<sagemaker.HyperparameterTuningJobAnalytics for xgboost-220120-1408>"
      ]
     },
     "execution_count": 23,
     "metadata": {},
     "output_type": "execute_result"
    }
   ],
   "source": [
    "xgb_hyperparameter_tuner.analytics()"
   ]
  },
  {
   "cell_type": "code",
   "execution_count": 24,
   "metadata": {},
   "outputs": [
    {
     "data": {
      "text/plain": [
       "<sagemaker.estimator.Estimator at 0x7f70b28923c8>"
      ]
     },
     "execution_count": 24,
     "metadata": {},
     "output_type": "execute_result"
    }
   ],
   "source": [
    "xgb_estimator_attached"
   ]
  },
  {
   "cell_type": "code",
   "execution_count": 25,
   "metadata": {},
   "outputs": [
    {
     "data": {
      "text/plain": [
       "'xgboost-220120-1408-005-28b42f21'"
      ]
     },
     "execution_count": 25,
     "metadata": {},
     "output_type": "execute_result"
    }
   ],
   "source": [
    "xgb_hyperparameter_tuner.best_training_job()"
   ]
  },
  {
   "cell_type": "code",
   "execution_count": 26,
   "metadata": {},
   "outputs": [
    {
     "data": {
      "text/plain": [
       "{'_tuning_objective_metric': 'validation:auc',\n",
       " 'early_stopping_rounds': '30',\n",
       " 'eta': '0.024253474364357402',\n",
       " 'gamma': '2.6226190984039173',\n",
       " 'max_delta_step': '3',\n",
       " 'max_depth': '10',\n",
       " 'min_child_weight': '5',\n",
       " 'num_round': '442',\n",
       " 'objective': 'binary:logistic',\n",
       " 'silent': '0',\n",
       " 'subsample': '0.7170289146502701'}"
      ]
     },
     "execution_count": 26,
     "metadata": {},
     "output_type": "execute_result"
    }
   ],
   "source": [
    "xgb_estimator_attached.hyperparameters()"
   ]
  },
  {
   "cell_type": "code",
   "execution_count": 27,
   "metadata": {},
   "outputs": [
    {
     "name": "stdout",
     "output_type": "stream",
     "text": [
      "\n",
      "2022-01-20 14:18:25 Starting - Preparing the instances for training\n",
      "2022-01-20 14:18:25 Downloading - Downloading input data\n",
      "2022-01-20 14:18:25 Training - Training image download completed. Training in progress.\n",
      "2022-01-20 14:18:25 Uploading - Uploading generated training model\n",
      "2022-01-20 14:18:25 Completed - Training job completed\n"
     ]
    }
   ],
   "source": [
    "bestestimator = xgb_hyperparameter_tuner.best_estimator(best_training_job=None)"
   ]
  },
  {
   "cell_type": "markdown",
   "metadata": {},
   "source": [
    "# Test Different Hyperparameter Tuning Range"
   ]
  },
  {
   "cell_type": "code",
   "execution_count": 16,
   "metadata": {},
   "outputs": [],
   "source": [
    "# define the location of the Amazon SageMaker XGBoost training containers\n",
    "region = boto3.Session().region_name  \n",
    "container = sagemaker.image_uris.retrieve(\n",
    "    region=region,\n",
    "    framework=\"xgboost\",\n",
    "    version=\"latest\"\n",
    ")\n",
    "# Create an Amazon SageMaker estimator\n",
    "xgb = sagemaker.estimator.Estimator(container,  # The location of the container we wish to use\n",
    "                                    role,                                    # What is our current IAM Role\n",
    "                                    instance_count=1,                  # How many compute instances\n",
    "                                    instance_type='ml.m4.xlarge',      # What kind of compute instances\n",
    "                                    # Where to save the output (the model artifacts)\n",
    "                                    output_path='s3://{}/{}/output'.format(\n",
    "                                        session.default_bucket(), prefix),\n",
    "                                    sagemaker_session=session)\n",
    "\n",
    "# And then set the algorithm specific parameters.\n",
    "xgb.set_hyperparameters(max_depth=30,\n",
    "                        eta=0.02,\n",
    "                        gamma=2.6,\n",
    "                        min_child_weight=5,\n",
    "                        subsample=0.70,\n",
    "                        silent=0,\n",
    "                        max_delta_step=3,\n",
    "                        objective='binary:logistic',  # binary classification problem\n",
    "                        early_stopping_rounds=30,\n",
    "                        num_round=500)\n"
   ]
  },
  {
   "cell_type": "code",
   "execution_count": 18,
   "metadata": {},
   "outputs": [],
   "source": [
    "#https://docs.aws.amazon.com/sagemaker/latest/dg/xgboost-tuning.html\n",
    "from sagemaker.tuner import IntegerParameter, ContinuousParameter, HyperparameterTuner\n",
    "\n",
    "xgb_hyperparameter_tuner = HyperparameterTuner(estimator = xgb, # The estimator object to use as the basis for the training jobs.\n",
    "                                               objective_metric_name = 'validation:auc', # The metric used to compare trained models.\n",
    "                                               objective_type = 'Maximize', # Whether we wish to minimize or maximize the metric.\n",
    "                                               max_jobs = 40, # The total number of models to train\n",
    "                                               max_parallel_jobs = 10, # The number of models to train in parallel\n",
    "                                               hyperparameter_ranges = {\n",
    "                                                    'max_depth': IntegerParameter(5,50),\n",
    "                                                    'eta'      : ContinuousParameter(0.02, 0.4),\n",
    "                                                    'min_child_weight': IntegerParameter(2, 5),\n",
    "                                                    'num_round': IntegerParameter(400, 800),\n",
    "                                                    'subsample': ContinuousParameter(0.60, 0.80),\n",
    "                                                    'gamma': ContinuousParameter(0.5, 3.5),\n",
    "                                               })"
   ]
  },
  {
   "cell_type": "code",
   "execution_count": 19,
   "metadata": {},
   "outputs": [
    {
     "name": "stdout",
     "output_type": "stream",
     "text": [
      "................................................................................................................................................................................................................................................................!\n"
     ]
    }
   ],
   "source": [
    "s3_input_train = sagemaker.inputs.TrainingInput(s3_data=train_location, content_type='csv')\n",
    "s3_input_validation = sagemaker.inputs.TrainingInput(s3_data=val_location, content_type='csv')\n",
    "\n",
    "xgb_hyperparameter_tuner.fit({'train': s3_input_train, 'validation': s3_input_validation})"
   ]
  },
  {
   "cell_type": "code",
   "execution_count": 20,
   "metadata": {},
   "outputs": [
    {
     "name": "stdout",
     "output_type": "stream",
     "text": [
      "!\n"
     ]
    }
   ],
   "source": [
    "xgb_hyperparameter_tuner.wait()"
   ]
  },
  {
   "cell_type": "code",
   "execution_count": 21,
   "metadata": {},
   "outputs": [
    {
     "name": "stdout",
     "output_type": "stream",
     "text": [
      "\n",
      "2022-01-21 13:39:43 Starting - Preparing the instances for training\n",
      "2022-01-21 13:39:43 Downloading - Downloading input data\n",
      "2022-01-21 13:39:43 Training - Training image download completed. Training in progress.\n",
      "2022-01-21 13:39:43 Uploading - Uploading generated training model\n",
      "2022-01-21 13:39:43 Completed - Training job completed\n"
     ]
    }
   ],
   "source": [
    "xgb_estimator_attached = sagemaker.estimator.Estimator.attach(xgb_hyperparameter_tuner.best_training_job())"
   ]
  },
  {
   "cell_type": "code",
   "execution_count": 22,
   "metadata": {},
   "outputs": [
    {
     "data": {
      "text/plain": [
       "'xgboost-220121-1321-036-3fc0c22a'"
      ]
     },
     "execution_count": 22,
     "metadata": {},
     "output_type": "execute_result"
    }
   ],
   "source": [
    "xgb_hyperparameter_tuner.best_training_job()"
   ]
  },
  {
   "cell_type": "code",
   "execution_count": 23,
   "metadata": {},
   "outputs": [
    {
     "data": {
      "text/plain": [
       "{'ContinuousParameterRanges': [{'Name': 'eta',\n",
       "   'MinValue': '0.02',\n",
       "   'MaxValue': '0.4',\n",
       "   'ScalingType': 'Auto'},\n",
       "  {'Name': 'subsample',\n",
       "   'MinValue': '0.6',\n",
       "   'MaxValue': '0.8',\n",
       "   'ScalingType': 'Auto'},\n",
       "  {'Name': 'gamma',\n",
       "   'MinValue': '0.5',\n",
       "   'MaxValue': '3.5',\n",
       "   'ScalingType': 'Auto'}],\n",
       " 'CategoricalParameterRanges': [],\n",
       " 'IntegerParameterRanges': [{'Name': 'max_depth',\n",
       "   'MinValue': '5',\n",
       "   'MaxValue': '50',\n",
       "   'ScalingType': 'Auto'},\n",
       "  {'Name': 'min_child_weight',\n",
       "   'MinValue': '2',\n",
       "   'MaxValue': '5',\n",
       "   'ScalingType': 'Auto'},\n",
       "  {'Name': 'num_round',\n",
       "   'MinValue': '400',\n",
       "   'MaxValue': '800',\n",
       "   'ScalingType': 'Auto'}]}"
      ]
     },
     "execution_count": 23,
     "metadata": {},
     "output_type": "execute_result"
    }
   ],
   "source": [
    "xgb_hyperparameter_tuner.hyperparameter_ranges()"
   ]
  },
  {
   "cell_type": "code",
   "execution_count": 24,
   "metadata": {},
   "outputs": [
    {
     "data": {
      "text/plain": [
       "<sagemaker.HyperparameterTuningJobAnalytics for xgboost-220121-1321>"
      ]
     },
     "execution_count": 24,
     "metadata": {},
     "output_type": "execute_result"
    }
   ],
   "source": [
    "xgb_hyperparameter_tuner.analytics()"
   ]
  },
  {
   "cell_type": "code",
   "execution_count": 25,
   "metadata": {},
   "outputs": [
    {
     "data": {
      "text/plain": [
       "<sagemaker.estimator.Estimator at 0x7fa6a46b3fd0>"
      ]
     },
     "execution_count": 25,
     "metadata": {},
     "output_type": "execute_result"
    }
   ],
   "source": [
    "xgb_estimator_attached"
   ]
  },
  {
   "cell_type": "code",
   "execution_count": 26,
   "metadata": {},
   "outputs": [
    {
     "data": {
      "text/plain": [
       "'xgboost-220121-1321-036-3fc0c22a'"
      ]
     },
     "execution_count": 26,
     "metadata": {},
     "output_type": "execute_result"
    }
   ],
   "source": [
    "xgb_hyperparameter_tuner.best_training_job()"
   ]
  },
  {
   "cell_type": "code",
   "execution_count": 27,
   "metadata": {},
   "outputs": [
    {
     "data": {
      "text/plain": [
       "{'_tuning_objective_metric': 'validation:auc',\n",
       " 'early_stopping_rounds': '30',\n",
       " 'eta': '0.027217889534806458',\n",
       " 'gamma': '2.927982866805479',\n",
       " 'max_delta_step': '3',\n",
       " 'max_depth': '8',\n",
       " 'min_child_weight': '3',\n",
       " 'num_round': '730',\n",
       " 'objective': 'binary:logistic',\n",
       " 'silent': '0',\n",
       " 'subsample': '0.7979210498324821'}"
      ]
     },
     "execution_count": 27,
     "metadata": {},
     "output_type": "execute_result"
    }
   ],
   "source": [
    "xgb_estimator_attached.hyperparameters()"
   ]
  },
  {
   "cell_type": "code",
   "execution_count": 28,
   "metadata": {},
   "outputs": [
    {
     "name": "stdout",
     "output_type": "stream",
     "text": [
      "\n",
      "2022-01-21 13:39:43 Starting - Preparing the instances for training\n",
      "2022-01-21 13:39:43 Downloading - Downloading input data\n",
      "2022-01-21 13:39:43 Training - Training image download completed. Training in progress.\n",
      "2022-01-21 13:39:43 Uploading - Uploading generated training model\n",
      "2022-01-21 13:39:43 Completed - Training job completed\n"
     ]
    }
   ],
   "source": [
    "bestestimator = xgb_hyperparameter_tuner.best_estimator(best_training_job=None)"
   ]
  },
  {
   "cell_type": "markdown",
   "metadata": {},
   "source": [
    "## Test the XG Boost model \n"
   ]
  },
  {
   "cell_type": "markdown",
   "metadata": {},
   "source": [
    "Now that we have fit our model to the training data, using the validation data to avoid overfitting, we can test our model. "
   ]
  },
  {
   "cell_type": "code",
   "execution_count": 29,
   "metadata": {},
   "outputs": [],
   "source": [
    "xgb_transformer = xgb_estimator_attached.transformer(instance_count = 1, instance_type = 'ml.m4.xlarge')\n",
    "#xgb_transformer = xgb.transformer(instance_count = 1, instance_type = 'ml.m4.xlarge')"
   ]
  },
  {
   "cell_type": "code",
   "execution_count": 30,
   "metadata": {},
   "outputs": [
    {
     "name": "stdout",
     "output_type": "stream",
     "text": [
      "..................................\u001b[34mArguments: serve\u001b[0m\n",
      "\u001b[34m[2022-01-21 13:49:41 +0000] [1] [INFO] Starting gunicorn 19.9.0\u001b[0m\n",
      "\u001b[34m[2022-01-21 13:49:41 +0000] [1] [INFO] Listening at: http://0.0.0.0:8080 (1)\u001b[0m\n",
      "\u001b[34m[2022-01-21 13:49:41 +0000] [1] [INFO] Using worker: gevent\u001b[0m\n",
      "\u001b[34m[2022-01-21 13:49:41 +0000] [22] [INFO] Booting worker with pid: 22\u001b[0m\n",
      "\u001b[34m[2022-01-21 13:49:41 +0000] [23] [INFO] Booting worker with pid: 23\u001b[0m\n",
      "\u001b[34m/opt/amazon/lib/python3.7/site-packages/gunicorn/workers/ggevent.py:65: MonkeyPatchWarning: Monkey-patching ssl after ssl has already been imported may lead to errors, including RecursionError on Python 3.6. It may also silently lead to incorrect behaviour on Python 3.7. Please monkey-patch earlier. See https://github.com/gevent/gevent/issues/1016. Modules that had direct imports (NOT patched): ['urllib3.util.ssl_ (/opt/amazon/lib/python3.7/site-packages/urllib3/util/ssl_.py)', 'urllib3.util (/opt/amazon/lib/python3.7/site-packages/urllib3/util/__init__.py)']. \n",
      "  monkey.patch_all(subprocess=True)\u001b[0m\n",
      "\u001b[34m[2022-01-21:13:49:41:INFO] Model loaded successfully for worker : 22\u001b[0m\n",
      "\u001b[34m/opt/amazon/lib/python3.7/site-packages/gunicorn/workers/ggevent.py:65: MonkeyPatchWarning: Monkey-patching ssl after ssl has already been imported may lead to errors, including RecursionError on Python 3.6. It may also silently lead to incorrect behaviour on Python 3.7. Please monkey-patch earlier. See https://github.com/gevent/gevent/issues/1016. Modules that had direct imports (NOT patched): ['urllib3.util.ssl_ (/opt/amazon/lib/python3.7/site-packages/urllib3/util/ssl_.py)', 'urllib3.util (/opt/amazon/lib/python3.7/site-packages/urllib3/util/__init__.py)']. \n",
      "  monkey.patch_all(subprocess=True)\u001b[0m\n",
      "\u001b[34m[2022-01-21:13:49:41:INFO] Model loaded successfully for worker : 23\u001b[0m\n",
      "\u001b[34m[2022-01-21 13:49:41 +0000] [24] [INFO] Booting worker with pid: 24\u001b[0m\n",
      "\u001b[34m[2022-01-21 13:49:41 +0000] [25] [INFO] Booting worker with pid: 25\u001b[0m\n",
      "\u001b[34m/opt/amazon/lib/python3.7/site-packages/gunicorn/workers/ggevent.py:65: MonkeyPatchWarning: Monkey-patching ssl after ssl has already been imported may lead to errors, including RecursionError on Python 3.6. It may also silently lead to incorrect behaviour on Python 3.7. Please monkey-patch earlier. See https://github.com/gevent/gevent/issues/1016. Modules that had direct imports (NOT patched): ['urllib3.util.ssl_ (/opt/amazon/lib/python3.7/site-packages/urllib3/util/ssl_.py)', 'urllib3.util (/opt/amazon/lib/python3.7/site-packages/urllib3/util/__init__.py)']. \n",
      "  monkey.patch_all(subprocess=True)\u001b[0m\n",
      "\u001b[34m[2022-01-21:13:49:41:INFO] Model loaded successfully for worker : 24\u001b[0m\n",
      "\u001b[34m/opt/amazon/lib/python3.7/site-packages/gunicorn/workers/ggevent.py:65: MonkeyPatchWarning: Monkey-patching ssl after ssl has already been imported may lead to errors, including RecursionError on Python 3.6. It may also silently lead to incorrect behaviour on Python 3.7. Please monkey-patch earlier. See https://github.com/gevent/gevent/issues/1016. Modules that had direct imports (NOT patched): ['urllib3.util.ssl_ (/opt/amazon/lib/python3.7/site-packages/urllib3/util/ssl_.py)', 'urllib3.util (/opt/amazon/lib/python3.7/site-packages/urllib3/util/__init__.py)']. \n",
      "  monkey.patch_all(subprocess=True)\u001b[0m\n",
      "\u001b[34m[2022-01-21:13:49:41:INFO] Model loaded successfully for worker : 25\u001b[0m\n",
      "\u001b[34m[2022-01-21:13:49:45:INFO] Sniff delimiter as ','\u001b[0m\n",
      "\u001b[34m[2022-01-21:13:49:45:INFO] Determined delimiter of CSV input is ','\u001b[0m\n",
      "\u001b[32m2022-01-21T13:49:45.100:[sagemaker logs]: MaxConcurrentTransforms=4, MaxPayloadInMB=6, BatchStrategy=MULTI_RECORD\u001b[0m\n",
      "\n"
     ]
    }
   ],
   "source": [
    "xgb_transformer.transform(test_location, content_type='text/csv', split_type='Line')"
   ]
  },
  {
   "cell_type": "code",
   "execution_count": 31,
   "metadata": {},
   "outputs": [
    {
     "name": "stdout",
     "output_type": "stream",
     "text": [
      "\u001b[34mArguments: serve\u001b[0m\n",
      "\u001b[34m[2022-01-21 13:49:41 +0000] [1] [INFO] Starting gunicorn 19.9.0\u001b[0m\n",
      "\u001b[34m[2022-01-21 13:49:41 +0000] [1] [INFO] Listening at: http://0.0.0.0:8080 (1)\u001b[0m\n",
      "\u001b[34m[2022-01-21 13:49:41 +0000] [1] [INFO] Using worker: gevent\u001b[0m\n",
      "\u001b[34m[2022-01-21 13:49:41 +0000] [22] [INFO] Booting worker with pid: 22\u001b[0m\n",
      "\u001b[34m[2022-01-21 13:49:41 +0000] [23] [INFO] Booting worker with pid: 23\u001b[0m\n",
      "\u001b[34m/opt/amazon/lib/python3.7/site-packages/gunicorn/workers/ggevent.py:65: MonkeyPatchWarning: Monkey-patching ssl after ssl has already been imported may lead to errors, including RecursionError on Python 3.6. It may also silently lead to incorrect behaviour on Python 3.7. Please monkey-patch earlier. See https://github.com/gevent/gevent/issues/1016. Modules that had direct imports (NOT patched): ['urllib3.util.ssl_ (/opt/amazon/lib/python3.7/site-packages/urllib3/util/ssl_.py)', 'urllib3.util (/opt/amazon/lib/python3.7/site-packages/urllib3/util/__init__.py)']. \n",
      "  monkey.patch_all(subprocess=True)\u001b[0m\n",
      "\u001b[34m[2022-01-21:13:49:41:INFO] Model loaded successfully for worker : 22\u001b[0m\n",
      "\u001b[34m/opt/amazon/lib/python3.7/site-packages/gunicorn/workers/ggevent.py:65: MonkeyPatchWarning: Monkey-patching ssl after ssl has already been imported may lead to errors, including RecursionError on Python 3.6. It may also silently lead to incorrect behaviour on Python 3.7. Please monkey-patch earlier. See https://github.com/gevent/gevent/issues/1016. Modules that had direct imports (NOT patched): ['urllib3.util.ssl_ (/opt/amazon/lib/python3.7/site-packages/urllib3/util/ssl_.py)', 'urllib3.util (/opt/amazon/lib/python3.7/site-packages/urllib3/util/__init__.py)']. \n",
      "  monkey.patch_all(subprocess=True)\u001b[0m\n",
      "\u001b[35mArguments: serve\u001b[0m\n",
      "\u001b[35m[2022-01-21 13:49:41 +0000] [1] [INFO] Starting gunicorn 19.9.0\u001b[0m\n",
      "\u001b[35m[2022-01-21 13:49:41 +0000] [1] [INFO] Listening at: http://0.0.0.0:8080 (1)\u001b[0m\n",
      "\u001b[35m[2022-01-21 13:49:41 +0000] [1] [INFO] Using worker: gevent\u001b[0m\n",
      "\u001b[35m[2022-01-21 13:49:41 +0000] [22] [INFO] Booting worker with pid: 22\u001b[0m\n",
      "\u001b[35m[2022-01-21 13:49:41 +0000] [23] [INFO] Booting worker with pid: 23\u001b[0m\n",
      "\u001b[35m/opt/amazon/lib/python3.7/site-packages/gunicorn/workers/ggevent.py:65: MonkeyPatchWarning: Monkey-patching ssl after ssl has already been imported may lead to errors, including RecursionError on Python 3.6. It may also silently lead to incorrect behaviour on Python 3.7. Please monkey-patch earlier. See https://github.com/gevent/gevent/issues/1016. Modules that had direct imports (NOT patched): ['urllib3.util.ssl_ (/opt/amazon/lib/python3.7/site-packages/urllib3/util/ssl_.py)', 'urllib3.util (/opt/amazon/lib/python3.7/site-packages/urllib3/util/__init__.py)']. \n",
      "  monkey.patch_all(subprocess=True)\u001b[0m\n",
      "\u001b[35m[2022-01-21:13:49:41:INFO] Model loaded successfully for worker : 22\u001b[0m\n",
      "\u001b[35m/opt/amazon/lib/python3.7/site-packages/gunicorn/workers/ggevent.py:65: MonkeyPatchWarning: Monkey-patching ssl after ssl has already been imported may lead to errors, including RecursionError on Python 3.6. It may also silently lead to incorrect behaviour on Python 3.7. Please monkey-patch earlier. See https://github.com/gevent/gevent/issues/1016. Modules that had direct imports (NOT patched): ['urllib3.util.ssl_ (/opt/amazon/lib/python3.7/site-packages/urllib3/util/ssl_.py)', 'urllib3.util (/opt/amazon/lib/python3.7/site-packages/urllib3/util/__init__.py)']. \n",
      "  monkey.patch_all(subprocess=True)\u001b[0m\n",
      "\u001b[34m[2022-01-21:13:49:41:INFO] Model loaded successfully for worker : 23\u001b[0m\n",
      "\u001b[34m[2022-01-21 13:49:41 +0000] [24] [INFO] Booting worker with pid: 24\u001b[0m\n",
      "\u001b[34m[2022-01-21 13:49:41 +0000] [25] [INFO] Booting worker with pid: 25\u001b[0m\n",
      "\u001b[34m/opt/amazon/lib/python3.7/site-packages/gunicorn/workers/ggevent.py:65: MonkeyPatchWarning: Monkey-patching ssl after ssl has already been imported may lead to errors, including RecursionError on Python 3.6. It may also silently lead to incorrect behaviour on Python 3.7. Please monkey-patch earlier. See https://github.com/gevent/gevent/issues/1016. Modules that had direct imports (NOT patched): ['urllib3.util.ssl_ (/opt/amazon/lib/python3.7/site-packages/urllib3/util/ssl_.py)', 'urllib3.util (/opt/amazon/lib/python3.7/site-packages/urllib3/util/__init__.py)']. \n",
      "  monkey.patch_all(subprocess=True)\u001b[0m\n",
      "\u001b[34m[2022-01-21:13:49:41:INFO] Model loaded successfully for worker : 24\u001b[0m\n",
      "\u001b[34m/opt/amazon/lib/python3.7/site-packages/gunicorn/workers/ggevent.py:65: MonkeyPatchWarning: Monkey-patching ssl after ssl has already been imported may lead to errors, including RecursionError on Python 3.6. It may also silently lead to incorrect behaviour on Python 3.7. Please monkey-patch earlier. See https://github.com/gevent/gevent/issues/1016. Modules that had direct imports (NOT patched): ['urllib3.util.ssl_ (/opt/amazon/lib/python3.7/site-packages/urllib3/util/ssl_.py)', 'urllib3.util (/opt/amazon/lib/python3.7/site-packages/urllib3/util/__init__.py)']. \n",
      "  monkey.patch_all(subprocess=True)\u001b[0m\n",
      "\u001b[34m[2022-01-21:13:49:41:INFO] Model loaded successfully for worker : 25\u001b[0m\n",
      "\u001b[35m[2022-01-21:13:49:41:INFO] Model loaded successfully for worker : 23\u001b[0m\n",
      "\u001b[35m[2022-01-21 13:49:41 +0000] [24] [INFO] Booting worker with pid: 24\u001b[0m\n",
      "\u001b[35m[2022-01-21 13:49:41 +0000] [25] [INFO] Booting worker with pid: 25\u001b[0m\n",
      "\u001b[35m/opt/amazon/lib/python3.7/site-packages/gunicorn/workers/ggevent.py:65: MonkeyPatchWarning: Monkey-patching ssl after ssl has already been imported may lead to errors, including RecursionError on Python 3.6. It may also silently lead to incorrect behaviour on Python 3.7. Please monkey-patch earlier. See https://github.com/gevent/gevent/issues/1016. Modules that had direct imports (NOT patched): ['urllib3.util.ssl_ (/opt/amazon/lib/python3.7/site-packages/urllib3/util/ssl_.py)', 'urllib3.util (/opt/amazon/lib/python3.7/site-packages/urllib3/util/__init__.py)']. \n",
      "  monkey.patch_all(subprocess=True)\u001b[0m\n",
      "\u001b[35m[2022-01-21:13:49:41:INFO] Model loaded successfully for worker : 24\u001b[0m\n",
      "\u001b[35m/opt/amazon/lib/python3.7/site-packages/gunicorn/workers/ggevent.py:65: MonkeyPatchWarning: Monkey-patching ssl after ssl has already been imported may lead to errors, including RecursionError on Python 3.6. It may also silently lead to incorrect behaviour on Python 3.7. Please monkey-patch earlier. See https://github.com/gevent/gevent/issues/1016. Modules that had direct imports (NOT patched): ['urllib3.util.ssl_ (/opt/amazon/lib/python3.7/site-packages/urllib3/util/ssl_.py)', 'urllib3.util (/opt/amazon/lib/python3.7/site-packages/urllib3/util/__init__.py)']. \n",
      "  monkey.patch_all(subprocess=True)\u001b[0m\n",
      "\u001b[35m[2022-01-21:13:49:41:INFO] Model loaded successfully for worker : 25\u001b[0m\n",
      "\u001b[34m[2022-01-21:13:49:45:INFO] Sniff delimiter as ','\u001b[0m\n",
      "\u001b[34m[2022-01-21:13:49:45:INFO] Determined delimiter of CSV input is ','\u001b[0m\n",
      "\u001b[35m[2022-01-21:13:49:45:INFO] Sniff delimiter as ','\u001b[0m\n",
      "\u001b[35m[2022-01-21:13:49:45:INFO] Determined delimiter of CSV input is ','\u001b[0m\n",
      "\u001b[32m2022-01-21T13:49:45.100:[sagemaker logs]: MaxConcurrentTransforms=4, MaxPayloadInMB=6, BatchStrategy=MULTI_RECORD\u001b[0m\n"
     ]
    }
   ],
   "source": [
    "xgb_transformer.wait()"
   ]
  },
  {
   "cell_type": "markdown",
   "metadata": {},
   "source": [
    "Copy the output from S3 to local"
   ]
  },
  {
   "cell_type": "code",
   "execution_count": 32,
   "metadata": {},
   "outputs": [
    {
     "name": "stdout",
     "output_type": "stream",
     "text": [
      "Completed 246.6 KiB/246.6 KiB (1.8 MiB/s) with 1 file(s) remaining\r\n",
      "download: s3://sagemaker-us-east-1-028910220072/xgboost-2022-01-21-13-44-08-327/test.csv.out to data/test.csv.out\r\n"
     ]
    }
   ],
   "source": [
    "!aws s3 cp --recursive $xgb_transformer.output_path $data_dir"
   ]
  },
  {
   "cell_type": "code",
   "execution_count": 31,
   "metadata": {},
   "outputs": [],
   "source": [
    "Y_pred = pd.read_csv(os.path.join(data_dir, 'test.csv.out'), header=None)"
   ]
  },
  {
   "cell_type": "code",
   "execution_count": 32,
   "metadata": {},
   "outputs": [
    {
     "data": {
      "text/html": [
       "<div>\n",
       "<style scoped>\n",
       "    .dataframe tbody tr th:only-of-type {\n",
       "        vertical-align: middle;\n",
       "    }\n",
       "\n",
       "    .dataframe tbody tr th {\n",
       "        vertical-align: top;\n",
       "    }\n",
       "\n",
       "    .dataframe thead th {\n",
       "        text-align: right;\n",
       "    }\n",
       "</style>\n",
       "<table border=\"1\" class=\"dataframe\">\n",
       "  <thead>\n",
       "    <tr style=\"text-align: right;\">\n",
       "      <th></th>\n",
       "      <th>offersuccessful</th>\n",
       "    </tr>\n",
       "  </thead>\n",
       "  <tbody>\n",
       "    <tr>\n",
       "      <th>43343</th>\n",
       "      <td>1</td>\n",
       "    </tr>\n",
       "    <tr>\n",
       "      <th>62426</th>\n",
       "      <td>0</td>\n",
       "    </tr>\n",
       "    <tr>\n",
       "      <th>62456</th>\n",
       "      <td>1</td>\n",
       "    </tr>\n",
       "    <tr>\n",
       "      <th>31614</th>\n",
       "      <td>1</td>\n",
       "    </tr>\n",
       "    <tr>\n",
       "      <th>12031</th>\n",
       "      <td>1</td>\n",
       "    </tr>\n",
       "    <tr>\n",
       "      <th>...</th>\n",
       "      <td>...</td>\n",
       "    </tr>\n",
       "    <tr>\n",
       "      <th>26618</th>\n",
       "      <td>0</td>\n",
       "    </tr>\n",
       "    <tr>\n",
       "      <th>45954</th>\n",
       "      <td>0</td>\n",
       "    </tr>\n",
       "    <tr>\n",
       "      <th>50628</th>\n",
       "      <td>1</td>\n",
       "    </tr>\n",
       "    <tr>\n",
       "      <th>2974</th>\n",
       "      <td>0</td>\n",
       "    </tr>\n",
       "    <tr>\n",
       "      <th>21934</th>\n",
       "      <td>0</td>\n",
       "    </tr>\n",
       "  </tbody>\n",
       "</table>\n",
       "<p>39351 rows × 1 columns</p>\n",
       "</div>"
      ],
      "text/plain": [
       "       offersuccessful\n",
       "43343                1\n",
       "62426                0\n",
       "62456                1\n",
       "31614                1\n",
       "12031                1\n",
       "...                ...\n",
       "26618                0\n",
       "45954                0\n",
       "50628                1\n",
       "2974                 0\n",
       "21934                0\n",
       "\n",
       "[39351 rows x 1 columns]"
      ]
     },
     "execution_count": 32,
     "metadata": {},
     "output_type": "execute_result"
    }
   ],
   "source": [
    "y_train"
   ]
  },
  {
   "cell_type": "code",
   "execution_count": 33,
   "metadata": {},
   "outputs": [],
   "source": [
    "Y_pred = pd.read_csv(os.path.join(data_dir, 'test.csv.out'), header=None)\n",
    "Y_pred.rename(columns={0:'Predictions'}, inplace=True)"
   ]
  },
  {
   "cell_type": "code",
   "execution_count": 34,
   "metadata": {},
   "outputs": [],
   "source": [
    "testfulldata = os.path.join(data_dir, 'testfulldata.csv')\n",
    "\n",
    "y_test = pd.read_csv(testfulldata, header=None, usecols=[0])\n",
    "y_test.rename(columns={0:'Test Data'}, inplace=True)"
   ]
  },
  {
   "cell_type": "markdown",
   "metadata": {},
   "source": [
    "# Compare the Prediction vs Test data on a line plot\n",
    "\n",
    "Looking at the prediction of the binary success rate"
   ]
  },
  {
   "cell_type": "code",
   "execution_count": 35,
   "metadata": {},
   "outputs": [],
   "source": [
    "df_plot = pd.concat([Y_pred, y_test], axis=1)"
   ]
  },
  {
   "cell_type": "code",
   "execution_count": 36,
   "metadata": {},
   "outputs": [
    {
     "data": {
      "image/png": "[encoded data removed]",
      "text/plain": [
       "<Figure size 1080x504 with 1 Axes>"
      ]
     },
     "metadata": {
      "needs_background": "light"
     },
     "output_type": "display_data"
    }
   ],
   "source": [
    "fig, ax = plt.subplots(1, 1, figsize=(15,7))\n",
    "ax = plt.gca()\n",
    "df_graph = df_plot[700:750]\n",
    "df_graph.plot(kind='line',use_index=True,y='Predictions',ax=ax)\n",
    "df_graph.plot(kind='line',use_index=True,y='Test Data', color='red', ax=ax)\n",
    "ax.set_xlabel('Index Data')\n",
    "ax.set_ylabel('Success Rate (%)')\n",
    "plt.legend(['Prediction', 'Test Data'], loc='upper right', title='Legend Title')\n",
    "plt.show()"
   ]
  },
  {
   "cell_type": "code",
   "execution_count": 37,
   "metadata": {},
   "outputs": [
    {
     "data": {
      "text/html": [
       "<div>\n",
       "<style scoped>\n",
       "    .dataframe tbody tr th:only-of-type {\n",
       "        vertical-align: middle;\n",
       "    }\n",
       "\n",
       "    .dataframe tbody tr th {\n",
       "        vertical-align: top;\n",
       "    }\n",
       "\n",
       "    .dataframe thead th {\n",
       "        text-align: right;\n",
       "    }\n",
       "</style>\n",
       "<table border=\"1\" class=\"dataframe\">\n",
       "  <thead>\n",
       "    <tr style=\"text-align: right;\">\n",
       "      <th></th>\n",
       "      <th>Test Data</th>\n",
       "    </tr>\n",
       "  </thead>\n",
       "  <tbody>\n",
       "    <tr>\n",
       "      <th>0</th>\n",
       "      <td>0</td>\n",
       "    </tr>\n",
       "    <tr>\n",
       "      <th>1</th>\n",
       "      <td>1</td>\n",
       "    </tr>\n",
       "    <tr>\n",
       "      <th>2</th>\n",
       "      <td>1</td>\n",
       "    </tr>\n",
       "    <tr>\n",
       "      <th>3</th>\n",
       "      <td>1</td>\n",
       "    </tr>\n",
       "    <tr>\n",
       "      <th>4</th>\n",
       "      <td>1</td>\n",
       "    </tr>\n",
       "    <tr>\n",
       "      <th>...</th>\n",
       "      <td>...</td>\n",
       "    </tr>\n",
       "    <tr>\n",
       "      <th>13112</th>\n",
       "      <td>1</td>\n",
       "    </tr>\n",
       "    <tr>\n",
       "      <th>13113</th>\n",
       "      <td>0</td>\n",
       "    </tr>\n",
       "    <tr>\n",
       "      <th>13114</th>\n",
       "      <td>1</td>\n",
       "    </tr>\n",
       "    <tr>\n",
       "      <th>13115</th>\n",
       "      <td>0</td>\n",
       "    </tr>\n",
       "    <tr>\n",
       "      <th>13116</th>\n",
       "      <td>0</td>\n",
       "    </tr>\n",
       "  </tbody>\n",
       "</table>\n",
       "<p>13117 rows × 1 columns</p>\n",
       "</div>"
      ],
      "text/plain": [
       "       Test Data\n",
       "0              0\n",
       "1              1\n",
       "2              1\n",
       "3              1\n",
       "4              1\n",
       "...          ...\n",
       "13112          1\n",
       "13113          0\n",
       "13114          1\n",
       "13115          0\n",
       "13116          0\n",
       "\n",
       "[13117 rows x 1 columns]"
      ]
     },
     "execution_count": 37,
     "metadata": {},
     "output_type": "execute_result"
    }
   ],
   "source": [
    "y_test"
   ]
  },
  {
   "cell_type": "code",
   "execution_count": 38,
   "metadata": {},
   "outputs": [
    {
     "data": {
      "text/html": [
       "<div>\n",
       "<style scoped>\n",
       "    .dataframe tbody tr th:only-of-type {\n",
       "        vertical-align: middle;\n",
       "    }\n",
       "\n",
       "    .dataframe tbody tr th {\n",
       "        vertical-align: top;\n",
       "    }\n",
       "\n",
       "    .dataframe thead th {\n",
       "        text-align: right;\n",
       "    }\n",
       "</style>\n",
       "<table border=\"1\" class=\"dataframe\">\n",
       "  <thead>\n",
       "    <tr style=\"text-align: right;\">\n",
       "      <th></th>\n",
       "      <th>Predictions</th>\n",
       "    </tr>\n",
       "  </thead>\n",
       "  <tbody>\n",
       "    <tr>\n",
       "      <th>0</th>\n",
       "      <td>0.246252</td>\n",
       "    </tr>\n",
       "    <tr>\n",
       "      <th>1</th>\n",
       "      <td>0.736949</td>\n",
       "    </tr>\n",
       "    <tr>\n",
       "      <th>2</th>\n",
       "      <td>0.602057</td>\n",
       "    </tr>\n",
       "    <tr>\n",
       "      <th>3</th>\n",
       "      <td>0.334953</td>\n",
       "    </tr>\n",
       "    <tr>\n",
       "      <th>4</th>\n",
       "      <td>0.759758</td>\n",
       "    </tr>\n",
       "    <tr>\n",
       "      <th>...</th>\n",
       "      <td>...</td>\n",
       "    </tr>\n",
       "    <tr>\n",
       "      <th>13112</th>\n",
       "      <td>0.654060</td>\n",
       "    </tr>\n",
       "    <tr>\n",
       "      <th>13113</th>\n",
       "      <td>0.886882</td>\n",
       "    </tr>\n",
       "    <tr>\n",
       "      <th>13114</th>\n",
       "      <td>0.813556</td>\n",
       "    </tr>\n",
       "    <tr>\n",
       "      <th>13115</th>\n",
       "      <td>0.077681</td>\n",
       "    </tr>\n",
       "    <tr>\n",
       "      <th>13116</th>\n",
       "      <td>0.241402</td>\n",
       "    </tr>\n",
       "  </tbody>\n",
       "</table>\n",
       "<p>13117 rows × 1 columns</p>\n",
       "</div>"
      ],
      "text/plain": [
       "       Predictions\n",
       "0         0.246252\n",
       "1         0.736949\n",
       "2         0.602057\n",
       "3         0.334953\n",
       "4         0.759758\n",
       "...            ...\n",
       "13112     0.654060\n",
       "13113     0.886882\n",
       "13114     0.813556\n",
       "13115     0.077681\n",
       "13116     0.241402\n",
       "\n",
       "[13117 rows x 1 columns]"
      ]
     },
     "execution_count": 38,
     "metadata": {},
     "output_type": "execute_result"
    }
   ],
   "source": [
    "Y_pred"
   ]
  },
  {
   "cell_type": "markdown",
   "metadata": {},
   "source": [
    "# Calculating the Performance Metric for XGBoost "
   ]
  },
  {
   "cell_type": "code",
   "execution_count": 39,
   "metadata": {},
   "outputs": [],
   "source": [
    "#https://stackoverflow.com/questions/35400372/using-f-score-in-xgb\n",
    "def convert_to_y_bin(Y_pred, threshold=0.5): \n",
    "    y_bin = (Y_pred > threshold).astype(int) # works for both type(y) == <class 'numpy.ndarray'> and type(y) == <class 'pandas.core.series.Series'>\n",
    "    return y_bin"
   ]
  },
  {
   "cell_type": "code",
   "execution_count": 40,
   "metadata": {},
   "outputs": [],
   "source": [
    "y_bin = convert_to_y_bin(Y_pred)"
   ]
  },
  {
   "cell_type": "code",
   "execution_count": 41,
   "metadata": {},
   "outputs": [
    {
     "data": {
      "text/html": [
       "<div>\n",
       "<style scoped>\n",
       "    .dataframe tbody tr th:only-of-type {\n",
       "        vertical-align: middle;\n",
       "    }\n",
       "\n",
       "    .dataframe tbody tr th {\n",
       "        vertical-align: top;\n",
       "    }\n",
       "\n",
       "    .dataframe thead th {\n",
       "        text-align: right;\n",
       "    }\n",
       "</style>\n",
       "<table border=\"1\" class=\"dataframe\">\n",
       "  <thead>\n",
       "    <tr style=\"text-align: right;\">\n",
       "      <th></th>\n",
       "      <th>Predictions</th>\n",
       "    </tr>\n",
       "  </thead>\n",
       "  <tbody>\n",
       "    <tr>\n",
       "      <th>0</th>\n",
       "      <td>0</td>\n",
       "    </tr>\n",
       "    <tr>\n",
       "      <th>1</th>\n",
       "      <td>1</td>\n",
       "    </tr>\n",
       "    <tr>\n",
       "      <th>2</th>\n",
       "      <td>1</td>\n",
       "    </tr>\n",
       "    <tr>\n",
       "      <th>3</th>\n",
       "      <td>0</td>\n",
       "    </tr>\n",
       "    <tr>\n",
       "      <th>4</th>\n",
       "      <td>1</td>\n",
       "    </tr>\n",
       "    <tr>\n",
       "      <th>...</th>\n",
       "      <td>...</td>\n",
       "    </tr>\n",
       "    <tr>\n",
       "      <th>13112</th>\n",
       "      <td>1</td>\n",
       "    </tr>\n",
       "    <tr>\n",
       "      <th>13113</th>\n",
       "      <td>1</td>\n",
       "    </tr>\n",
       "    <tr>\n",
       "      <th>13114</th>\n",
       "      <td>1</td>\n",
       "    </tr>\n",
       "    <tr>\n",
       "      <th>13115</th>\n",
       "      <td>0</td>\n",
       "    </tr>\n",
       "    <tr>\n",
       "      <th>13116</th>\n",
       "      <td>0</td>\n",
       "    </tr>\n",
       "  </tbody>\n",
       "</table>\n",
       "<p>13117 rows × 1 columns</p>\n",
       "</div>"
      ],
      "text/plain": [
       "       Predictions\n",
       "0                0\n",
       "1                1\n",
       "2                1\n",
       "3                0\n",
       "4                1\n",
       "...            ...\n",
       "13112            1\n",
       "13113            1\n",
       "13114            1\n",
       "13115            0\n",
       "13116            0\n",
       "\n",
       "[13117 rows x 1 columns]"
      ]
     },
     "execution_count": 41,
     "metadata": {},
     "output_type": "execute_result"
    }
   ],
   "source": [
    "y_bin"
   ]
  },
  {
   "cell_type": "code",
   "execution_count": 52,
   "metadata": {},
   "outputs": [
    {
     "name": "stdout",
     "output_type": "stream",
     "text": [
      "Model Accuracy:  0.716856\n",
      "Model F1-score:  0.719486\n",
      "Model Precision Score :  0.09115741663697893\n",
      "Model Recall score :  0.09115741663697893\n",
      "Mean Squared Logarithmic Error :  0.09115741663697893\n",
      "Root Mean Squared Error :  0.09115741663697893\n",
      "Model Compute Area Under the Receiver Operating Characteristic Curve :  0.788670\n"
     ]
    }
   ],
   "source": [
    "from sklearn.metrics import precision_score, recall_score\n",
    "from sklearn.metrics import mean_squared_log_error\n",
    "from sklearn.metrics import mean_squared_error\n",
    "from sklearn.metrics import roc_auc_score\n",
    "xgb_accuracy_score = accuracy_score(y_test, y_bin)\n",
    "xgb_accuracy_f1score = f1_score(y_test,y_bin)\n",
    "print(\"Model Accuracy: % f\" % (xgb_accuracy_score))\n",
    "print(\"Model F1-score: % f\" % (xgb_accuracy_f1score))\n",
    "precision_score(y_test, y_bin)\n",
    "recall_score(y_test, y_bin)\n",
    "print(\"Model Precision Score : \", msle)\n",
    "print(\"Model Recall score : \", msle)\n",
    "msle = mean_squared_log_error(Y_pred, y_test)\n",
    "rmse = np.sqrt(mean_squared_error(Y_pred, y_test))\n",
    "xgb_auc = roc_auc_score(y_test, Y_pred)\n",
    "print(\"Mean Squared Logarithmic Error : \", msle)\n",
    "print(\"Root Mean Squared Error : \", msle)\n",
    "print(\"Model Compute Area Under the Receiver Operating Characteristic Curve : % f\" %(xgb_auc))"
   ]
  },
  {
   "cell_type": "code",
   "execution_count": 44,
   "metadata": {},
   "outputs": [],
   "source": [
    "from sklearn.metrics import confusion_matrix\n",
    "def get_confusion_matrix_plot(y_test, y_predicted):\n",
    "  cm = confusion_matrix(y_test, y_predicted)\n",
    "  plt.figure(figsize=(15,10))\n",
    "  plt.clf()\n",
    "  plt.imshow(cm, interpolation='nearest', cmap=plt.cm.Wistia)\n",
    "  classNames = ['Negative','Positive']\n",
    "  plt.title('Confusion Matrix')\n",
    "  plt.ylabel('True label')\n",
    "  plt.xlabel('Predicted label')\n",
    "  tick_marks = np.arange(len(classNames))\n",
    "  plt.xticks(tick_marks, classNames, rotation=45)\n",
    "  plt.yticks(tick_marks, classNames)\n",
    "  s = [['TN','FP'], ['FN', 'TP']]\n",
    "  \n",
    "  for i in range(2):\n",
    "      for j in range(2):\n",
    "          plt.text(j,i, str(s[i][j])+\" = \"+str(cm[i][j]))\n",
    "  plt.show()"
   ]
  },
  {
   "cell_type": "code",
   "execution_count": 45,
   "metadata": {},
   "outputs": [
    {
     "data": {
      "image/png": "[encoded data removed]",
      "text/plain": [
       "<Figure size 1080x720 with 1 Axes>"
      ]
     },
     "metadata": {
      "needs_background": "light"
     },
     "output_type": "display_data"
    }
   ],
   "source": [
    "get_confusion_matrix_plot(y_test, y_bin)"
   ]
  },
  {
   "cell_type": "markdown",
   "metadata": {},
   "source": [
    "# Deploy the Trained Model"
   ]
  },
  {
   "cell_type": "code",
   "execution_count": 47,
   "metadata": {},
   "outputs": [
    {
     "name": "stdout",
     "output_type": "stream",
     "text": [
      "-----!"
     ]
    }
   ],
   "source": [
    "xgb_predictor = xgb_estimator_attached.deploy(\n",
    "\tinitial_instance_count=1,\n",
    "\tinstance_type='ml.m4.xlarge',\n",
    "\tserializer=CSVSerializer)\n"
   ]
  },
  {
   "cell_type": "code",
   "execution_count": 48,
   "metadata": {},
   "outputs": [
    {
     "data": {
      "text/html": [
       "<div>\n",
       "<style scoped>\n",
       "    .dataframe tbody tr th:only-of-type {\n",
       "        vertical-align: middle;\n",
       "    }\n",
       "\n",
       "    .dataframe tbody tr th {\n",
       "        vertical-align: top;\n",
       "    }\n",
       "\n",
       "    .dataframe thead th {\n",
       "        text-align: right;\n",
       "    }\n",
       "</style>\n",
       "<table border=\"1\" class=\"dataframe\">\n",
       "  <thead>\n",
       "    <tr style=\"text-align: right;\">\n",
       "      <th></th>\n",
       "      <th>0</th>\n",
       "      <th>1</th>\n",
       "      <th>2</th>\n",
       "      <th>3</th>\n",
       "      <th>4</th>\n",
       "      <th>5</th>\n",
       "      <th>6</th>\n",
       "      <th>7</th>\n",
       "      <th>8</th>\n",
       "      <th>9</th>\n",
       "      <th>10</th>\n",
       "      <th>11</th>\n",
       "    </tr>\n",
       "  </thead>\n",
       "  <tbody>\n",
       "    <tr>\n",
       "      <th>0</th>\n",
       "      <td>10</td>\n",
       "      <td>10</td>\n",
       "      <td>5</td>\n",
       "      <td>1</td>\n",
       "      <td>1</td>\n",
       "      <td>1</td>\n",
       "      <td>1</td>\n",
       "      <td>0</td>\n",
       "      <td>0</td>\n",
       "      <td>66</td>\n",
       "      <td>45000</td>\n",
       "      <td>0</td>\n",
       "    </tr>\n",
       "    <tr>\n",
       "      <th>1</th>\n",
       "      <td>3</td>\n",
       "      <td>7</td>\n",
       "      <td>7</td>\n",
       "      <td>1</td>\n",
       "      <td>1</td>\n",
       "      <td>1</td>\n",
       "      <td>0</td>\n",
       "      <td>1</td>\n",
       "      <td>0</td>\n",
       "      <td>84</td>\n",
       "      <td>62000</td>\n",
       "      <td>0</td>\n",
       "    </tr>\n",
       "    <tr>\n",
       "      <th>2</th>\n",
       "      <td>10</td>\n",
       "      <td>10</td>\n",
       "      <td>7</td>\n",
       "      <td>0</td>\n",
       "      <td>1</td>\n",
       "      <td>1</td>\n",
       "      <td>1</td>\n",
       "      <td>0</td>\n",
       "      <td>0</td>\n",
       "      <td>70</td>\n",
       "      <td>72000</td>\n",
       "      <td>1</td>\n",
       "    </tr>\n",
       "    <tr>\n",
       "      <th>3</th>\n",
       "      <td>5</td>\n",
       "      <td>5</td>\n",
       "      <td>5</td>\n",
       "      <td>1</td>\n",
       "      <td>1</td>\n",
       "      <td>1</td>\n",
       "      <td>1</td>\n",
       "      <td>0</td>\n",
       "      <td>0</td>\n",
       "      <td>37</td>\n",
       "      <td>36000</td>\n",
       "      <td>0</td>\n",
       "    </tr>\n",
       "    <tr>\n",
       "      <th>4</th>\n",
       "      <td>2</td>\n",
       "      <td>10</td>\n",
       "      <td>10</td>\n",
       "      <td>1</td>\n",
       "      <td>1</td>\n",
       "      <td>1</td>\n",
       "      <td>0</td>\n",
       "      <td>1</td>\n",
       "      <td>0</td>\n",
       "      <td>41</td>\n",
       "      <td>52000</td>\n",
       "      <td>0</td>\n",
       "    </tr>\n",
       "  </tbody>\n",
       "</table>\n",
       "</div>"
      ],
      "text/plain": [
       "   0   1   2   3   4   5   6   7   8   9      10  11\n",
       "0  10  10   5   1   1   1   1   0   0  66  45000   0\n",
       "1   3   7   7   1   1   1   0   1   0  84  62000   0\n",
       "2  10  10   7   0   1   1   1   0   0  70  72000   1\n",
       "3   5   5   5   1   1   1   1   0   0  37  36000   0\n",
       "4   2  10  10   1   1   1   0   1   0  41  52000   0"
      ]
     },
     "execution_count": 48,
     "metadata": {},
     "output_type": "execute_result"
    }
   ],
   "source": [
    "#Get the test data to be predicted using the Sage Maker Endpoint\n",
    "test_data = os.path.join(data_dir, 'test.csv')\n",
    "X_test = pd.read_csv(test_data, header=None)\n",
    "X_test.head()"
   ]
  },
  {
   "cell_type": "markdown",
   "metadata": {},
   "source": [
    "predictions in comma delimited string and need to be converted to a numpy array."
   ]
  },
  {
   "cell_type": "code",
   "execution_count": 49,
   "metadata": {},
   "outputs": [],
   "source": [
    "def predict_deployed_endpoint(data):\n",
    "    \"\"\" Get predictions from the .csv file.\"\"\"\n",
    "    xgb_predictor.serializer = CSVSerializer()\n",
    "\n",
    "    Y_pred = xgb_predictor.predict(data.values).decode('utf-8')\n",
    "    \n",
    "    predictions = np.fromstring(Y_pred, sep=',')\n",
    "    return predictions"
   ]
  },
  {
   "cell_type": "code",
   "execution_count": 50,
   "metadata": {},
   "outputs": [
    {
     "data": {
      "text/plain": [
       "<sagemaker.predictor.Predictor at 0x7fa6a46eb278>"
      ]
     },
     "execution_count": 50,
     "metadata": {},
     "output_type": "execute_result"
    }
   ],
   "source": [
    "xgb_predictor"
   ]
  },
  {
   "cell_type": "code",
   "execution_count": 51,
   "metadata": {},
   "outputs": [
    {
     "data": {
      "text/plain": [
       "array([0.2462523 , 0.73694867, 0.60205668, ..., 0.81355572, 0.07768082,\n",
       "       0.2414017 ])"
      ]
     },
     "execution_count": 51,
     "metadata": {},
     "output_type": "execute_result"
    }
   ],
   "source": [
    "Y_pred = predict_deployed_endpoint(X_test)\n",
    "Y_pred"
   ]
  },
  {
   "cell_type": "code",
   "execution_count": 53,
   "metadata": {},
   "outputs": [],
   "source": [
    "Y_pred_bin = convert_to_y_bin(Y_pred)"
   ]
  },
  {
   "cell_type": "code",
   "execution_count": 54,
   "metadata": {},
   "outputs": [
    {
     "name": "stdout",
     "output_type": "stream",
     "text": [
      "Model Accuracy:  0.716856\n",
      "Model f1-score:  0.719486\n"
     ]
    }
   ],
   "source": [
    "xgb_accuracy_score = accuracy_score(y_test, Y_pred_bin)\n",
    "xgb_accuracy_f1score = (f1_score(y_test,Y_pred_bin))\n",
    "print(\"Model Accuracy: % 3f\" % (xgb_accuracy_score))\n",
    "print(\"Model f1-score: % 3f\" % (xgb_accuracy_f1score))\n"
   ]
  },
  {
   "cell_type": "code",
   "execution_count": 55,
   "metadata": {},
   "outputs": [
    {
     "name": "stdout",
     "output_type": "stream",
     "text": [
      "Model Mean Square Log Error :  0.091157\n",
      "Model Root Mean Square Error :  0.430009\n",
      "Model Compute Area Under the Receiver Operating Characteristic Curve :  0.788670\n"
     ]
    }
   ],
   "source": [
    "xgb_msle = mean_squared_log_error(y_test,Y_pred)\n",
    "xgb_rmse = np.sqrt(mean_squared_error(y_test, Y_pred))\n",
    "xgb_auc = roc_auc_score(y_test, Y_pred)\n",
    "print(\"Model Mean Square Log Error : % f\" %(xgb_msle))\n",
    "print(\"Model Root Mean Square Error : % f\" %(xgb_rmse))\n",
    "print(\"Model Compute Area Under the Receiver Operating Characteristic Curve : % f\" %(xgb_auc))"
   ]
  },
  {
   "cell_type": "code",
   "execution_count": 56,
   "metadata": {},
   "outputs": [
    {
     "data": {
      "text/plain": [
       "'xgboost-2022-01-21-13-53-12-807'"
      ]
     },
     "execution_count": 56,
     "metadata": {},
     "output_type": "execute_result"
    }
   ],
   "source": [
    "xgb_predictor.endpoint_name"
   ]
  },
  {
   "cell_type": "markdown",
   "metadata": {},
   "source": [
    "### REMEMBER to delete the endpoint!"
   ]
  },
  {
   "cell_type": "code",
   "execution_count": 57,
   "metadata": {},
   "outputs": [],
   "source": [
    "xgb_predictor.delete_endpoint()"
   ]
  },
  {
   "cell_type": "markdown",
   "metadata": {},
   "source": [
    "# Final Results\n",
    "\n",
    "Comparing all the performance using xtrain, ytrain"
   ]
  },
  {
   "cell_type": "code",
   "execution_count": 34,
   "metadata": {},
   "outputs": [
    {
     "data": {
      "text/html": [
       "<div>\n",
       "<style scoped>\n",
       "    .dataframe tbody tr th:only-of-type {\n",
       "        vertical-align: middle;\n",
       "    }\n",
       "\n",
       "    .dataframe tbody tr th {\n",
       "        vertical-align: top;\n",
       "    }\n",
       "\n",
       "    .dataframe thead th {\n",
       "        text-align: right;\n",
       "    }\n",
       "</style>\n",
       "<table border=\"1\" class=\"dataframe\">\n",
       "  <thead>\n",
       "    <tr style=\"text-align: right;\">\n",
       "      <th></th>\n",
       "      <th>Classifier Type</th>\n",
       "      <th>accuracy</th>\n",
       "      <th>F1Score</th>\n",
       "    </tr>\n",
       "  </thead>\n",
       "  <tbody>\n",
       "    <tr>\n",
       "      <th>0</th>\n",
       "      <td>Best Tuned Random Forest</td>\n",
       "      <td>0.727504</td>\n",
       "      <td>0.736179</td>\n",
       "    </tr>\n",
       "    <tr>\n",
       "      <th>1</th>\n",
       "      <td>Tuned Random Forest</td>\n",
       "      <td>0.725496</td>\n",
       "      <td>0.734673</td>\n",
       "    </tr>\n",
       "    <tr>\n",
       "      <th>2</th>\n",
       "      <td>Tuned XG Boost via SageMaker</td>\n",
       "      <td>0.716856</td>\n",
       "      <td>0.719486</td>\n",
       "    </tr>\n",
       "    <tr>\n",
       "      <th>3</th>\n",
       "      <td>XG Boost via SageMaker</td>\n",
       "      <td>0.714000</td>\n",
       "      <td>0.715000</td>\n",
       "    </tr>\n",
       "    <tr>\n",
       "      <th>4</th>\n",
       "      <td>Logistic Regression</td>\n",
       "      <td>0.698991</td>\n",
       "      <td>0.698347</td>\n",
       "    </tr>\n",
       "    <tr>\n",
       "      <th>5</th>\n",
       "      <td>Random Forest</td>\n",
       "      <td>0.698915</td>\n",
       "      <td>0.720658</td>\n",
       "    </tr>\n",
       "    <tr>\n",
       "      <th>6</th>\n",
       "      <td>Tuned Logistic Regression</td>\n",
       "      <td>0.698254</td>\n",
       "      <td>0.694206</td>\n",
       "    </tr>\n",
       "  </tbody>\n",
       "</table>\n",
       "</div>"
      ],
      "text/plain": [
       "                Classifier Type  accuracy   F1Score\n",
       "0      Best Tuned Random Forest  0.727504  0.736179\n",
       "1           Tuned Random Forest  0.725496  0.734673\n",
       "2  Tuned XG Boost via SageMaker  0.716856  0.719486\n",
       "3        XG Boost via SageMaker  0.714000  0.715000\n",
       "4           Logistic Regression  0.698991  0.698347\n",
       "5                 Random Forest  0.698915  0.720658\n",
       "6     Tuned Logistic Regression  0.698254  0.694206"
      ]
     },
     "execution_count": 34,
     "metadata": {},
     "output_type": "execute_result"
    }
   ],
   "source": [
    "model_performance_results = []\n",
    "\n",
    "classifier_type = ['XG Boost via SageMaker',\n",
    "                   'Tuned XG Boost via SageMaker',\n",
    "                   'Tuned Logistic Regression',\n",
    "                   'Tuned Random Forest',\n",
    "                   'Best Tuned Random Forest',\n",
    "                   'Random Forest',\n",
    "                   'Logistic Regression']\n",
    "model_performance_results.append((0.714000, 0.715000))\n",
    "model_performance_results.append((0.716856, 0.719486))\n",
    "model_performance_results.append(get_model_performance_score(lr_randomized_search_cv.best_estimator_, X_train, y_train))\n",
    "model_performance_results.append(get_model_performance_score(rf_randomized_search_cv.best_estimator_, X_train, y_train))\n",
    "model_performance_results.append(get_model_performance_score(best_model.best_estimator_, X_train, y_train))\n",
    "model_performance_results.append(get_model_performance_score(rf_initial_model, X_train, y_train))\n",
    "model_performance_results.append(get_model_performance_score(lr_initial_model, X_train, y_train))\n",
    "\n",
    "model_performance_results = pd.DataFrame(model_performance_results, columns=['accuracy', 'F1Score'])\n",
    "classifier_type = pd.DataFrame(classifier_type, columns=['Classifier Type'])\n",
    "model_performance_results = pd.concat([classifier_type, model_performance_results], axis=1)\n",
    "model_performance_results = model_performance_results.sort_values('accuracy', ascending=False)\n",
    "model_performance_results = model_performance_results.reset_index(drop=True)\n",
    "model_performance_results\n",
    "\n"
   ]
  },
  {
   "cell_type": "markdown",
   "metadata": {},
   "source": [
    "Comparing all the model performance using ytrain, ytest"
   ]
  },
  {
   "cell_type": "code",
   "execution_count": 35,
   "metadata": {},
   "outputs": [
    {
     "data": {
      "text/html": [
       "<div>\n",
       "<style scoped>\n",
       "    .dataframe tbody tr th:only-of-type {\n",
       "        vertical-align: middle;\n",
       "    }\n",
       "\n",
       "    .dataframe tbody tr th {\n",
       "        vertical-align: top;\n",
       "    }\n",
       "\n",
       "    .dataframe thead th {\n",
       "        text-align: right;\n",
       "    }\n",
       "</style>\n",
       "<table border=\"1\" class=\"dataframe\">\n",
       "  <thead>\n",
       "    <tr style=\"text-align: right;\">\n",
       "      <th></th>\n",
       "      <th>Classifier Type</th>\n",
       "      <th>accuracy</th>\n",
       "      <th>F1Score</th>\n",
       "    </tr>\n",
       "  </thead>\n",
       "  <tbody>\n",
       "    <tr>\n",
       "      <th>0</th>\n",
       "      <td>Tuned XG Boost via SageMaker</td>\n",
       "      <td>0.716856</td>\n",
       "      <td>0.719486</td>\n",
       "    </tr>\n",
       "    <tr>\n",
       "      <th>1</th>\n",
       "      <td>XG Boost via SageMaker</td>\n",
       "      <td>0.714000</td>\n",
       "      <td>0.715000</td>\n",
       "    </tr>\n",
       "    <tr>\n",
       "      <th>2</th>\n",
       "      <td>Best Tuned Random Forest</td>\n",
       "      <td>0.708165</td>\n",
       "      <td>0.715221</td>\n",
       "    </tr>\n",
       "    <tr>\n",
       "      <th>3</th>\n",
       "      <td>Tuned Random Forest</td>\n",
       "      <td>0.707326</td>\n",
       "      <td>0.714890</td>\n",
       "    </tr>\n",
       "    <tr>\n",
       "      <th>4</th>\n",
       "      <td>Logistic Regression</td>\n",
       "      <td>0.704429</td>\n",
       "      <td>0.702342</td>\n",
       "    </tr>\n",
       "    <tr>\n",
       "      <th>5</th>\n",
       "      <td>Tuned Logistic Regression</td>\n",
       "      <td>0.700618</td>\n",
       "      <td>0.694611</td>\n",
       "    </tr>\n",
       "    <tr>\n",
       "      <th>6</th>\n",
       "      <td>Random Forest</td>\n",
       "      <td>0.696272</td>\n",
       "      <td>0.715550</td>\n",
       "    </tr>\n",
       "  </tbody>\n",
       "</table>\n",
       "</div>"
      ],
      "text/plain": [
       "                Classifier Type  accuracy   F1Score\n",
       "0  Tuned XG Boost via SageMaker  0.716856  0.719486\n",
       "1        XG Boost via SageMaker  0.714000  0.715000\n",
       "2      Best Tuned Random Forest  0.708165  0.715221\n",
       "3           Tuned Random Forest  0.707326  0.714890\n",
       "4           Logistic Regression  0.704429  0.702342\n",
       "5     Tuned Logistic Regression  0.700618  0.694611\n",
       "6                 Random Forest  0.696272  0.715550"
      ]
     },
     "execution_count": 35,
     "metadata": {},
     "output_type": "execute_result"
    }
   ],
   "source": [
    "model_performance_results = []\n",
    "\n",
    "classifier_type = ['XG Boost via SageMaker',\n",
    "                   'Tuned XG Boost via SageMaker',\n",
    "                   'Tuned Logistic Regression',\n",
    "                   'Tuned Random Forest',\n",
    "                   'Best Tuned Random Forest',\n",
    "                   'Random Forest',\n",
    "                   'Logistic Regression']\n",
    "model_performance_results.append((0.714000, 0.715000))\n",
    "model_performance_results.append((0.716856, 0.719486))\n",
    "model_performance_results.append(get_model_performance_score(lr_randomized_search_cv.best_estimator_, X_test, y_test))\n",
    "model_performance_results.append(get_model_performance_score(rf_randomized_search_cv.best_estimator_, X_test, y_test))\n",
    "model_performance_results.append(get_model_performance_score(best_model.best_estimator_, X_test, y_test))\n",
    "model_performance_results.append(get_model_performance_score(rf_initial_model, X_test, y_test))\n",
    "model_performance_results.append(get_model_performance_score(lr_initial_model, X_test, y_test))\n",
    "\n",
    "model_performance_results = pd.DataFrame(model_performance_results, columns=['accuracy', 'F1Score'])\n",
    "classifier_type = pd.DataFrame(classifier_type, columns=['Classifier Type'])\n",
    "model_performance_results = pd.concat([classifier_type, model_performance_results], axis=1)\n",
    "model_performance_results = model_performance_results.sort_values('accuracy', ascending=False)\n",
    "model_performance_results = model_performance_results.reset_index(drop=True)\n",
    "model_performance_results\n",
    "\n"
   ]
  },
  {
   "cell_type": "code",
   "execution_count": 45,
   "metadata": {},
   "outputs": [
    {
     "data": {
      "text/html": [
       "<div>\n",
       "<style scoped>\n",
       "    .dataframe tbody tr th:only-of-type {\n",
       "        vertical-align: middle;\n",
       "    }\n",
       "\n",
       "    .dataframe tbody tr th {\n",
       "        vertical-align: top;\n",
       "    }\n",
       "\n",
       "    .dataframe thead th {\n",
       "        text-align: right;\n",
       "    }\n",
       "</style>\n",
       "<table border=\"1\" class=\"dataframe\">\n",
       "  <thead>\n",
       "    <tr style=\"text-align: right;\">\n",
       "      <th></th>\n",
       "      <th>0</th>\n",
       "      <th>1</th>\n",
       "    </tr>\n",
       "  </thead>\n",
       "  <tbody>\n",
       "    <tr>\n",
       "      <th>tuner name</th>\n",
       "      <td>xgboost-220120-1408</td>\n",
       "      <td>xgboost-220121-1321</td>\n",
       "    </tr>\n",
       "    <tr>\n",
       "      <th>best-training-job</th>\n",
       "      <td>xgboost-220121-1238-029-07256d0e</td>\n",
       "      <td>xgboost-220121-1321-029-2510f94e</td>\n",
       "    </tr>\n",
       "    <tr>\n",
       "      <th>auc</th>\n",
       "      <td>0.7824910283088684</td>\n",
       "      <td>0.7847660183906555</td>\n",
       "    </tr>\n",
       "    <tr>\n",
       "      <th>early_stopping_rounds</th>\n",
       "      <td>30</td>\n",
       "      <td>30</td>\n",
       "    </tr>\n",
       "    <tr>\n",
       "      <th>eta</th>\n",
       "      <td>0.035610065513557596</td>\n",
       "      <td>2.927982866805479</td>\n",
       "    </tr>\n",
       "    <tr>\n",
       "      <th>gamma</th>\n",
       "      <td>3.5</td>\n",
       "      <td>2.927982866805479</td>\n",
       "    </tr>\n",
       "    <tr>\n",
       "      <th>max_delta_step</th>\n",
       "      <td>3</td>\n",
       "      <td>3</td>\n",
       "    </tr>\n",
       "    <tr>\n",
       "      <th>max_depth</th>\n",
       "      <td>8</td>\n",
       "      <td>8</td>\n",
       "    </tr>\n",
       "    <tr>\n",
       "      <th>min_child_weight</th>\n",
       "      <td>5</td>\n",
       "      <td>3</td>\n",
       "    </tr>\n",
       "    <tr>\n",
       "      <th>num_round</th>\n",
       "      <td>712</td>\n",
       "      <td>730</td>\n",
       "    </tr>\n",
       "    <tr>\n",
       "      <th>silent</th>\n",
       "      <td>0</td>\n",
       "      <td>0</td>\n",
       "    </tr>\n",
       "    <tr>\n",
       "      <th>subsample</th>\n",
       "      <td>0.7903352212645166</td>\n",
       "      <td>0.7979210498324821</td>\n",
       "    </tr>\n",
       "    <tr>\n",
       "      <th>accuracy score</th>\n",
       "      <td>0.714000</td>\n",
       "      <td>0.716856</td>\n",
       "    </tr>\n",
       "    <tr>\n",
       "      <th>F1 Score</th>\n",
       "      <td>0.715000</td>\n",
       "      <td>0.719486</td>\n",
       "    </tr>\n",
       "  </tbody>\n",
       "</table>\n",
       "</div>"
      ],
      "text/plain": [
       "                                                      0  \\\n",
       "tuner name                          xgboost-220120-1408   \n",
       "best-training-job      xgboost-220121-1238-029-07256d0e   \n",
       "auc                                  0.7824910283088684   \n",
       "early_stopping_rounds                                30   \n",
       "eta                                0.035610065513557596   \n",
       "gamma                                               3.5   \n",
       "max_delta_step                                        3   \n",
       "max_depth                                             8   \n",
       "min_child_weight                                      5   \n",
       "num_round                                           712   \n",
       "silent                                                0   \n",
       "subsample                            0.7903352212645166   \n",
       "accuracy score                                 0.714000   \n",
       "F1 Score                                       0.715000   \n",
       "\n",
       "                                                      1  \n",
       "tuner name                          xgboost-220121-1321  \n",
       "best-training-job      xgboost-220121-1321-029-2510f94e  \n",
       "auc                                  0.7847660183906555  \n",
       "early_stopping_rounds                                30  \n",
       "eta                                   2.927982866805479  \n",
       "gamma                                 2.927982866805479  \n",
       "max_delta_step                                        3  \n",
       "max_depth                                             8  \n",
       "min_child_weight                                      3  \n",
       "num_round                                           730  \n",
       "silent                                                0  \n",
       "subsample                            0.7979210498324821  \n",
       "accuracy score                                 0.716856  \n",
       "F1 Score                                       0.719486  "
      ]
     },
     "execution_count": 45,
     "metadata": {},
     "output_type": "execute_result"
    }
   ],
   "source": [
    "parameter_performance_results_XGB = []\n",
    "parameter_performance_results_XGB.append(('xgboost-220120-1408','xgboost-220121-1238-029-07256d0e','0.7824910283088684','30','0.035610065513557596','3.5','3', '8','5','712','0','0.7903352212645166','0.714000', '0.715000'))\n",
    "parameter_performance_results_XGB.append(('xgboost-220121-1321','xgboost-220121-1321-029-2510f94e','0.7847660183906555','30','2.927982866805479', '2.927982866805479','3', '8','3','730','0','0.7979210498324821', '0.716856', '0.719486'))\n",
    "parameter_performance_results_XGB = pd.DataFrame(parameter_performance_results_XGB, columns=['tuner name','best-training-job','auc','early_stopping_rounds', 'eta', 'gamma','max_delta_step','max_depth','min_child_weight','num_round','silent','subsample','accuracy score', 'F1 Score'])\n",
    "parameter_performance_results_XGB\n",
    "parameter_performance_results_XGB.transpose()"
   ]
  },
  {
   "cell_type": "markdown",
   "metadata": {},
   "source": [
    "# Conclusion"
   ]
  },
  {
   "cell_type": "markdown",
   "metadata": {},
   "source": [
    "References"
   ]
  },
  {
   "cell_type": "markdown",
   "metadata": {},
   "source": [
    "* https://www.udacity.com/course/aws-machine-learning-engineer-nanodegree--nd189\n",
    "* https://pandas.pydata.org/pandas-docs/stable/user_guide/merging.html\n",
    "* https://machinelearningmastery.com/calculate-feature-importance-with-python/\n",
    "* https://www.youtube.com/watch?v=Q5dH5mOQ_ik\n",
    "* https://github.com/udacity/sagemaker-deployment/blob/master/Tutorials/Boston%20Housing%20-%20XGBoost%20(Batch%20Transform)%20-%20High%20Level.ipynb\n",
    "* https://docs.aws.amazon.com/sagemaker/latest/dg/xgboost_hyperparameters.html"
   ]
  },
  {
   "cell_type": "markdown",
   "metadata": {},
   "source": []
  },
  {
   "cell_type": "code",
   "execution_count": null,
   "metadata": {},
   "outputs": [],
   "source": [
    "# Convert the notebook into a html file\n",
    "!!jupyter nbconvert *.ipynb"
   ]
  }
 ],
 "metadata": {
  "interpreter": {
   "hash": "52c10555edaf1b3c907776762cd45e04fe1b9772df0a6f8de6eb33cfb88695f2"
  },
  "kernelspec": {
   "display_name": "conda_python3",
   "language": "python",
   "name": "conda_python3"
  },
  "language_info": {
   "codemirror_mode": {
    "name": "ipython",
    "version": 3
   },
   "file_extension": ".py",
   "mimetype": "text/x-python",
   "name": "python",
   "nbconvert_exporter": "python",
   "pygments_lexer": "ipython3",
   "version": "3.6.13"
  }
 },
 "nbformat": 4,
 "nbformat_minor": 2
}
